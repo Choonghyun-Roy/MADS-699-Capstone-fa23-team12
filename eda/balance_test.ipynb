{
 "cells": [
  {
   "cell_type": "code",
   "execution_count": 12,
   "metadata": {},
   "outputs": [],
   "source": [
    "import pandas as pd\n",
    "\n",
    "df_40 = pd.read_csv('../feature_extraction/features/grouped_umap_40_df.csv')\n",
    "df_90 = pd.read_csv('../feature_extraction/features/grouped_umap_pca_90_df.csv')"
   ]
  },
  {
   "cell_type": "code",
   "execution_count": 11,
   "metadata": {},
   "outputs": [
    {
     "data": {
      "text/plain": [
       "21    263\n",
       "30    261\n",
       "17    259\n",
       "12    256\n",
       "23    252\n",
       "1     250\n",
       "38    231\n",
       "5     231\n",
       "8     229\n",
       "24    228\n",
       "29    226\n",
       "16    223\n",
       "9     223\n",
       "32    222\n",
       "19    220\n",
       "31    212\n",
       "3     212\n",
       "11    209\n",
       "4     208\n",
       "18    205\n",
       "0     201\n",
       "37    200\n",
       "28    198\n",
       "13    197\n",
       "2     196\n",
       "15    195\n",
       "35    192\n",
       "6     186\n",
       "7     184\n",
       "22    183\n",
       "25    182\n",
       "14    181\n",
       "33    170\n",
       "39    165\n",
       "36    152\n",
       "34    152\n",
       "26    149\n",
       "10    145\n",
       "20    126\n",
       "27     23\n",
       "Name: KMeans_umap_Labels, dtype: int64"
      ]
     },
     "execution_count": 11,
     "metadata": {},
     "output_type": "execute_result"
    }
   ],
   "source": [
    "df_40['KMeans_umap_Labels'].value_counts()"
   ]
  },
  {
   "cell_type": "code",
   "execution_count": 13,
   "metadata": {},
   "outputs": [
    {
     "data": {
      "text/plain": [
       "21    263\n",
       "30    261\n",
       "17    259\n",
       "12    256\n",
       "23    252\n",
       "1     250\n",
       "38    231\n",
       "5     231\n",
       "8     229\n",
       "24    228\n",
       "29    226\n",
       "16    223\n",
       "9     223\n",
       "32    222\n",
       "19    220\n",
       "31    212\n",
       "3     212\n",
       "11    209\n",
       "4     208\n",
       "18    205\n",
       "0     201\n",
       "37    200\n",
       "28    198\n",
       "13    197\n",
       "2     196\n",
       "15    195\n",
       "35    192\n",
       "6     186\n",
       "7     184\n",
       "22    183\n",
       "25    182\n",
       "14    181\n",
       "33    170\n",
       "39    165\n",
       "36    152\n",
       "34    152\n",
       "26    149\n",
       "10    145\n",
       "20    126\n",
       "27     23\n",
       "Name: KMeans_umap_Labels, dtype: int64"
      ]
     },
     "execution_count": 13,
     "metadata": {},
     "output_type": "execute_result"
    }
   ],
   "source": [
    "df_90['KMeans_umap_Labels'].value_counts()"
   ]
  }
 ],
 "metadata": {
  "kernelspec": {
   "display_name": "venv",
   "language": "python",
   "name": "python3"
  },
  "language_info": {
   "codemirror_mode": {
    "name": "ipython",
    "version": 3
   },
   "file_extension": ".py",
   "mimetype": "text/x-python",
   "name": "python",
   "nbconvert_exporter": "python",
   "pygments_lexer": "ipython3",
   "version": "3.9.12"
  },
  "orig_nbformat": 4
 },
 "nbformat": 4,
 "nbformat_minor": 2
}
