{
 "cells": [
  {
   "cell_type": "code",
   "execution_count": null,
   "metadata": {},
   "outputs": [],
   "source": [
    "# Iterate the feature_extract function according to the \"tracks_with_genre_medium.csv\""
   ]
  },
  {
   "cell_type": "code",
   "execution_count": 2,
   "metadata": {},
   "outputs": [],
   "source": [
    "import librosa as lb\n",
    "import csv\n",
    "import numpy as np\n",
    "import pandas as pd\n",
    "import os\n",
    "import essentia.standard as es"
   ]
  },
  {
   "cell_type": "code",
   "execution_count": 4,
   "metadata": {},
   "outputs": [],
   "source": [
    "# You should have mp3 audio files the following path or change the path according to the location.\"\n",
    "AUDIO_FILE_HOME='../datasets/fma_medium_flatten/'\n",
    "\n",
    "# The location for output files\n",
    "FEATURE_OUTPUT_HOME='raw/features'\n",
    "\n",
    "# The location for meta data file for audio\n",
    "META_FILE = 'raw/meta/tracks_with_genre_medium.csv'"
   ]
  },
  {
   "cell_type": "code",
   "execution_count": 3,
   "metadata": {},
   "outputs": [],
   "source": [
    "def save_to_csv(data, columns, output_filename):\n",
    "    df = pd.DataFrame([data], columns=columns)\n",
    "    df.to_csv(f\"{FEATURE_OUTPUT_HOME}/{output_filename}\", mode='a', header=False, index=False)\n",
    "\n",
    "def extract_feature_stats(y, sr, feature_func, *args, **kwargs):\n",
    "    feature_values = feature_func(y=y, sr=sr, *args, **kwargs)\n",
    "    mean = np.mean(feature_values, axis=1)\n",
    "    var = np.var(feature_values, axis=1)\n",
    "    return mean, var   # Returns mean and variance\n",
    "\n",
    "def extract_zero_crossings(y, sr, filename, output_filename):\n",
    "    zero_crossings = np.sum(lb.zero_crossings(y))\n",
    "    save_to_csv([filename, zero_crossings], ['track_id', 'zero_crossings'], output_filename)\n",
    "\n",
    "def extract_tempo(y, sr, filename, output_filename):\n",
    "    onset_env = lb.onset.onset_strength(y=y, sr=sr)\n",
    "    tempo, _ = lb.beat.beat_track(onset_envelope=onset_env, sr=sr)\n",
    "    # Since tempo is a single value, variance is not applicable. We save tempo as is.\n",
    "    save_to_csv([filename, tempo], ['track_id', 'tempo'], output_filename)\n",
    "\n",
    "def extract_spectral_centroid(y, sr, filename, output_filename):\n",
    "    spectral_centroid = lb.feature.spectral_centroid(y=y, sr=sr)\n",
    "    sc_mean, sc_var = np.mean(spectral_centroid), np.var(spectral_centroid)\n",
    "    save_to_csv([filename, sc_mean, sc_var], ['track_id', 'spectral_centroid_mean', 'spectral_centroid_var'], output_filename)\n",
    "\n",
    "def extract_spectral_rolloff(y, sr, filename, output_filename):\n",
    "    spectral_rolloff = lb.feature.spectral_rolloff(y=y, sr=sr)\n",
    "    sr_mean, sr_var = np.mean(spectral_rolloff), np.var(spectral_rolloff)\n",
    "    save_to_csv([filename, sr_mean, sr_var], ['track_id', 'spectral_rolloff_mean', 'spectral_rolloff_var'], output_filename)\n",
    "\n",
    "def extract_chroma_stft(y, sr, filename, output_filename):\n",
    "    chroma_mean, chroma_var = extract_feature_stats(y, sr, lb.feature.chroma_stft)\n",
    "    data = [filename] + list(chroma_mean) + list(chroma_var)\n",
    "    columns = ['track_id'] + [f'chroma_stft_{i}_mean' for i in range(12)] + [f'chroma_stft_{i}_var' for i in range(12)]\n",
    "    save_to_csv(data, columns, output_filename)\n",
    "\n",
    "def extract_mfccs(y, sr, filename, output_filename):\n",
    "    mfccs_mean, mfccs_var = extract_feature_stats(y, sr, lb.feature.mfcc, n_mfcc=20)\n",
    "    data = [filename] + list(mfccs_mean) + list(mfccs_var)\n",
    "    columns = ['track_id'] + [f'MFCC_{i}_mean' for i in range(1, 21)] + [f'MFCC_{i}_var' for i in range(1, 21)]\n",
    "    save_to_csv(data, columns, output_filename)\n",
    "\n",
    "def extract_harmony_percussive(y, sr, filename, output_filename):\n",
    "    y_harmonic, y_percussive = lb.effects.hpss(y)\n",
    "    rms_harmonic_mean = np.mean(lb.feature.rms(y=y_harmonic))\n",
    "    rms_harmonic_var = np.var(lb.feature.rms(y=y_harmonic))\n",
    "    rms_percussive_mean = np.mean(lb.feature.rms(y=y_percussive))\n",
    "    rms_percussive_var = np.var(lb.feature.rms(y=y_percussive))\n",
    "    save_to_csv([filename, rms_harmonic_mean, rms_harmonic_var, rms_percussive_mean, rms_percussive_var], \n",
    "                ['track_id', 'rms_harmonic_mean', 'rms_harmonic_var', 'rms_percussive_mean', 'rms_percussive_var'], output_filename)\n",
    "    \n",
    "def extract_key_scale(filename, ouput_filename):  \n",
    "    track_id = filename[:-4]\n",
    "     \n",
    "    loader = es.MonoLoader(filename=f\"{AUDIO_FILE_HOME}{filename}\")\n",
    "    audio = loader()\n",
    "\n",
    "    # Extract the key and scale (mode)\n",
    "    key_extractor = es.KeyExtractor()\n",
    "    key, scale, strength = key_extractor(audio)\n",
    "\n",
    "    # print(f\"Key: {key}, Scale: {scale}, Strength: {strength}\")\n",
    "    save_to_csv([track_id, key, scale, strength],['track_id', 'key', 'scale', 'strength'], ouput_filename)\n",
    "    \n",
    "# Add more feature extraction functions if necessary, following the pattern shown above."
   ]
  },
  {
   "cell_type": "code",
   "execution_count": 12,
   "metadata": {},
   "outputs": [],
   "source": [
    "# Create CSV headers\n",
    "headers = {\n",
    "    'zero_crossings_m.csv': ['track_id', 'zero_crossings'],\n",
    "    'tempo_m.csv': ['track_id', 'tempo'],\n",
    "    'spectral_centroid_m.csv': ['track_id', 'spectral_centroid_mean', 'spectral_centroid_var'],\n",
    "    'spectral_rolloff_m.csv': ['track_id', 'spectral_rolloff_mean', 'spectral_rolloff_var'],\n",
    "    'chroma_stft_m.csv': ['track_id'] + [f'chroma_stft_{i}_mean' for i in range(12)] + [f'chroma_stft_{i}_var' for i in range(12)],\n",
    "    'mfccs_m.csv': ['track_id'] + [f'MFCC_{i}_mean' for i in range(1, 21)] + [f'MFCC_{i}_var' for i in range(1, 21)],\n",
    "    'hpss_m.csv': ['track_id', 'rms_harmonic_mean', 'rms_harmonic_var', 'rms_percussive_mean', 'rms_percussive_var'],\n",
    "    'key_scale_m.csv': ['track_id', 'key', 'scale', 'strength']\n",
    "}\n",
    "\n",
    "for key, value in headers.items():\n",
    "    pd.DataFrame(columns=value).to_csv(f\"{FEATURE_OUTPUT_HOME}/{key}\", index=False)"
   ]
  },
  {
   "cell_type": "code",
   "execution_count": 5,
   "metadata": {},
   "outputs": [],
   "source": [
    "# to operate seperately \n",
    "def split_list_by_three(lst):\n",
    "    # Determine the length of each chunk\n",
    "    chunk_size = len(lst) // 3\n",
    "    remainder = len(lst) % 3\n",
    "\n",
    "    # Initialize the indices for slicing\n",
    "    first_cut = chunk_size + (1 if remainder > 0 else 0)\n",
    "    second_cut = first_cut + chunk_size + (1 if remainder > 1 else 0)\n",
    "\n",
    "    # Split the list\n",
    "    first_part = lst[0:first_cut]\n",
    "    second_part = lst[first_cut:second_cut]\n",
    "    third_part = lst[second_cut:]\n",
    "\n",
    "    return first_part, second_part, third_part"
   ]
  },
  {
   "cell_type": "code",
   "execution_count": 8,
   "metadata": {},
   "outputs": [],
   "source": [
    "file_list = sorted(os.listdir(AUDIO_FILE_HOME))\n",
    "# to operate seperately\n",
    "# first, second, third = split_list_by_three(file_list)"
   ]
  },
  {
   "cell_type": "code",
   "execution_count": 9,
   "metadata": {},
   "outputs": [
    {
     "data": {
      "text/plain": [
       "25000"
      ]
     },
     "execution_count": 9,
     "metadata": {},
     "output_type": "execute_result"
    }
   ],
   "source": [
    "len(file_list)"
   ]
  },
  {
   "cell_type": "code",
   "execution_count": null,
   "metadata": {},
   "outputs": [],
   "source": [
    "\n",
    "# This takes a lot of time. Can skip and use the already exising files.\n",
    "print(\"total number: \", len(file_list))\n",
    "for index, filename in enumerate(file_list):\n",
    "    track_id = filename[:-4]\n",
    "    # print(f\"track_id: \", track_id)\n",
    "    # print(f\"filename: \", filename)\n",
    "    if index % 100 == 0:\n",
    "        print('complete: {index} / ', filename)\n",
    "    try:\n",
    "        y, sr = lb.load(f\"{AUDIO_FILE_HOME}{filename}\") \n",
    "        extract_zero_crossings(y, sr, track_id, 'zero_crossings_m.csv')\n",
    "        extract_tempo(y, sr, track_id, 'tempo_m.csv')\n",
    "        extract_spectral_centroid(y, sr, track_id, 'spectral_centroid_m.csv')\n",
    "        extract_spectral_rolloff(y, sr, track_id, 'spectral_rolloff_m.csv')\n",
    "        extract_chroma_stft(y, sr, track_id, 'chroma_stft_m.csv')\n",
    "        extract_mfccs(y, sr, track_id, 'mfccs_m.csv')  \n",
    "        extract_harmony_percussive(y, sr, track_id, 'hpss_m.csv') \n",
    "        extract_key_scale(filename, 'key_scale_m.csv')\n",
    "    except Exception as e:\n",
    "        print(index)\n",
    "        print(e)\n",
    "        "
   ]
  },
  {
   "cell_type": "code",
   "execution_count": 15,
   "metadata": {},
   "outputs": [],
   "source": [
    "## merge features into a single file\n",
    "\n",
    "file_names = [\"tempo_m\", \"hpss_m\", \"spectral_centroid_m\", \"spectral_rolloff_m\", \"zero_crossings_m\", \"chroma_stft_m\", \"mfccs_m\", 'key_scale_m']\n",
    "\n",
    "# Using a list comprehension to read all dataframes into a list\n",
    "dfs = [pd.read_csv(f\"{FEATURE_OUTPUT_HOME}/{file_name}.csv\") for file_name in file_names]\n",
    "\n",
    "# Refactoring the merging process to be more concise\n",
    "merged_df = dfs[0]\n",
    "for df in dfs[1:]:\n",
    "    merged_df = merged_df.merge(df, on='track_id', how='outer')\n",
    "    "
   ]
  },
  {
   "cell_type": "code",
   "execution_count": 16,
   "metadata": {},
   "outputs": [],
   "source": [
    "# save the feature information\n",
    "merged_df.to_csv(f\"{FEATURE_OUTPUT_HOME}/all_features_medium_with_var.csv\")"
   ]
  }
 ],
 "metadata": {
  "kernelspec": {
   "display_name": "venv",
   "language": "python",
   "name": "python3"
  },
  "language_info": {
   "codemirror_mode": {
    "name": "ipython",
    "version": 3
   },
   "file_extension": ".py",
   "mimetype": "text/x-python",
   "name": "python",
   "nbconvert_exporter": "python",
   "pygments_lexer": "ipython3",
   "version": "3.9.12"
  },
  "orig_nbformat": 4
 },
 "nbformat": 4,
 "nbformat_minor": 2
}
