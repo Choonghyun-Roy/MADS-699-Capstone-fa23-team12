{
 "cells": [
  {
   "cell_type": "code",
   "execution_count": 5,
   "metadata": {},
   "outputs": [],
   "source": [
    "## This code is to make genre hierarchy based on multi sub-genre tracks.\n",
    "## May not used for training model, since we will use top genre as our label. But used for preprocessing.\n",
    "\n",
    "import pandas as pd\n",
    "import ast\n",
    "import missingno as msno\n",
    "import networkx as nx\n",
    "import matplotlib.pyplot as plt"
   ]
  },
  {
   "cell_type": "code",
   "execution_count": 6,
   "metadata": {},
   "outputs": [],
   "source": [
    "## Define file locations\n",
    "TRACK_FILE = 'raw/meta/tracks.csv'\n",
    "GENRE_FILE = 'raw/meta/genres.csv'"
   ]
  },
  {
   "cell_type": "code",
   "execution_count": 7,
   "metadata": {},
   "outputs": [
    {
     "name": "stderr",
     "output_type": "stream",
     "text": [
      "/var/folders/np/f11s751j4dj_y_1cj4yxydpwpsr474/T/ipykernel_60442/1357155781.py:2: DtypeWarning: Columns (0) have mixed types. Specify dtype option on import or set low_memory=False.\n",
      "  track_df = pd.read_csv(TRACK_FILE, header=[0,1])\n"
     ]
    }
   ],
   "source": [
    "## Read tracks file, change column names, remove unnecessary rows\n",
    "track_df = pd.read_csv(TRACK_FILE, header=[0,1])\n",
    "new_columns = ['_'.join(col).strip() for col in track_df.columns.values]\n",
    "track_df.columns = new_columns\n",
    "track_df = track_df.rename(columns={'Unnamed: 0_level_0_Unnamed: 0_level_1': 'track_id'})\n",
    "track_df = track_df.iloc[1:]"
   ]
  },
  {
   "cell_type": "code",
   "execution_count": 8,
   "metadata": {},
   "outputs": [],
   "source": [
    "## Read genres file\n",
    "genre_df = pd.read_csv(GENRE_FILE)"
   ]
  },
  {
   "cell_type": "code",
   "execution_count": 9,
   "metadata": {},
   "outputs": [],
   "source": [
    "## Create directed graph (Tree) of genre\n",
    "G = nx.DiGraph()\n",
    "\n",
    "for index, row in genre_df.iterrows():\n",
    "    G.add_node(row['genre_id'], label=row['title'])\n",
    "    \n",
    "for index, row in genre_df.iterrows():\n",
    "    if pd.notna(row['parent']):\n",
    "        G.add_edge(row['parent'], row['genre_id'])"
   ]
  },
  {
   "cell_type": "code",
   "execution_count": 10,
   "metadata": {},
   "outputs": [],
   "source": [
    "def get_lineage(node, G, genre_df):\n",
    "    lineage_ids = [node]\n",
    "    if node == 0:\n",
    "        lineage_names = ['root']\n",
    "    else:\n",
    "        lineage_names = [genre_df[genre_df['genre_id'] == node]['title'].values[0]]\n",
    "    while list(G.predecessors(node)):\n",
    "        node = list(G.predecessors(node))[0]\n",
    "        if node > 0:        \n",
    "            lineage_ids.append(node)\n",
    "            lineage_names.append(genre_df[genre_df['genre_id'] == node]['title'].values[0])\n",
    "    return lineage_ids[::-1], lineage_names[::-1]  # Return in root-to-leaf order\n"
   ]
  },
  {
   "cell_type": "code",
   "execution_count": 11,
   "metadata": {},
   "outputs": [],
   "source": [
    "lineages_ids = {}\n",
    "lineages_names = {}\n",
    "for genre in G.nodes():\n",
    "    ids, names = get_lineage(genre, G, genre_df)\n",
    "    lineages_ids[genre] = ids\n",
    "    lineages_names[genre] = names\n",
    "\n",
    "# Transform lineage into DataFrame\n",
    "lineage_df_ids = pd.DataFrame.from_dict(lineages_ids, orient='index').reset_index()\n",
    "lineage_df_names = pd.DataFrame.from_dict(lineages_names, orient='index').reset_index()\n",
    "lineage_df_ids.columns = ['genre_id'] + [f'depth_{i+1}_genre_id' for i in range(lineage_df_ids.shape[1]-1)]\n",
    "lineage_df_names.columns = ['genre_id'] + [f'depth_{i+1}_genre_name' for i in range(lineage_df_names.shape[1]-1)]\n",
    "\n",
    "# Handle missing depths\n",
    "for i in range(2, lineage_df_ids.shape[1]):\n",
    "    lineage_df_ids.iloc[:, i].fillna(lineage_df_ids.iloc[:, i-1], inplace=True)\n",
    "    lineage_df_names.iloc[:, i].fillna(lineage_df_names.iloc[:, i-1], inplace=True)\n"
   ]
  },
  {
   "cell_type": "code",
   "execution_count": 12,
   "metadata": {},
   "outputs": [],
   "source": [
    "lineage_df = pd.merge(lineage_df_ids, lineage_df_names, on='genre_id')"
   ]
  },
  {
   "cell_type": "code",
   "execution_count": 13,
   "metadata": {},
   "outputs": [],
   "source": [
    "## Transfrom the track_df so that the every single row belongs to only one genre\n",
    "track_df['track_genres_lst'] = track_df['track_genres'].apply(ast.literal_eval)\n",
    "track_df_single_genre = track_df.explode('track_genres_lst')"
   ]
  },
  {
   "cell_type": "code",
   "execution_count": 14,
   "metadata": {},
   "outputs": [],
   "source": [
    "## Merge genre information into tracks\n",
    "merged_df = track_df_single_genre.merge(lineage_df, left_on='track_genres_lst', right_on='genre_id', how='left')"
   ]
  },
  {
   "cell_type": "code",
   "execution_count": 33,
   "metadata": {},
   "outputs": [],
   "source": [
    "## filter out for the purpose\n",
    "merged_df_medium = merged_df[merged_df['set_subset'].isin(['medium', 'small'])]\n",
    "merged_df_medium.to_csv('processed/tracks_with_genre_medium.csv')\n"
   ]
  },
  {
   "cell_type": "code",
   "execution_count": 34,
   "metadata": {},
   "outputs": [
    {
     "data": {
      "text/plain": [
       "25000"
      ]
     },
     "execution_count": 34,
     "metadata": {},
     "output_type": "execute_result"
    }
   ],
   "source": [
    "len(merged_df_medium['track_id'].unique())"
   ]
  },
  {
   "cell_type": "code",
   "execution_count": 35,
   "metadata": {},
   "outputs": [
    {
     "data": {
      "text/html": [
       "<div>\n",
       "<style scoped>\n",
       "    .dataframe tbody tr th:only-of-type {\n",
       "        vertical-align: middle;\n",
       "    }\n",
       "\n",
       "    .dataframe tbody tr th {\n",
       "        vertical-align: top;\n",
       "    }\n",
       "\n",
       "    .dataframe thead th {\n",
       "        text-align: right;\n",
       "    }\n",
       "</style>\n",
       "<table border=\"1\" class=\"dataframe\">\n",
       "  <thead>\n",
       "    <tr style=\"text-align: right;\">\n",
       "      <th></th>\n",
       "      <th>track_id</th>\n",
       "      <th>album_comments</th>\n",
       "      <th>album_date_created</th>\n",
       "      <th>album_date_released</th>\n",
       "      <th>album_engineer</th>\n",
       "      <th>album_favorites</th>\n",
       "      <th>album_id</th>\n",
       "      <th>album_information</th>\n",
       "      <th>album_listens</th>\n",
       "      <th>album_producer</th>\n",
       "      <th>...</th>\n",
       "      <th>depth_1_genre_id</th>\n",
       "      <th>depth_2_genre_id</th>\n",
       "      <th>depth_3_genre_id</th>\n",
       "      <th>depth_4_genre_id</th>\n",
       "      <th>depth_5_genre_id</th>\n",
       "      <th>depth_1_genre_name</th>\n",
       "      <th>depth_2_genre_name</th>\n",
       "      <th>depth_3_genre_name</th>\n",
       "      <th>depth_4_genre_name</th>\n",
       "      <th>depth_5_genre_name</th>\n",
       "    </tr>\n",
       "  </thead>\n",
       "  <tbody>\n",
       "    <tr>\n",
       "      <th>0</th>\n",
       "      <td>2</td>\n",
       "      <td>0.0</td>\n",
       "      <td>2008-11-26 01:44:45</td>\n",
       "      <td>2009-01-05 00:00:00</td>\n",
       "      <td>NaN</td>\n",
       "      <td>4.0</td>\n",
       "      <td>1.0</td>\n",
       "      <td>&lt;p&gt;&lt;/p&gt;</td>\n",
       "      <td>6073.0</td>\n",
       "      <td>NaN</td>\n",
       "      <td>...</td>\n",
       "      <td>21.0</td>\n",
       "      <td>21.0</td>\n",
       "      <td>21.0</td>\n",
       "      <td>21.0</td>\n",
       "      <td>21.0</td>\n",
       "      <td>Hip-Hop</td>\n",
       "      <td>Hip-Hop</td>\n",
       "      <td>Hip-Hop</td>\n",
       "      <td>Hip-Hop</td>\n",
       "      <td>Hip-Hop</td>\n",
       "    </tr>\n",
       "    <tr>\n",
       "      <th>1</th>\n",
       "      <td>3</td>\n",
       "      <td>0.0</td>\n",
       "      <td>2008-11-26 01:44:45</td>\n",
       "      <td>2009-01-05 00:00:00</td>\n",
       "      <td>NaN</td>\n",
       "      <td>4.0</td>\n",
       "      <td>1.0</td>\n",
       "      <td>&lt;p&gt;&lt;/p&gt;</td>\n",
       "      <td>6073.0</td>\n",
       "      <td>NaN</td>\n",
       "      <td>...</td>\n",
       "      <td>21.0</td>\n",
       "      <td>21.0</td>\n",
       "      <td>21.0</td>\n",
       "      <td>21.0</td>\n",
       "      <td>21.0</td>\n",
       "      <td>Hip-Hop</td>\n",
       "      <td>Hip-Hop</td>\n",
       "      <td>Hip-Hop</td>\n",
       "      <td>Hip-Hop</td>\n",
       "      <td>Hip-Hop</td>\n",
       "    </tr>\n",
       "    <tr>\n",
       "      <th>2</th>\n",
       "      <td>5</td>\n",
       "      <td>0.0</td>\n",
       "      <td>2008-11-26 01:44:45</td>\n",
       "      <td>2009-01-05 00:00:00</td>\n",
       "      <td>NaN</td>\n",
       "      <td>4.0</td>\n",
       "      <td>1.0</td>\n",
       "      <td>&lt;p&gt;&lt;/p&gt;</td>\n",
       "      <td>6073.0</td>\n",
       "      <td>NaN</td>\n",
       "      <td>...</td>\n",
       "      <td>21.0</td>\n",
       "      <td>21.0</td>\n",
       "      <td>21.0</td>\n",
       "      <td>21.0</td>\n",
       "      <td>21.0</td>\n",
       "      <td>Hip-Hop</td>\n",
       "      <td>Hip-Hop</td>\n",
       "      <td>Hip-Hop</td>\n",
       "      <td>Hip-Hop</td>\n",
       "      <td>Hip-Hop</td>\n",
       "    </tr>\n",
       "    <tr>\n",
       "      <th>3</th>\n",
       "      <td>10</td>\n",
       "      <td>0.0</td>\n",
       "      <td>2008-11-26 01:45:08</td>\n",
       "      <td>2008-02-06 00:00:00</td>\n",
       "      <td>NaN</td>\n",
       "      <td>4.0</td>\n",
       "      <td>6.0</td>\n",
       "      <td>NaN</td>\n",
       "      <td>47632.0</td>\n",
       "      <td>NaN</td>\n",
       "      <td>...</td>\n",
       "      <td>10.0</td>\n",
       "      <td>10.0</td>\n",
       "      <td>10.0</td>\n",
       "      <td>10.0</td>\n",
       "      <td>10.0</td>\n",
       "      <td>Pop</td>\n",
       "      <td>Pop</td>\n",
       "      <td>Pop</td>\n",
       "      <td>Pop</td>\n",
       "      <td>Pop</td>\n",
       "    </tr>\n",
       "    <tr>\n",
       "      <th>14</th>\n",
       "      <td>134</td>\n",
       "      <td>0.0</td>\n",
       "      <td>2008-11-26 01:44:45</td>\n",
       "      <td>2009-01-05 00:00:00</td>\n",
       "      <td>NaN</td>\n",
       "      <td>4.0</td>\n",
       "      <td>1.0</td>\n",
       "      <td>&lt;p&gt;&lt;/p&gt;</td>\n",
       "      <td>6073.0</td>\n",
       "      <td>NaN</td>\n",
       "      <td>...</td>\n",
       "      <td>21.0</td>\n",
       "      <td>21.0</td>\n",
       "      <td>21.0</td>\n",
       "      <td>21.0</td>\n",
       "      <td>21.0</td>\n",
       "      <td>Hip-Hop</td>\n",
       "      <td>Hip-Hop</td>\n",
       "      <td>Hip-Hop</td>\n",
       "      <td>Hip-Hop</td>\n",
       "      <td>Hip-Hop</td>\n",
       "    </tr>\n",
       "  </tbody>\n",
       "</table>\n",
       "<p>5 rows × 65 columns</p>\n",
       "</div>"
      ],
      "text/plain": [
       "   track_id  album_comments   album_date_created  album_date_released  \\\n",
       "0         2             0.0  2008-11-26 01:44:45  2009-01-05 00:00:00   \n",
       "1         3             0.0  2008-11-26 01:44:45  2009-01-05 00:00:00   \n",
       "2         5             0.0  2008-11-26 01:44:45  2009-01-05 00:00:00   \n",
       "3        10             0.0  2008-11-26 01:45:08  2008-02-06 00:00:00   \n",
       "14      134             0.0  2008-11-26 01:44:45  2009-01-05 00:00:00   \n",
       "\n",
       "   album_engineer  album_favorites  album_id album_information  album_listens  \\\n",
       "0             NaN              4.0       1.0           <p></p>         6073.0   \n",
       "1             NaN              4.0       1.0           <p></p>         6073.0   \n",
       "2             NaN              4.0       1.0           <p></p>         6073.0   \n",
       "3             NaN              4.0       6.0               NaN        47632.0   \n",
       "14            NaN              4.0       1.0           <p></p>         6073.0   \n",
       "\n",
       "   album_producer  ... depth_1_genre_id depth_2_genre_id  depth_3_genre_id  \\\n",
       "0             NaN  ...             21.0             21.0              21.0   \n",
       "1             NaN  ...             21.0             21.0              21.0   \n",
       "2             NaN  ...             21.0             21.0              21.0   \n",
       "3             NaN  ...             10.0             10.0              10.0   \n",
       "14            NaN  ...             21.0             21.0              21.0   \n",
       "\n",
       "   depth_4_genre_id depth_5_genre_id depth_1_genre_name depth_2_genre_name  \\\n",
       "0              21.0             21.0            Hip-Hop            Hip-Hop   \n",
       "1              21.0             21.0            Hip-Hop            Hip-Hop   \n",
       "2              21.0             21.0            Hip-Hop            Hip-Hop   \n",
       "3              10.0             10.0                Pop                Pop   \n",
       "14             21.0             21.0            Hip-Hop            Hip-Hop   \n",
       "\n",
       "   depth_3_genre_name  depth_4_genre_name depth_5_genre_name  \n",
       "0             Hip-Hop             Hip-Hop            Hip-Hop  \n",
       "1             Hip-Hop             Hip-Hop            Hip-Hop  \n",
       "2             Hip-Hop             Hip-Hop            Hip-Hop  \n",
       "3                 Pop                 Pop                Pop  \n",
       "14            Hip-Hop             Hip-Hop            Hip-Hop  \n",
       "\n",
       "[5 rows x 65 columns]"
      ]
     },
     "execution_count": 35,
     "metadata": {},
     "output_type": "execute_result"
    }
   ],
   "source": [
    "merged_df_medium.head()"
   ]
  },
  {
   "cell_type": "code",
   "execution_count": 36,
   "metadata": {},
   "outputs": [
    {
     "data": {
      "text/plain": [
       "training      34316\n",
       "validation     4434\n",
       "test           4255\n",
       "Name: set_split, dtype: int64"
      ]
     },
     "execution_count": 36,
     "metadata": {},
     "output_type": "execute_result"
    }
   ],
   "source": [
    "merged_df_medium.set_split.value_counts()"
   ]
  },
  {
   "cell_type": "code",
   "execution_count": 37,
   "metadata": {},
   "outputs": [],
   "source": [
    "# The following code is for future use for predicting multiple sub genres.\n",
    "\n",
    "# merged_df_med_training = merged_df_medium[merged_df_medium.set_split == 'training']\n",
    "# merged_df_med_test = merged_df_medium[merged_df_medium.set_split == 'test']\n",
    "# merged_df_med_valid = merged_df_medium[merged_df_medium.set_split == 'validation']"
   ]
  },
  {
   "cell_type": "code",
   "execution_count": 38,
   "metadata": {},
   "outputs": [],
   "source": [
    "# merged_df_med_training.to_csv('./processed/25Ktracks_with_genre_training.csv')\n",
    "# merged_df_med_test.to_csv('./processed/25Ktracks_with_genre_test.csv')\n",
    "# merged_df_med_valid.to_csv('./processed/25Ktracks_with_genre_validation.csv')\n",
    "# merged_df_medium.to_csv('./processed/25Ktracks_with_genre_all.csv')"
   ]
  }
 ],
 "metadata": {
  "kernelspec": {
   "display_name": "venv",
   "language": "python",
   "name": "python3"
  },
  "language_info": {
   "codemirror_mode": {
    "name": "ipython",
    "version": 3
   },
   "file_extension": ".py",
   "mimetype": "text/x-python",
   "name": "python",
   "nbconvert_exporter": "python",
   "pygments_lexer": "ipython3",
   "version": "3.9.12"
  },
  "orig_nbformat": 4
 },
 "nbformat": 4,
 "nbformat_minor": 2
}
