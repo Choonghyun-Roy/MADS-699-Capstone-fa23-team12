{
 "cells": [
  {
   "cell_type": "code",
   "execution_count": 1,
   "metadata": {},
   "outputs": [],
   "source": [
    "## Import necessary libraries\n",
    "import pandas as pd\n",
    "import ast\n",
    "import missingno as msno\n",
    "import networkx as nx\n",
    "import matplotlib.pyplot as plt"
   ]
  },
  {
   "cell_type": "code",
   "execution_count": 2,
   "metadata": {},
   "outputs": [],
   "source": [
    "## Define file locations\n",
    "TRACK_FILE = '../datasets/fma_metadata/tracks.csv'\n",
    "GENRE_FILE = '../datasets/fma_metadata/genres.csv'"
   ]
  },
  {
   "cell_type": "code",
   "execution_count": 5,
   "metadata": {},
   "outputs": [
    {
     "name": "stderr",
     "output_type": "stream",
     "text": [
      "/var/folders/np/f11s751j4dj_y_1cj4yxydpwpsr474/T/ipykernel_38277/3781808237.py:2: DtypeWarning: Columns (0) have mixed types. Specify dtype option on import or set low_memory=False.\n",
      "  track_df = pd.read_csv(TRACK_FILE, header=[0,1])\n"
     ]
    }
   ],
   "source": [
    "## Read tracks file, change column names, remove unnecessary rows\n",
    "track_df = pd.read_csv(TRACK_FILE, header=[0,1])\n",
    "new_columns = ['_'.join(col).strip() for col in track_df.columns.values]\n",
    "track_df.columns = new_columns\n",
    "track_df = track_df.rename(columns={'Unnamed: 0_level_0_Unnamed: 0_level_1': 'track_id'})\n",
    "track_df = track_df.iloc[1:]"
   ]
  },
  {
   "cell_type": "code",
   "execution_count": 7,
   "metadata": {},
   "outputs": [],
   "source": [
    "## Read genres file\n",
    "genre_df = pd.read_csv(GENRE_FILE)"
   ]
  },
  {
   "cell_type": "code",
   "execution_count": 8,
   "metadata": {},
   "outputs": [],
   "source": [
    "## Create directed graph (Tree) of genre\n",
    "G = nx.DiGraph()\n",
    "\n",
    "for index, row in genre_df.iterrows():\n",
    "    G.add_node(row['genre_id'], label=row['title'])\n",
    "    \n",
    "for index, row in genre_df.iterrows():\n",
    "    if pd.notna(row['parent']):\n",
    "        G.add_edge(row['parent'], row['genre_id'])"
   ]
  },
  {
   "cell_type": "code",
   "execution_count": 38,
   "metadata": {},
   "outputs": [],
   "source": [
    "def get_lineage(node, G, genre_df):\n",
    "    lineage_ids = [node]\n",
    "    lineage_names = [genre_df[genre_df['genre_id'] == node]['title'].values[0]]\n",
    "    while list(G.predecessors(node)):\n",
    "        node = list(G.predecessors(node))[0]\n",
    "        lineage_ids.append(node)\n",
    "        lineage_names.append(genre_df[genre_df['genre_id'] == node]['title'].values[0])\n",
    "    return lineage_ids[::-1], lineage_names[::-1]  # Return in root-to-leaf order\n"
   ]
  },
  {
   "cell_type": "code",
   "execution_count": 39,
   "metadata": {},
   "outputs": [
    {
     "ename": "TypeError",
     "evalue": "cannot unpack non-iterable NoneType object",
     "output_type": "error",
     "traceback": [
      "\u001b[0;31m---------------------------------------------------------------------------\u001b[0m",
      "\u001b[0;31mTypeError\u001b[0m                                 Traceback (most recent call last)",
      "Cell \u001b[0;32mIn[39], line 4\u001b[0m\n\u001b[1;32m      2\u001b[0m lineages_names \u001b[39m=\u001b[39m {}\n\u001b[1;32m      3\u001b[0m \u001b[39mfor\u001b[39;00m genre \u001b[39min\u001b[39;00m G\u001b[39m.\u001b[39mnodes():\n\u001b[0;32m----> 4\u001b[0m     ids, names \u001b[39m=\u001b[39m get_lineage(genre, G, genre_df)\n\u001b[1;32m      5\u001b[0m     lineages_ids[genre] \u001b[39m=\u001b[39m ids\n\u001b[1;32m      6\u001b[0m     lineages_names[genre] \u001b[39m=\u001b[39m names\n",
      "\u001b[0;31mTypeError\u001b[0m: cannot unpack non-iterable NoneType object"
     ]
    }
   ],
   "source": [
    "lineages_ids = {}\n",
    "lineages_names = {}\n",
    "for genre in G.nodes():\n",
    "    if genre == 0:\n",
    "        continue;\n",
    "    ids, names = get_lineage(genre, G, genre_df)\n",
    "    lineages_ids[genre] = ids\n",
    "    lineages_names[genre] = names\n",
    "\n",
    "# Transform lineage into DataFrame\n",
    "lineage_df_ids = pd.DataFrame.from_dict(lineages_ids, orient='index').reset_index()\n",
    "lineage_df_names = pd.DataFrame.from_dict(lineages_names, orient='index').reset_index()\n",
    "lineage_df_ids.columns = ['genre_id'] + [f'depth_{i+1}_genre_id' for i in range(lineage_df_ids.shape[1]-1)]\n",
    "lineage_df_names.columns = ['genre_id'] + [f'depth_{i+1}_genre_name' for i in range(lineage_df_names.shape[1]-1)]\n",
    "\n",
    "# Handle missing depths\n",
    "for i in range(2, lineage_df_ids.shape[1]):\n",
    "    lineage_df_ids.iloc[:, i].fillna(lineage_df_ids.iloc[:, i-1], inplace=True)\n",
    "    lineage_df_names.iloc[:, i].fillna(lineage_df_names.iloc[:, i-1], inplace=True)\n"
   ]
  },
  {
   "cell_type": "code",
   "execution_count": 18,
   "metadata": {},
   "outputs": [
    {
     "data": {
      "text/html": [
       "<div>\n",
       "<style scoped>\n",
       "    .dataframe tbody tr th:only-of-type {\n",
       "        vertical-align: middle;\n",
       "    }\n",
       "\n",
       "    .dataframe tbody tr th {\n",
       "        vertical-align: top;\n",
       "    }\n",
       "\n",
       "    .dataframe thead th {\n",
       "        text-align: right;\n",
       "    }\n",
       "</style>\n",
       "<table border=\"1\" class=\"dataframe\">\n",
       "  <thead>\n",
       "    <tr style=\"text-align: right;\">\n",
       "      <th></th>\n",
       "      <th>genre_id</th>\n",
       "      <th>depth_1_genre</th>\n",
       "      <th>depth_2_genre</th>\n",
       "      <th>depth_3_genre</th>\n",
       "      <th>depth_4_genre</th>\n",
       "      <th>depth_5_genre</th>\n",
       "      <th>depth_6_genre</th>\n",
       "    </tr>\n",
       "  </thead>\n",
       "  <tbody>\n",
       "    <tr>\n",
       "      <th>0</th>\n",
       "      <td>1</td>\n",
       "      <td>0</td>\n",
       "      <td>38.0</td>\n",
       "      <td>1.0</td>\n",
       "      <td>1.0</td>\n",
       "      <td>1.0</td>\n",
       "      <td>1.0</td>\n",
       "    </tr>\n",
       "    <tr>\n",
       "      <th>1</th>\n",
       "      <td>2</td>\n",
       "      <td>0</td>\n",
       "      <td>2.0</td>\n",
       "      <td>2.0</td>\n",
       "      <td>2.0</td>\n",
       "      <td>2.0</td>\n",
       "      <td>2.0</td>\n",
       "    </tr>\n",
       "    <tr>\n",
       "      <th>2</th>\n",
       "      <td>3</td>\n",
       "      <td>0</td>\n",
       "      <td>3.0</td>\n",
       "      <td>3.0</td>\n",
       "      <td>3.0</td>\n",
       "      <td>3.0</td>\n",
       "      <td>3.0</td>\n",
       "    </tr>\n",
       "    <tr>\n",
       "      <th>3</th>\n",
       "      <td>4</td>\n",
       "      <td>0</td>\n",
       "      <td>4.0</td>\n",
       "      <td>4.0</td>\n",
       "      <td>4.0</td>\n",
       "      <td>4.0</td>\n",
       "      <td>4.0</td>\n",
       "    </tr>\n",
       "    <tr>\n",
       "      <th>4</th>\n",
       "      <td>5</td>\n",
       "      <td>0</td>\n",
       "      <td>5.0</td>\n",
       "      <td>5.0</td>\n",
       "      <td>5.0</td>\n",
       "      <td>5.0</td>\n",
       "      <td>5.0</td>\n",
       "    </tr>\n",
       "    <tr>\n",
       "      <th>...</th>\n",
       "      <td>...</td>\n",
       "      <td>...</td>\n",
       "      <td>...</td>\n",
       "      <td>...</td>\n",
       "      <td>...</td>\n",
       "      <td>...</td>\n",
       "      <td>...</td>\n",
       "    </tr>\n",
       "    <tr>\n",
       "      <th>159</th>\n",
       "      <td>1060</td>\n",
       "      <td>0</td>\n",
       "      <td>2.0</td>\n",
       "      <td>46.0</td>\n",
       "      <td>1060.0</td>\n",
       "      <td>1060.0</td>\n",
       "      <td>1060.0</td>\n",
       "    </tr>\n",
       "    <tr>\n",
       "      <th>160</th>\n",
       "      <td>1156</td>\n",
       "      <td>0</td>\n",
       "      <td>2.0</td>\n",
       "      <td>130.0</td>\n",
       "      <td>1156.0</td>\n",
       "      <td>1156.0</td>\n",
       "      <td>1156.0</td>\n",
       "    </tr>\n",
       "    <tr>\n",
       "      <th>161</th>\n",
       "      <td>1193</td>\n",
       "      <td>0</td>\n",
       "      <td>38.0</td>\n",
       "      <td>6.0</td>\n",
       "      <td>16.0</td>\n",
       "      <td>763.0</td>\n",
       "      <td>1193.0</td>\n",
       "    </tr>\n",
       "    <tr>\n",
       "      <th>162</th>\n",
       "      <td>1235</td>\n",
       "      <td>0</td>\n",
       "      <td>1235.0</td>\n",
       "      <td>1235.0</td>\n",
       "      <td>1235.0</td>\n",
       "      <td>1235.0</td>\n",
       "      <td>1235.0</td>\n",
       "    </tr>\n",
       "    <tr>\n",
       "      <th>163</th>\n",
       "      <td>0</td>\n",
       "      <td>0</td>\n",
       "      <td>0.0</td>\n",
       "      <td>0.0</td>\n",
       "      <td>0.0</td>\n",
       "      <td>0.0</td>\n",
       "      <td>0.0</td>\n",
       "    </tr>\n",
       "  </tbody>\n",
       "</table>\n",
       "<p>164 rows × 7 columns</p>\n",
       "</div>"
      ],
      "text/plain": [
       "     genre_id  depth_1_genre  depth_2_genre  depth_3_genre  depth_4_genre  \\\n",
       "0           1              0           38.0            1.0            1.0   \n",
       "1           2              0            2.0            2.0            2.0   \n",
       "2           3              0            3.0            3.0            3.0   \n",
       "3           4              0            4.0            4.0            4.0   \n",
       "4           5              0            5.0            5.0            5.0   \n",
       "..        ...            ...            ...            ...            ...   \n",
       "159      1060              0            2.0           46.0         1060.0   \n",
       "160      1156              0            2.0          130.0         1156.0   \n",
       "161      1193              0           38.0            6.0           16.0   \n",
       "162      1235              0         1235.0         1235.0         1235.0   \n",
       "163         0              0            0.0            0.0            0.0   \n",
       "\n",
       "     depth_5_genre  depth_6_genre  \n",
       "0              1.0            1.0  \n",
       "1              2.0            2.0  \n",
       "2              3.0            3.0  \n",
       "3              4.0            4.0  \n",
       "4              5.0            5.0  \n",
       "..             ...            ...  \n",
       "159         1060.0         1060.0  \n",
       "160         1156.0         1156.0  \n",
       "161          763.0         1193.0  \n",
       "162         1235.0         1235.0  \n",
       "163            0.0            0.0  \n",
       "\n",
       "[164 rows x 7 columns]"
      ]
     },
     "execution_count": 18,
     "metadata": {},
     "output_type": "execute_result"
    }
   ],
   "source": [
    "lineage_df"
   ]
  },
  {
   "cell_type": "code",
   "execution_count": 11,
   "metadata": {},
   "outputs": [],
   "source": [
    "## Transfrom the track_df so that the every single row belongs to only one genre\n",
    "track_df['track_genres_lst'] = track_df['track_genres'].apply(ast.literal_eval)\n",
    "track_df_single_genre = track_df.explode('track_genres_lst')"
   ]
  },
  {
   "cell_type": "code",
   "execution_count": 13,
   "metadata": {},
   "outputs": [],
   "source": [
    "## Merge genre information into tracks\n",
    "merged_df = track_df_single_genre.merge(leaf_df, left_on='track_genres_lst', right_on='leaf_id', how='left')"
   ]
  },
  {
   "cell_type": "code",
   "execution_count": null,
   "metadata": {},
   "outputs": [],
   "source": [
    "## "
   ]
  },
  {
   "cell_type": "code",
   "execution_count": 15,
   "metadata": {},
   "outputs": [],
   "source": [
    "merged_df.to_csv('./datasets/tracks_with_genre.csv')"
   ]
  },
  {
   "cell_type": "code",
   "execution_count": null,
   "metadata": {},
   "outputs": [],
   "source": []
  }
 ],
 "metadata": {
  "kernelspec": {
   "display_name": "venv",
   "language": "python",
   "name": "python3"
  },
  "language_info": {
   "codemirror_mode": {
    "name": "ipython",
    "version": 3
   },
   "file_extension": ".py",
   "mimetype": "text/x-python",
   "name": "python",
   "nbconvert_exporter": "python",
   "pygments_lexer": "ipython3",
   "version": "3.9.12"
  },
  "orig_nbformat": 4
 },
 "nbformat": 4,
 "nbformat_minor": 2
}
