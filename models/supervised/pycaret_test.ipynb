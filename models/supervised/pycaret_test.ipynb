{
 "cells": [
  {
   "cell_type": "code",
   "execution_count": 15,
   "metadata": {},
   "outputs": [],
   "source": [
    "import pandas as pd\n",
    "# merge features and label\n",
    "df_meta = pd.read_csv('../../preprocessing/datasets/tracks_with_genre_small.csv')\n",
    "df_features = pd.read_csv('../../feature_extraction/features/all_features.csv')\n",
    "\n",
    "merged_df = df_meta.merge(df_features, on='track_id', how='outer')"
   ]
  },
  {
   "cell_type": "code",
   "execution_count": 16,
   "metadata": {},
   "outputs": [],
   "source": [
    "used_columns = ['depth_5_genre_name'] + df_features.columns.tolist()\n",
    "used_columns.remove('Unnamed: 0')\n",
    "used_columns.remove('track_id')\n",
    "merged_df = merged_df[used_columns]\n",
    "merged_df = merged_df.dropna()\n",
    "\n",
    "# define features and label\n",
    "feature_list = merged_df.columns.tolist()[2:]\n",
    "\n",
    "# y = merged_df['depth_5_genre_name']\n",
    "# X = merged_df[feature_list]"
   ]
  },
  {
   "cell_type": "code",
   "execution_count": 17,
   "metadata": {},
   "outputs": [
    {
     "data": {
      "text/plain": [
       "Index(['depth_5_genre_name', 'tempo', 'rms_harmonic', 'rms_percussive',\n",
       "       'spectral_centroid', 'spectral_rolloff', 'zero_crossings',\n",
       "       'chroma_stft_1', 'chroma_stft_2', 'chroma_stft_3', 'chroma_stft_4',\n",
       "       'chroma_stft_5', 'chroma_stft_6', 'chroma_stft_7', 'chroma_stft_8',\n",
       "       'chroma_stft_9', 'chroma_stft_10', 'chroma_stft_11', 'chroma_stft_12',\n",
       "       'MFCC_1', 'MFCC_2', 'MFCC_3', 'MFCC_4', 'MFCC_5', 'MFCC_6', 'MFCC_7',\n",
       "       'MFCC_8', 'MFCC_9', 'MFCC_10', 'MFCC_11', 'MFCC_12', 'MFCC_13',\n",
       "       'MFCC_14', 'MFCC_15', 'MFCC_16', 'MFCC_17', 'MFCC_18', 'MFCC_19',\n",
       "       'MFCC_20'],\n",
       "      dtype='object')"
      ]
     },
     "execution_count": 17,
     "metadata": {},
     "output_type": "execute_result"
    }
   ],
   "source": [
    "merged_df.columns"
   ]
  },
  {
   "cell_type": "code",
   "execution_count": 18,
   "metadata": {},
   "outputs": [],
   "source": [
    "from pycaret.classification import *"
   ]
  },
  {
   "cell_type": "code",
   "execution_count": 19,
   "metadata": {},
   "outputs": [
    {
     "data": {
      "text/html": [
       "<style type=\"text/css\">\n",
       "#T_e30af_row9_col1 {\n",
       "  background-color: lightgreen;\n",
       "}\n",
       "</style>\n",
       "<table id=\"T_e30af\">\n",
       "  <thead>\n",
       "    <tr>\n",
       "      <th class=\"blank level0\" >&nbsp;</th>\n",
       "      <th id=\"T_e30af_level0_col0\" class=\"col_heading level0 col0\" >Description</th>\n",
       "      <th id=\"T_e30af_level0_col1\" class=\"col_heading level0 col1\" >Value</th>\n",
       "    </tr>\n",
       "  </thead>\n",
       "  <tbody>\n",
       "    <tr>\n",
       "      <th id=\"T_e30af_level0_row0\" class=\"row_heading level0 row0\" >0</th>\n",
       "      <td id=\"T_e30af_row0_col0\" class=\"data row0 col0\" >Session id</td>\n",
       "      <td id=\"T_e30af_row0_col1\" class=\"data row0 col1\" >123</td>\n",
       "    </tr>\n",
       "    <tr>\n",
       "      <th id=\"T_e30af_level0_row1\" class=\"row_heading level0 row1\" >1</th>\n",
       "      <td id=\"T_e30af_row1_col0\" class=\"data row1 col0\" >Target</td>\n",
       "      <td id=\"T_e30af_row1_col1\" class=\"data row1 col1\" >depth_5_genre_name</td>\n",
       "    </tr>\n",
       "    <tr>\n",
       "      <th id=\"T_e30af_level0_row2\" class=\"row_heading level0 row2\" >2</th>\n",
       "      <td id=\"T_e30af_row2_col0\" class=\"data row2 col0\" >Target type</td>\n",
       "      <td id=\"T_e30af_row2_col1\" class=\"data row2 col1\" >Multiclass</td>\n",
       "    </tr>\n",
       "    <tr>\n",
       "      <th id=\"T_e30af_level0_row3\" class=\"row_heading level0 row3\" >3</th>\n",
       "      <td id=\"T_e30af_row3_col0\" class=\"data row3 col0\" >Target mapping</td>\n",
       "      <td id=\"T_e30af_row3_col1\" class=\"data row3 col1\" >Abstract Hip-Hop: 0, African: 1, Afrobeat: 2, Alternative Hip-Hop: 3, Ambient: 4, Ambient Electronic: 5, Asia-Far East: 6, Audio Collage: 7, Avant-Garde: 8, Balkan: 9, Bigbeat: 10, Black-Metal: 11, Brazilian: 12, Breakbeat: 13, Breakcore - Hard: 14, British Folk: 15, Celtic: 16, Chill-out: 17, Chip Music: 18, Chiptune: 19, Christmas: 20, Compilation: 21, Cumbia: 22, Dance: 23, Death-Metal: 24, Downtempo: 25, Drone: 26, Drum & Bass: 27, Dubstep: 28, Electro-Punk: 29, Electroacoustic: 30, Electronic: 31, Europe: 32, Experimental: 33, Experimental Pop: 34, Field Recordings: 35, Flamenco: 36, Folk: 37, Freak-Folk: 38, Free-Folk: 39, French: 40, Garage: 41, Glitch: 42, Goth: 43, Grindcore: 44, Hardcore: 45, Hip-Hop: 46, Hip-Hop Beats: 47, Holiday: 48, House: 49, IDM: 50, Improv: 51, Indian: 52, Indie-Rock: 53, Industrial: 54, Instrumental: 55, International: 56, Jungle: 57, Kid-Friendly: 58, Klezmer: 59, Krautrock: 60, Latin: 61, Latin America: 62, Lo-Fi: 63, Loud-Rock: 64, Metal: 65, Middle East: 66, Minimal Electronic: 67, Minimalism: 68, Musique Concrete: 69, Nerdcore: 70, New Age: 71, New Wave: 72, No Wave: 73, Noise: 74, Noise-Rock: 75, North African: 76, Novelty: 77, Polka: 78, Pop: 79, Post-Punk: 80, Post-Rock: 81, Power-Pop: 82, Progressive: 83, Psych-Folk: 84, Psych-Rock: 85, Punk: 86, Rap: 87, Reggae - Dancehall: 88, Reggae - Dub: 89, Rock: 90, Rock Opera: 91, Romany (Gypsy): 92, Salsa: 93, Shoegaze: 94, Singer-Songwriter: 95, Skweee: 96, Sludge: 97, Sound Art: 98, Sound Collage: 99, Sound Poetry: 100, Soundtrack: 101, South Indian Traditional: 102, Space-Rock: 103, Spanish: 104, Surf: 105, Synth Pop: 106, Tango: 107, Techno: 108, Thrash: 109, Trip-Hop: 110, Turkish: 111, Unclassifiable: 112</td>\n",
       "    </tr>\n",
       "    <tr>\n",
       "      <th id=\"T_e30af_level0_row4\" class=\"row_heading level0 row4\" >4</th>\n",
       "      <td id=\"T_e30af_row4_col0\" class=\"data row4 col0\" >Original data shape</td>\n",
       "      <td id=\"T_e30af_row4_col1\" class=\"data row4 col1\" >(13238, 39)</td>\n",
       "    </tr>\n",
       "    <tr>\n",
       "      <th id=\"T_e30af_level0_row5\" class=\"row_heading level0 row5\" >5</th>\n",
       "      <td id=\"T_e30af_row5_col0\" class=\"data row5 col0\" >Transformed data shape</td>\n",
       "      <td id=\"T_e30af_row5_col1\" class=\"data row5 col1\" >(13238, 39)</td>\n",
       "    </tr>\n",
       "    <tr>\n",
       "      <th id=\"T_e30af_level0_row6\" class=\"row_heading level0 row6\" >6</th>\n",
       "      <td id=\"T_e30af_row6_col0\" class=\"data row6 col0\" >Transformed train set shape</td>\n",
       "      <td id=\"T_e30af_row6_col1\" class=\"data row6 col1\" >(9266, 39)</td>\n",
       "    </tr>\n",
       "    <tr>\n",
       "      <th id=\"T_e30af_level0_row7\" class=\"row_heading level0 row7\" >7</th>\n",
       "      <td id=\"T_e30af_row7_col0\" class=\"data row7 col0\" >Transformed test set shape</td>\n",
       "      <td id=\"T_e30af_row7_col1\" class=\"data row7 col1\" >(3972, 39)</td>\n",
       "    </tr>\n",
       "    <tr>\n",
       "      <th id=\"T_e30af_level0_row8\" class=\"row_heading level0 row8\" >8</th>\n",
       "      <td id=\"T_e30af_row8_col0\" class=\"data row8 col0\" >Numeric features</td>\n",
       "      <td id=\"T_e30af_row8_col1\" class=\"data row8 col1\" >38</td>\n",
       "    </tr>\n",
       "    <tr>\n",
       "      <th id=\"T_e30af_level0_row9\" class=\"row_heading level0 row9\" >9</th>\n",
       "      <td id=\"T_e30af_row9_col0\" class=\"data row9 col0\" >Preprocess</td>\n",
       "      <td id=\"T_e30af_row9_col1\" class=\"data row9 col1\" >True</td>\n",
       "    </tr>\n",
       "    <tr>\n",
       "      <th id=\"T_e30af_level0_row10\" class=\"row_heading level0 row10\" >10</th>\n",
       "      <td id=\"T_e30af_row10_col0\" class=\"data row10 col0\" >Imputation type</td>\n",
       "      <td id=\"T_e30af_row10_col1\" class=\"data row10 col1\" >simple</td>\n",
       "    </tr>\n",
       "    <tr>\n",
       "      <th id=\"T_e30af_level0_row11\" class=\"row_heading level0 row11\" >11</th>\n",
       "      <td id=\"T_e30af_row11_col0\" class=\"data row11 col0\" >Numeric imputation</td>\n",
       "      <td id=\"T_e30af_row11_col1\" class=\"data row11 col1\" >mean</td>\n",
       "    </tr>\n",
       "    <tr>\n",
       "      <th id=\"T_e30af_level0_row12\" class=\"row_heading level0 row12\" >12</th>\n",
       "      <td id=\"T_e30af_row12_col0\" class=\"data row12 col0\" >Categorical imputation</td>\n",
       "      <td id=\"T_e30af_row12_col1\" class=\"data row12 col1\" >mode</td>\n",
       "    </tr>\n",
       "    <tr>\n",
       "      <th id=\"T_e30af_level0_row13\" class=\"row_heading level0 row13\" >13</th>\n",
       "      <td id=\"T_e30af_row13_col0\" class=\"data row13 col0\" >Fold Generator</td>\n",
       "      <td id=\"T_e30af_row13_col1\" class=\"data row13 col1\" >StratifiedKFold</td>\n",
       "    </tr>\n",
       "    <tr>\n",
       "      <th id=\"T_e30af_level0_row14\" class=\"row_heading level0 row14\" >14</th>\n",
       "      <td id=\"T_e30af_row14_col0\" class=\"data row14 col0\" >Fold Number</td>\n",
       "      <td id=\"T_e30af_row14_col1\" class=\"data row14 col1\" >10</td>\n",
       "    </tr>\n",
       "    <tr>\n",
       "      <th id=\"T_e30af_level0_row15\" class=\"row_heading level0 row15\" >15</th>\n",
       "      <td id=\"T_e30af_row15_col0\" class=\"data row15 col0\" >CPU Jobs</td>\n",
       "      <td id=\"T_e30af_row15_col1\" class=\"data row15 col1\" >-1</td>\n",
       "    </tr>\n",
       "    <tr>\n",
       "      <th id=\"T_e30af_level0_row16\" class=\"row_heading level0 row16\" >16</th>\n",
       "      <td id=\"T_e30af_row16_col0\" class=\"data row16 col0\" >Use GPU</td>\n",
       "      <td id=\"T_e30af_row16_col1\" class=\"data row16 col1\" >False</td>\n",
       "    </tr>\n",
       "    <tr>\n",
       "      <th id=\"T_e30af_level0_row17\" class=\"row_heading level0 row17\" >17</th>\n",
       "      <td id=\"T_e30af_row17_col0\" class=\"data row17 col0\" >Log Experiment</td>\n",
       "      <td id=\"T_e30af_row17_col1\" class=\"data row17 col1\" >False</td>\n",
       "    </tr>\n",
       "    <tr>\n",
       "      <th id=\"T_e30af_level0_row18\" class=\"row_heading level0 row18\" >18</th>\n",
       "      <td id=\"T_e30af_row18_col0\" class=\"data row18 col0\" >Experiment Name</td>\n",
       "      <td id=\"T_e30af_row18_col1\" class=\"data row18 col1\" >clf-default-name</td>\n",
       "    </tr>\n",
       "    <tr>\n",
       "      <th id=\"T_e30af_level0_row19\" class=\"row_heading level0 row19\" >19</th>\n",
       "      <td id=\"T_e30af_row19_col0\" class=\"data row19 col0\" >USI</td>\n",
       "      <td id=\"T_e30af_row19_col1\" class=\"data row19 col1\" >8b9f</td>\n",
       "    </tr>\n",
       "  </tbody>\n",
       "</table>\n"
      ],
      "text/plain": [
       "<pandas.io.formats.style.Styler at 0x29d049cd0>"
      ]
     },
     "metadata": {},
     "output_type": "display_data"
    }
   ],
   "source": [
    "exp_clf = setup(data = merged_df, target = 'depth_5_genre_name', session_id=123) "
   ]
  },
  {
   "cell_type": "code",
   "execution_count": 20,
   "metadata": {},
   "outputs": [
    {
     "data": {
      "text/html": [],
      "text/plain": [
       "<IPython.core.display.HTML object>"
      ]
     },
     "metadata": {},
     "output_type": "display_data"
    },
    {
     "data": {
      "text/html": [
       "<style type=\"text/css\">\n",
       "</style>\n",
       "<table id=\"T_3c192\">\n",
       "  <thead>\n",
       "  </thead>\n",
       "  <tbody>\n",
       "  </tbody>\n",
       "</table>\n"
      ],
      "text/plain": [
       "<pandas.io.formats.style.Styler at 0x29d1c0190>"
      ]
     },
     "metadata": {},
     "output_type": "display_data"
    },
    {
     "data": {
      "text/html": [],
      "text/plain": [
       "<IPython.core.display.HTML object>"
      ]
     },
     "metadata": {},
     "output_type": "display_data"
    },
    {
     "data": {
      "text/plain": [
       "[]"
      ]
     },
     "execution_count": 20,
     "metadata": {},
     "output_type": "execute_result"
    }
   ],
   "source": [
    "compare_models()"
   ]
  }
 ],
 "metadata": {
  "kernelspec": {
   "display_name": "venv",
   "language": "python",
   "name": "python3"
  },
  "language_info": {
   "codemirror_mode": {
    "name": "ipython",
    "version": 3
   },
   "file_extension": ".py",
   "mimetype": "text/x-python",
   "name": "python",
   "nbconvert_exporter": "python",
   "pygments_lexer": "ipython3",
   "version": "3.9.12"
  },
  "orig_nbformat": 4
 },
 "nbformat": 4,
 "nbformat_minor": 2
}
