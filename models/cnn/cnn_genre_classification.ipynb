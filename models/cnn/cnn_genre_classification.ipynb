{
  "cells": [
    {
      "cell_type": "code",
      "execution_count": 1,
      "metadata": {
        "id": "NKcWiK3Dx3Gq"
      },
      "outputs": [],
      "source": [
        "import pandas as pd\n",
        "import numpy as np\n",
        "import seaborn as sns\n",
        "import matplotlib.pyplot as plt\n",
        "import sklearn.model_selection as sk\n",
        "from sklearn.preprocessing import StandardScaler\n",
        "from sklearn.preprocessing import LabelEncoder\n",
        "from imblearn.over_sampling import SMOTE\n",
        "import tensorflow.keras as keras\n",
        "from tensorflow.keras import Sequential\n",
        "from keras.models import Sequential\n",
        "from keras.layers import Dense, Dropout\n",
        "from keras.optimizers import Adam\n",
        "from keras.callbacks import EarlyStopping\n",
        "from keras import backend as K"
      ]
    },
    {
      "cell_type": "markdown",
      "metadata": {
        "id": "mLS5yhkNMq3n"
      },
      "source": [
        "## 1. Load & Prepare Data"
      ]
    },
    {
      "cell_type": "code",
      "execution_count": 3,
      "metadata": {
        "colab": {
          "base_uri": "https://localhost:8080/",
          "height": 513
        },
        "id": "AgYOG0Gsyls_",
        "outputId": "cac85273-fbf2-4ca6-d97a-7fccfb2db899"
      },
      "outputs": [
        {
          "data": {
            "text/html": [
              "<div>\n",
              "<style scoped>\n",
              "    .dataframe tbody tr th:only-of-type {\n",
              "        vertical-align: middle;\n",
              "    }\n",
              "\n",
              "    .dataframe tbody tr th {\n",
              "        vertical-align: top;\n",
              "    }\n",
              "\n",
              "    .dataframe thead th {\n",
              "        text-align: right;\n",
              "    }\n",
              "</style>\n",
              "<table border=\"1\" class=\"dataframe\">\n",
              "  <thead>\n",
              "    <tr style=\"text-align: right;\">\n",
              "      <th></th>\n",
              "      <th>Unnamed: 0</th>\n",
              "      <th>track_id</th>\n",
              "      <th>track_genre_top</th>\n",
              "      <th>track_title</th>\n",
              "      <th>artist_name</th>\n",
              "      <th>set_split</th>\n",
              "      <th>set_subset</th>\n",
              "      <th>tempo</th>\n",
              "      <th>rms_harmonic_mean</th>\n",
              "      <th>rms_harmonic_var</th>\n",
              "      <th>...</th>\n",
              "      <th>key_C</th>\n",
              "      <th>key_C#</th>\n",
              "      <th>key_D</th>\n",
              "      <th>key_E</th>\n",
              "      <th>key_Eb</th>\n",
              "      <th>key_F</th>\n",
              "      <th>key_F#</th>\n",
              "      <th>key_G</th>\n",
              "      <th>scale_major</th>\n",
              "      <th>scale_minor</th>\n",
              "    </tr>\n",
              "  </thead>\n",
              "  <tbody>\n",
              "    <tr>\n",
              "      <th>0</th>\n",
              "      <td>0</td>\n",
              "      <td>2</td>\n",
              "      <td>Hip-Hop</td>\n",
              "      <td>Food</td>\n",
              "      <td>AWOL</td>\n",
              "      <td>training</td>\n",
              "      <td>small</td>\n",
              "      <td>161.499023</td>\n",
              "      <td>0.060801</td>\n",
              "      <td>0.000606</td>\n",
              "      <td>...</td>\n",
              "      <td>1</td>\n",
              "      <td>0</td>\n",
              "      <td>0</td>\n",
              "      <td>0</td>\n",
              "      <td>0</td>\n",
              "      <td>0</td>\n",
              "      <td>0</td>\n",
              "      <td>0</td>\n",
              "      <td>0</td>\n",
              "      <td>1</td>\n",
              "    </tr>\n",
              "    <tr>\n",
              "      <th>1</th>\n",
              "      <td>1</td>\n",
              "      <td>3</td>\n",
              "      <td>Hip-Hop</td>\n",
              "      <td>Electric Ave</td>\n",
              "      <td>AWOL</td>\n",
              "      <td>training</td>\n",
              "      <td>medium</td>\n",
              "      <td>86.132812</td>\n",
              "      <td>0.068484</td>\n",
              "      <td>0.001239</td>\n",
              "      <td>...</td>\n",
              "      <td>0</td>\n",
              "      <td>0</td>\n",
              "      <td>0</td>\n",
              "      <td>0</td>\n",
              "      <td>0</td>\n",
              "      <td>0</td>\n",
              "      <td>0</td>\n",
              "      <td>1</td>\n",
              "      <td>0</td>\n",
              "      <td>1</td>\n",
              "    </tr>\n",
              "    <tr>\n",
              "      <th>2</th>\n",
              "      <td>2</td>\n",
              "      <td>5</td>\n",
              "      <td>Hip-Hop</td>\n",
              "      <td>This World</td>\n",
              "      <td>AWOL</td>\n",
              "      <td>training</td>\n",
              "      <td>small</td>\n",
              "      <td>99.384014</td>\n",
              "      <td>0.079553</td>\n",
              "      <td>0.002230</td>\n",
              "      <td>...</td>\n",
              "      <td>0</td>\n",
              "      <td>1</td>\n",
              "      <td>0</td>\n",
              "      <td>0</td>\n",
              "      <td>0</td>\n",
              "      <td>0</td>\n",
              "      <td>0</td>\n",
              "      <td>0</td>\n",
              "      <td>0</td>\n",
              "      <td>1</td>\n",
              "    </tr>\n",
              "    <tr>\n",
              "      <th>3</th>\n",
              "      <td>3</td>\n",
              "      <td>10</td>\n",
              "      <td>Pop</td>\n",
              "      <td>Freeway</td>\n",
              "      <td>Kurt Vile</td>\n",
              "      <td>training</td>\n",
              "      <td>small</td>\n",
              "      <td>112.347147</td>\n",
              "      <td>0.135624</td>\n",
              "      <td>0.000600</td>\n",
              "      <td>...</td>\n",
              "      <td>0</td>\n",
              "      <td>0</td>\n",
              "      <td>0</td>\n",
              "      <td>0</td>\n",
              "      <td>0</td>\n",
              "      <td>0</td>\n",
              "      <td>1</td>\n",
              "      <td>0</td>\n",
              "      <td>1</td>\n",
              "      <td>0</td>\n",
              "    </tr>\n",
              "    <tr>\n",
              "      <th>4</th>\n",
              "      <td>4</td>\n",
              "      <td>134</td>\n",
              "      <td>Hip-Hop</td>\n",
              "      <td>Street Music</td>\n",
              "      <td>AWOL</td>\n",
              "      <td>training</td>\n",
              "      <td>medium</td>\n",
              "      <td>135.999178</td>\n",
              "      <td>0.088261</td>\n",
              "      <td>0.001123</td>\n",
              "      <td>...</td>\n",
              "      <td>0</td>\n",
              "      <td>0</td>\n",
              "      <td>0</td>\n",
              "      <td>0</td>\n",
              "      <td>0</td>\n",
              "      <td>0</td>\n",
              "      <td>0</td>\n",
              "      <td>0</td>\n",
              "      <td>1</td>\n",
              "      <td>0</td>\n",
              "    </tr>\n",
              "    <tr>\n",
              "      <th>...</th>\n",
              "      <td>...</td>\n",
              "      <td>...</td>\n",
              "      <td>...</td>\n",
              "      <td>...</td>\n",
              "      <td>...</td>\n",
              "      <td>...</td>\n",
              "      <td>...</td>\n",
              "      <td>...</td>\n",
              "      <td>...</td>\n",
              "      <td>...</td>\n",
              "      <td>...</td>\n",
              "      <td>...</td>\n",
              "      <td>...</td>\n",
              "      <td>...</td>\n",
              "      <td>...</td>\n",
              "      <td>...</td>\n",
              "      <td>...</td>\n",
              "      <td>...</td>\n",
              "      <td>...</td>\n",
              "      <td>...</td>\n",
              "      <td>...</td>\n",
              "    </tr>\n",
              "    <tr>\n",
              "      <th>24767</th>\n",
              "      <td>24995</td>\n",
              "      <td>155297</td>\n",
              "      <td>Instrumental</td>\n",
              "      <td>Nebula Reborn</td>\n",
              "      <td>Alex Mason/BlackSunAeon Music</td>\n",
              "      <td>training</td>\n",
              "      <td>medium</td>\n",
              "      <td>123.046875</td>\n",
              "      <td>0.038447</td>\n",
              "      <td>0.000094</td>\n",
              "      <td>...</td>\n",
              "      <td>0</td>\n",
              "      <td>0</td>\n",
              "      <td>1</td>\n",
              "      <td>0</td>\n",
              "      <td>0</td>\n",
              "      <td>0</td>\n",
              "      <td>0</td>\n",
              "      <td>0</td>\n",
              "      <td>1</td>\n",
              "      <td>0</td>\n",
              "    </tr>\n",
              "    <tr>\n",
              "      <th>24768</th>\n",
              "      <td>24996</td>\n",
              "      <td>155298</td>\n",
              "      <td>Folk</td>\n",
              "      <td>An Idiot Abroad</td>\n",
              "      <td>Greg Atkinson</td>\n",
              "      <td>training</td>\n",
              "      <td>medium</td>\n",
              "      <td>129.199219</td>\n",
              "      <td>0.139233</td>\n",
              "      <td>0.003167</td>\n",
              "      <td>...</td>\n",
              "      <td>0</td>\n",
              "      <td>0</td>\n",
              "      <td>0</td>\n",
              "      <td>0</td>\n",
              "      <td>0</td>\n",
              "      <td>0</td>\n",
              "      <td>0</td>\n",
              "      <td>1</td>\n",
              "      <td>1</td>\n",
              "      <td>0</td>\n",
              "    </tr>\n",
              "    <tr>\n",
              "      <th>24769</th>\n",
              "      <td>24997</td>\n",
              "      <td>155306</td>\n",
              "      <td>Folk</td>\n",
              "      <td>Tiny Man</td>\n",
              "      <td>Greg Atkinson</td>\n",
              "      <td>training</td>\n",
              "      <td>medium</td>\n",
              "      <td>103.359375</td>\n",
              "      <td>0.116513</td>\n",
              "      <td>0.003872</td>\n",
              "      <td>...</td>\n",
              "      <td>0</td>\n",
              "      <td>0</td>\n",
              "      <td>0</td>\n",
              "      <td>0</td>\n",
              "      <td>0</td>\n",
              "      <td>0</td>\n",
              "      <td>0</td>\n",
              "      <td>0</td>\n",
              "      <td>1</td>\n",
              "      <td>0</td>\n",
              "    </tr>\n",
              "    <tr>\n",
              "      <th>24770</th>\n",
              "      <td>24998</td>\n",
              "      <td>155307</td>\n",
              "      <td>Experimental</td>\n",
              "      <td>Kolka</td>\n",
              "      <td>AWOTT</td>\n",
              "      <td>training</td>\n",
              "      <td>medium</td>\n",
              "      <td>117.453835</td>\n",
              "      <td>0.085435</td>\n",
              "      <td>0.001713</td>\n",
              "      <td>...</td>\n",
              "      <td>1</td>\n",
              "      <td>0</td>\n",
              "      <td>0</td>\n",
              "      <td>0</td>\n",
              "      <td>0</td>\n",
              "      <td>0</td>\n",
              "      <td>0</td>\n",
              "      <td>0</td>\n",
              "      <td>0</td>\n",
              "      <td>1</td>\n",
              "    </tr>\n",
              "    <tr>\n",
              "      <th>24771</th>\n",
              "      <td>24999</td>\n",
              "      <td>155314</td>\n",
              "      <td>Rock</td>\n",
              "      <td>Miracle Grow</td>\n",
              "      <td>Spowder</td>\n",
              "      <td>training</td>\n",
              "      <td>medium</td>\n",
              "      <td>89.102909</td>\n",
              "      <td>0.110664</td>\n",
              "      <td>0.001096</td>\n",
              "      <td>...</td>\n",
              "      <td>0</td>\n",
              "      <td>0</td>\n",
              "      <td>0</td>\n",
              "      <td>0</td>\n",
              "      <td>0</td>\n",
              "      <td>0</td>\n",
              "      <td>0</td>\n",
              "      <td>0</td>\n",
              "      <td>1</td>\n",
              "      <td>0</td>\n",
              "    </tr>\n",
              "  </tbody>\n",
              "</table>\n",
              "<p>24772 rows × 95 columns</p>\n",
              "</div>"
            ],
            "text/plain": [
              "       Unnamed: 0  track_id track_genre_top      track_title  \\\n",
              "0               0         2         Hip-Hop             Food   \n",
              "1               1         3         Hip-Hop     Electric Ave   \n",
              "2               2         5         Hip-Hop       This World   \n",
              "3               3        10             Pop          Freeway   \n",
              "4               4       134         Hip-Hop     Street Music   \n",
              "...           ...       ...             ...              ...   \n",
              "24767       24995    155297    Instrumental    Nebula Reborn   \n",
              "24768       24996    155298            Folk  An Idiot Abroad   \n",
              "24769       24997    155306            Folk         Tiny Man   \n",
              "24770       24998    155307    Experimental            Kolka   \n",
              "24771       24999    155314            Rock     Miracle Grow   \n",
              "\n",
              "                         artist_name set_split set_subset       tempo  \\\n",
              "0                               AWOL  training      small  161.499023   \n",
              "1                               AWOL  training     medium   86.132812   \n",
              "2                               AWOL  training      small   99.384014   \n",
              "3                          Kurt Vile  training      small  112.347147   \n",
              "4                               AWOL  training     medium  135.999178   \n",
              "...                              ...       ...        ...         ...   \n",
              "24767  Alex Mason/BlackSunAeon Music  training     medium  123.046875   \n",
              "24768                  Greg Atkinson  training     medium  129.199219   \n",
              "24769                  Greg Atkinson  training     medium  103.359375   \n",
              "24770                          AWOTT  training     medium  117.453835   \n",
              "24771                        Spowder  training     medium   89.102909   \n",
              "\n",
              "       rms_harmonic_mean  rms_harmonic_var  ...  key_C  key_C#  key_D  key_E  \\\n",
              "0               0.060801          0.000606  ...      1       0      0      0   \n",
              "1               0.068484          0.001239  ...      0       0      0      0   \n",
              "2               0.079553          0.002230  ...      0       1      0      0   \n",
              "3               0.135624          0.000600  ...      0       0      0      0   \n",
              "4               0.088261          0.001123  ...      0       0      0      0   \n",
              "...                  ...               ...  ...    ...     ...    ...    ...   \n",
              "24767           0.038447          0.000094  ...      0       0      1      0   \n",
              "24768           0.139233          0.003167  ...      0       0      0      0   \n",
              "24769           0.116513          0.003872  ...      0       0      0      0   \n",
              "24770           0.085435          0.001713  ...      1       0      0      0   \n",
              "24771           0.110664          0.001096  ...      0       0      0      0   \n",
              "\n",
              "       key_Eb  key_F  key_F#  key_G  scale_major  scale_minor  \n",
              "0           0      0       0      0            0            1  \n",
              "1           0      0       0      1            0            1  \n",
              "2           0      0       0      0            0            1  \n",
              "3           0      0       1      0            1            0  \n",
              "4           0      0       0      0            1            0  \n",
              "...       ...    ...     ...    ...          ...          ...  \n",
              "24767       0      0       0      0            1            0  \n",
              "24768       0      0       0      1            1            0  \n",
              "24769       0      0       0      0            1            0  \n",
              "24770       0      0       0      0            0            1  \n",
              "24771       0      0       0      0            1            0  \n",
              "\n",
              "[24772 rows x 95 columns]"
            ]
          },
          "execution_count": 3,
          "metadata": {},
          "output_type": "execute_result"
        }
      ],
      "source": [
        "# merge features and label\n",
        "#df= pd.read_csv('25K_tracks_features_and_labels_all.csv')\n",
        "df= pd.read_csv('../../preprocessing/datasets/ohe_25K_tracks_features_and_labels_all.csv')\n",
        "df"
      ]
    },
    {
      "cell_type": "code",
      "execution_count": 4,
      "metadata": {
        "colab": {
          "base_uri": "https://localhost:8080/"
        },
        "id": "yRQxAFLlysnU",
        "outputId": "751c1b28-e074-4029-8ef3-42924b88f826"
      },
      "outputs": [
        {
          "name": "stdout",
          "output_type": "stream",
          "text": [
            "There are 88 features\n",
            "['tempo', 'rms_harmonic_mean', 'rms_harmonic_var', 'rms_percussive_mean', 'rms_percussive_var', 'spectral_centroid_mean', 'spectral_centroid_var', 'spectral_rolloff_mean', 'spectral_rolloff_var', 'zero_crossings', 'chroma_stft_0_mean', 'chroma_stft_1_mean', 'chroma_stft_2_mean', 'chroma_stft_3_mean', 'chroma_stft_4_mean', 'chroma_stft_5_mean', 'chroma_stft_6_mean', 'chroma_stft_7_mean', 'chroma_stft_8_mean', 'chroma_stft_9_mean', 'chroma_stft_10_mean', 'chroma_stft_11_mean', 'chroma_stft_0_var', 'chroma_stft_1_var', 'chroma_stft_2_var', 'chroma_stft_3_var', 'chroma_stft_4_var', 'chroma_stft_5_var', 'chroma_stft_6_var', 'chroma_stft_7_var', 'chroma_stft_8_var', 'chroma_stft_9_var', 'chroma_stft_10_var', 'chroma_stft_11_var', 'MFCC_1_mean', 'MFCC_2_mean', 'MFCC_3_mean', 'MFCC_4_mean', 'MFCC_5_mean', 'MFCC_6_mean', 'MFCC_7_mean', 'MFCC_8_mean', 'MFCC_9_mean', 'MFCC_10_mean', 'MFCC_11_mean', 'MFCC_12_mean', 'MFCC_13_mean', 'MFCC_14_mean', 'MFCC_15_mean', 'MFCC_16_mean', 'MFCC_17_mean', 'MFCC_18_mean', 'MFCC_19_mean', 'MFCC_20_mean', 'MFCC_1_var', 'MFCC_2_var', 'MFCC_3_var', 'MFCC_4_var', 'MFCC_5_var', 'MFCC_6_var', 'MFCC_7_var', 'MFCC_8_var', 'MFCC_9_var', 'MFCC_10_var', 'MFCC_11_var', 'MFCC_12_var', 'MFCC_13_var', 'MFCC_14_var', 'MFCC_15_var', 'MFCC_16_var', 'MFCC_17_var', 'MFCC_18_var', 'MFCC_19_var', 'MFCC_20_var', 'key_A', 'key_Ab', 'key_B', 'key_Bb', 'key_C', 'key_C#', 'key_D', 'key_E', 'key_Eb', 'key_F', 'key_F#', 'key_G', 'scale_major', 'scale_minor']\n",
            "There are 13 classes, they are: ['Hip-Hop' 'Pop' 'Rock' 'Folk' 'Experimental' 'Jazz' 'Electronic'\n",
            " 'International' 'Soul-RnB' 'Country' 'Classical' 'Old-Time / Historic'\n",
            " 'Instrumental']\n"
          ]
        }
      ],
      "source": [
        "#convert categorical variables/target class to code\n",
        "df_train = df.copy()\n",
        "# df_train['key'] = LabelEncoder().fit_transform(df_train['key'])\n",
        "# df_train['scale'] = LabelEncoder().fit_transform(df_train['scale'])\n",
        "df_train['track_genre_top'] = LabelEncoder().fit_transform(df_train['track_genre_top'])\n",
        "\n",
        "feature_cols = list(df_train.columns[7:])\n",
        "print(f'There are {len(feature_cols)} features')\n",
        "print(feature_cols)\n",
        "target_col = 'track_genre_top'\n",
        "classes = df[target_col].unique()\n",
        "num_class = len(classes)\n",
        "print(f'There are {num_class} classes, they are:', classes)"
      ]
    },
    {
      "cell_type": "code",
      "execution_count": 5,
      "metadata": {
        "colab": {
          "base_uri": "https://localhost:8080/"
        },
        "id": "fwELD4duXiOF",
        "outputId": "f32a8462-3f68-4863-84a0-840c664f7de1"
      },
      "outputs": [
        {
          "data": {
            "text/plain": [
              "Rock                   7098\n",
              "Electronic             6311\n",
              "Experimental           2250\n",
              "Hip-Hop                2197\n",
              "Folk                   1518\n",
              "Instrumental           1349\n",
              "Pop                    1186\n",
              "International          1018\n",
              "Classical               619\n",
              "Old-Time / Historic     510\n",
              "Jazz                    384\n",
              "Country                 178\n",
              "Soul-RnB                154\n",
              "Name: track_genre_top, dtype: int64"
            ]
          },
          "execution_count": 5,
          "metadata": {},
          "output_type": "execute_result"
        }
      ],
      "source": [
        "df[target_col].value_counts()"
      ]
    },
    {
      "cell_type": "code",
      "execution_count": 6,
      "metadata": {
        "colab": {
          "base_uri": "https://localhost:8080/"
        },
        "id": "aSi2gBBglFAe",
        "outputId": "782a7c41-9d67-4b83-9313-4ab4e6a41cbb"
      },
      "outputs": [
        {
          "name": "stdout",
          "output_type": "stream",
          "text": [
            "Training data: (19744, 88)\n",
            "Testing data: (2546, 88)\n",
            "Validation data: (2482, 88)\n"
          ]
        }
      ],
      "source": [
        "#Define train/test/validation & apply scaling\n",
        "df_training = df_train.loc[df_train['set_split']=='training'].dropna()\n",
        "df_testing = df_train.loc[df_train['set_split']=='test'].dropna()\n",
        "df_validation = df_train.loc[df_train['set_split']=='validation'].dropna()\n",
        "\n",
        "scaler = StandardScaler()\n",
        "\n",
        "X_train = scaler.fit_transform(df_training[feature_cols])\n",
        "y_train =  df_training[target_col].values\n",
        "X_test = scaler.fit_transform(df_testing[feature_cols])\n",
        "y_test = df_testing[target_col].values\n",
        "X_val = scaler.fit_transform(df_validation[feature_cols])\n",
        "y_val = df_validation[target_col].values\n",
        "print('Training data:',X_train.shape)\n",
        "print('Testing data:',X_test.shape)\n",
        "print('Validation data:',X_val.shape)"
      ]
    },
    {
      "cell_type": "code",
      "execution_count": 7,
      "metadata": {
        "colab": {
          "base_uri": "https://localhost:8080/"
        },
        "id": "ZMbth9Y33_gc",
        "outputId": "c6e5818a-5dbe-4dba-b8bc-1e229dceeb58"
      },
      "outputs": [
        {
          "name": "stdout",
          "output_type": "stream",
          "text": [
            "Oversampled X_train: (73801, 88)\n"
          ]
        }
      ],
      "source": [
        "#Oversample minority classes\n",
        "##In the end we did not use oversampled because it performed worse than un-sampled data\n",
        "smote = SMOTE(random_state=42)\n",
        "X_train_resampled, y_train_resampled = smote.fit_resample(X_train, y_train)\n",
        "print('Oversampled X_train:', X_train_resampled.shape)"
      ]
    },
    {
      "cell_type": "markdown",
      "metadata": {
        "id": "sKr9udbOMwAC"
      },
      "source": [
        "## 2. Build Models & Tune Hyperparameters\n",
        "#### *You can skip this part and go straight to running the final model"
      ]
    },
    {
      "cell_type": "code",
      "execution_count": 8,
      "metadata": {
        "colab": {
          "base_uri": "https://localhost:8080/"
        },
        "id": "8GYVw1EjG_HX",
        "outputId": "89083e47-0bcd-4d91-cc5e-f13bb16b58c8"
      },
      "outputs": [
        {
          "name": "stderr",
          "output_type": "stream",
          "text": [
            "WARNING:absl:At this time, the v2.11+ optimizer `tf.keras.optimizers.Adam` runs slowly on M1/M2 Macs, please use the legacy Keras optimizer instead, located at `tf.keras.optimizers.legacy.Adam`.\n"
          ]
        },
        {
          "name": "stdout",
          "output_type": "stream",
          "text": [
            "Epoch 1/20\n",
            "617/617 [==============================] - 3s 4ms/step - loss: 2.1978 - accuracy: 0.2576 - val_loss: 1.9895 - val_accuracy: 0.2865\n",
            "Epoch 2/20\n",
            "617/617 [==============================] - 2s 4ms/step - loss: 2.0167 - accuracy: 0.3034 - val_loss: 1.8191 - val_accuracy: 0.4436\n",
            "Epoch 3/20\n",
            "617/617 [==============================] - 2s 4ms/step - loss: 1.8712 - accuracy: 0.4106 - val_loss: 1.7192 - val_accuracy: 0.4654\n",
            "Epoch 4/20\n",
            "617/617 [==============================] - 2s 4ms/step - loss: 1.7995 - accuracy: 0.4345 - val_loss: 1.6641 - val_accuracy: 0.4658\n",
            "Epoch 5/20\n",
            "617/617 [==============================] - 2s 4ms/step - loss: 1.7607 - accuracy: 0.4450 - val_loss: 1.6620 - val_accuracy: 0.4718\n",
            "Epoch 6/20\n",
            "617/617 [==============================] - 2s 3ms/step - loss: 1.7282 - accuracy: 0.4499 - val_loss: 1.6591 - val_accuracy: 0.4980\n",
            "Epoch 7/20\n",
            "617/617 [==============================] - 2s 4ms/step - loss: 1.7035 - accuracy: 0.4587 - val_loss: 1.6573 - val_accuracy: 0.4984\n",
            "Epoch 8/20\n",
            "617/617 [==============================] - 2s 3ms/step - loss: 1.6866 - accuracy: 0.4632 - val_loss: 1.6029 - val_accuracy: 0.5020\n",
            "Epoch 9/20\n",
            "617/617 [==============================] - 2s 3ms/step - loss: 1.6733 - accuracy: 0.4675 - val_loss: 1.6043 - val_accuracy: 0.5020\n",
            "Epoch 10/20\n",
            "617/617 [==============================] - 2s 4ms/step - loss: 1.6608 - accuracy: 0.4698 - val_loss: 1.5953 - val_accuracy: 0.5024\n",
            "Epoch 11/20\n",
            "617/617 [==============================] - 2s 3ms/step - loss: 1.6481 - accuracy: 0.4702 - val_loss: 1.5892 - val_accuracy: 0.5020\n",
            "Epoch 12/20\n",
            "617/617 [==============================] - 2s 3ms/step - loss: 1.6427 - accuracy: 0.4724 - val_loss: 1.5892 - val_accuracy: 0.5044\n",
            "Epoch 13/20\n",
            "617/617 [==============================] - 2s 4ms/step - loss: 1.6287 - accuracy: 0.4756 - val_loss: 1.5702 - val_accuracy: 0.5056\n",
            "Epoch 14/20\n",
            "617/617 [==============================] - 2s 3ms/step - loss: 1.6185 - accuracy: 0.4784 - val_loss: 1.5329 - val_accuracy: 0.5081\n",
            "Epoch 15/20\n",
            "617/617 [==============================] - 2s 3ms/step - loss: 1.6189 - accuracy: 0.4745 - val_loss: 1.5766 - val_accuracy: 0.5064\n",
            "Epoch 16/20\n",
            "617/617 [==============================] - 2s 4ms/step - loss: 1.6105 - accuracy: 0.4779 - val_loss: 1.5497 - val_accuracy: 0.5024\n",
            "Epoch 17/20\n",
            "617/617 [==============================] - 2s 3ms/step - loss: 1.6006 - accuracy: 0.4794 - val_loss: 1.5311 - val_accuracy: 0.5149\n",
            "Epoch 18/20\n",
            "617/617 [==============================] - 2s 3ms/step - loss: 1.5899 - accuracy: 0.4789 - val_loss: 1.5310 - val_accuracy: 0.5210\n",
            "Epoch 19/20\n",
            "617/617 [==============================] - 2s 3ms/step - loss: 1.5819 - accuracy: 0.4864 - val_loss: 1.5155 - val_accuracy: 0.5234\n",
            "Epoch 20/20\n",
            "617/617 [==============================] - 2s 3ms/step - loss: 1.5739 - accuracy: 0.4855 - val_loss: 1.4903 - val_accuracy: 0.5234\n"
          ]
        },
        {
          "name": "stderr",
          "output_type": "stream",
          "text": [
            "WARNING:absl:At this time, the v2.11+ optimizer `tf.keras.optimizers.Adam` runs slowly on M1/M2 Macs, please use the legacy Keras optimizer instead, located at `tf.keras.optimizers.legacy.Adam`.\n"
          ]
        },
        {
          "name": "stdout",
          "output_type": "stream",
          "text": [
            "Epoch 1/20\n",
            "617/617 [==============================] - 3s 3ms/step - loss: 2.5056 - accuracy: 0.1720 - val_loss: 2.4107 - val_accuracy: 0.2865\n",
            "Epoch 2/20\n",
            "617/617 [==============================] - 2s 3ms/step - loss: 2.2633 - accuracy: 0.2606 - val_loss: 2.2360 - val_accuracy: 0.2865\n",
            "Epoch 3/20\n",
            "617/617 [==============================] - 2s 4ms/step - loss: 2.1714 - accuracy: 0.2677 - val_loss: 2.1604 - val_accuracy: 0.2865\n",
            "Epoch 4/20\n",
            "617/617 [==============================] - 2s 3ms/step - loss: 2.1239 - accuracy: 0.2737 - val_loss: 2.1362 - val_accuracy: 0.2865\n",
            "Epoch 5/20\n",
            "617/617 [==============================] - 2s 3ms/step - loss: 2.0995 - accuracy: 0.2820 - val_loss: 2.1337 - val_accuracy: 0.2865\n",
            "Epoch 6/20\n",
            "617/617 [==============================] - 2s 3ms/step - loss: 2.0721 - accuracy: 0.2865 - val_loss: 2.1228 - val_accuracy: 0.2865\n",
            "Epoch 7/20\n",
            "617/617 [==============================] - 2s 3ms/step - loss: 2.0582 - accuracy: 0.2878 - val_loss: 2.1238 - val_accuracy: 0.2865\n",
            "Epoch 8/20\n",
            "617/617 [==============================] - 2s 3ms/step - loss: 2.0413 - accuracy: 0.2927 - val_loss: 2.1199 - val_accuracy: 0.2905\n",
            "Epoch 9/20\n",
            "617/617 [==============================] - 2s 4ms/step - loss: 2.0314 - accuracy: 0.3031 - val_loss: 2.1123 - val_accuracy: 0.3505\n",
            "Epoch 10/20\n",
            "617/617 [==============================] - 2s 3ms/step - loss: 2.0160 - accuracy: 0.3144 - val_loss: 2.1098 - val_accuracy: 0.2832\n",
            "Epoch 11/20\n",
            "617/617 [==============================] - 2s 3ms/step - loss: 2.0091 - accuracy: 0.3279 - val_loss: 2.1107 - val_accuracy: 0.2542\n",
            "Epoch 12/20\n",
            "617/617 [==============================] - 2s 3ms/step - loss: 2.0039 - accuracy: 0.3419 - val_loss: 2.1091 - val_accuracy: 0.2542\n",
            "Epoch 13/20\n",
            "617/617 [==============================] - 2s 3ms/step - loss: 1.9891 - accuracy: 0.3544 - val_loss: 2.1058 - val_accuracy: 0.2542\n",
            "Epoch 14/20\n",
            "617/617 [==============================] - 2s 3ms/step - loss: 1.9830 - accuracy: 0.3702 - val_loss: 2.0979 - val_accuracy: 0.2542\n",
            "Epoch 15/20\n",
            "617/617 [==============================] - 2s 3ms/step - loss: 1.9691 - accuracy: 0.3799 - val_loss: 2.1026 - val_accuracy: 0.2542\n",
            "Epoch 16/20\n",
            "617/617 [==============================] - 2s 3ms/step - loss: 1.9680 - accuracy: 0.3842 - val_loss: 2.1016 - val_accuracy: 0.2542\n",
            "Epoch 17/20\n",
            "617/617 [==============================] - 2s 3ms/step - loss: 1.9511 - accuracy: 0.3949 - val_loss: 2.1106 - val_accuracy: 0.2542\n"
          ]
        },
        {
          "name": "stderr",
          "output_type": "stream",
          "text": [
            "WARNING:absl:At this time, the v2.11+ optimizer `tf.keras.optimizers.Adam` runs slowly on M1/M2 Macs, please use the legacy Keras optimizer instead, located at `tf.keras.optimizers.legacy.Adam`.\n"
          ]
        },
        {
          "name": "stdout",
          "output_type": "stream",
          "text": [
            "Epoch 1/20\n",
            "309/309 [==============================] - 2s 4ms/step - loss: 2.2957 - accuracy: 0.2409 - val_loss: 2.1158 - val_accuracy: 0.2881\n",
            "Epoch 2/20\n",
            "309/309 [==============================] - 1s 4ms/step - loss: 2.0935 - accuracy: 0.2770 - val_loss: 1.9855 - val_accuracy: 0.3904\n",
            "Epoch 3/20\n",
            "309/309 [==============================] - 1s 4ms/step - loss: 1.9691 - accuracy: 0.3706 - val_loss: 1.7420 - val_accuracy: 0.4645\n",
            "Epoch 4/20\n",
            "309/309 [==============================] - 1s 4ms/step - loss: 1.8723 - accuracy: 0.4244 - val_loss: 1.7251 - val_accuracy: 0.4662\n",
            "Epoch 5/20\n",
            "309/309 [==============================] - 1s 4ms/step - loss: 1.8218 - accuracy: 0.4388 - val_loss: 1.7134 - val_accuracy: 0.4718\n",
            "Epoch 6/20\n",
            "309/309 [==============================] - 1s 5ms/step - loss: 1.7898 - accuracy: 0.4468 - val_loss: 1.7096 - val_accuracy: 0.4726\n",
            "Epoch 7/20\n",
            "309/309 [==============================] - 1s 4ms/step - loss: 1.7638 - accuracy: 0.4513 - val_loss: 1.6845 - val_accuracy: 0.4730\n",
            "Epoch 8/20\n",
            "309/309 [==============================] - 1s 4ms/step - loss: 1.7541 - accuracy: 0.4519 - val_loss: 1.6894 - val_accuracy: 0.4730\n",
            "Epoch 9/20\n",
            "309/309 [==============================] - 1s 4ms/step - loss: 1.7357 - accuracy: 0.4501 - val_loss: 1.6525 - val_accuracy: 0.4738\n",
            "Epoch 10/20\n",
            "309/309 [==============================] - 1s 4ms/step - loss: 1.7168 - accuracy: 0.4529 - val_loss: 1.6625 - val_accuracy: 0.4738\n",
            "Epoch 11/20\n",
            "309/309 [==============================] - 1s 4ms/step - loss: 1.6998 - accuracy: 0.4539 - val_loss: 1.6344 - val_accuracy: 0.4722\n",
            "Epoch 12/20\n",
            "309/309 [==============================] - 1s 4ms/step - loss: 1.6836 - accuracy: 0.4587 - val_loss: 1.6170 - val_accuracy: 0.5028\n",
            "Epoch 13/20\n",
            "309/309 [==============================] - 1s 4ms/step - loss: 1.6692 - accuracy: 0.4709 - val_loss: 1.6076 - val_accuracy: 0.5052\n",
            "Epoch 14/20\n",
            "309/309 [==============================] - 1s 4ms/step - loss: 1.6604 - accuracy: 0.4730 - val_loss: 1.5785 - val_accuracy: 0.5052\n",
            "Epoch 15/20\n",
            "309/309 [==============================] - 1s 4ms/step - loss: 1.6452 - accuracy: 0.4723 - val_loss: 1.5761 - val_accuracy: 0.5012\n",
            "Epoch 16/20\n",
            "309/309 [==============================] - 1s 5ms/step - loss: 1.6317 - accuracy: 0.4724 - val_loss: 1.5658 - val_accuracy: 0.5121\n",
            "Epoch 17/20\n",
            "309/309 [==============================] - 1s 4ms/step - loss: 1.6200 - accuracy: 0.4775 - val_loss: 1.5450 - val_accuracy: 0.5185\n",
            "Epoch 18/20\n",
            "309/309 [==============================] - 1s 4ms/step - loss: 1.6125 - accuracy: 0.4793 - val_loss: 1.5363 - val_accuracy: 0.5185\n",
            "Epoch 19/20\n",
            "309/309 [==============================] - 1s 4ms/step - loss: 1.6008 - accuracy: 0.4808 - val_loss: 1.5298 - val_accuracy: 0.5185\n",
            "Epoch 20/20\n",
            "309/309 [==============================] - 1s 4ms/step - loss: 1.5937 - accuracy: 0.4869 - val_loss: 1.5169 - val_accuracy: 0.5222\n"
          ]
        },
        {
          "name": "stderr",
          "output_type": "stream",
          "text": [
            "WARNING:absl:At this time, the v2.11+ optimizer `tf.keras.optimizers.Adam` runs slowly on M1/M2 Macs, please use the legacy Keras optimizer instead, located at `tf.keras.optimizers.legacy.Adam`.\n"
          ]
        },
        {
          "name": "stdout",
          "output_type": "stream",
          "text": [
            "Epoch 1/20\n",
            "309/309 [==============================] - 2s 4ms/step - loss: 2.5468 - accuracy: 0.1569 - val_loss: 2.4857 - val_accuracy: 0.2542\n",
            "Epoch 2/20\n",
            "309/309 [==============================] - 1s 4ms/step - loss: 2.3597 - accuracy: 0.2488 - val_loss: 2.3458 - val_accuracy: 0.2542\n",
            "Epoch 3/20\n",
            "309/309 [==============================] - 1s 4ms/step - loss: 2.2435 - accuracy: 0.2580 - val_loss: 2.2442 - val_accuracy: 0.2865\n",
            "Epoch 4/20\n",
            "309/309 [==============================] - 1s 4ms/step - loss: 2.1839 - accuracy: 0.2689 - val_loss: 2.1885 - val_accuracy: 0.2865\n",
            "Epoch 5/20\n",
            "309/309 [==============================] - 1s 4ms/step - loss: 2.1506 - accuracy: 0.2701 - val_loss: 2.1624 - val_accuracy: 0.2865\n",
            "Epoch 6/20\n",
            "309/309 [==============================] - 1s 4ms/step - loss: 2.1182 - accuracy: 0.2745 - val_loss: 2.1457 - val_accuracy: 0.2865\n",
            "Epoch 7/20\n",
            "309/309 [==============================] - 1s 4ms/step - loss: 2.0974 - accuracy: 0.2720 - val_loss: 2.1428 - val_accuracy: 0.2865\n",
            "Epoch 8/20\n",
            "309/309 [==============================] - 1s 4ms/step - loss: 2.0850 - accuracy: 0.2788 - val_loss: 2.1440 - val_accuracy: 0.2865\n",
            "Epoch 9/20\n",
            "309/309 [==============================] - 1s 4ms/step - loss: 2.0686 - accuracy: 0.2809 - val_loss: 2.1384 - val_accuracy: 0.2865\n",
            "Epoch 10/20\n",
            "309/309 [==============================] - 1s 4ms/step - loss: 2.0537 - accuracy: 0.2863 - val_loss: 2.1369 - val_accuracy: 0.2865\n",
            "Epoch 11/20\n",
            "309/309 [==============================] - 1s 4ms/step - loss: 2.0448 - accuracy: 0.2867 - val_loss: 2.1346 - val_accuracy: 0.2865\n",
            "Epoch 12/20\n",
            "309/309 [==============================] - 1s 4ms/step - loss: 2.0382 - accuracy: 0.2924 - val_loss: 2.1338 - val_accuracy: 0.2865\n",
            "Epoch 13/20\n",
            "309/309 [==============================] - 1s 4ms/step - loss: 2.0308 - accuracy: 0.2967 - val_loss: 2.1244 - val_accuracy: 0.2865\n",
            "Epoch 14/20\n",
            "309/309 [==============================] - 1s 4ms/step - loss: 2.0184 - accuracy: 0.3050 - val_loss: 2.1261 - val_accuracy: 0.2558\n",
            "Epoch 15/20\n",
            "309/309 [==============================] - 1s 4ms/step - loss: 2.0102 - accuracy: 0.3082 - val_loss: 2.1196 - val_accuracy: 0.2542\n",
            "Epoch 16/20\n",
            "309/309 [==============================] - 1s 4ms/step - loss: 2.0071 - accuracy: 0.3238 - val_loss: 2.1211 - val_accuracy: 0.2542\n",
            "Epoch 17/20\n",
            "309/309 [==============================] - 1s 5ms/step - loss: 2.0011 - accuracy: 0.3312 - val_loss: 2.1197 - val_accuracy: 0.2542\n",
            "Epoch 18/20\n",
            "309/309 [==============================] - 1s 4ms/step - loss: 1.9940 - accuracy: 0.3370 - val_loss: 2.1246 - val_accuracy: 0.2542\n"
          ]
        },
        {
          "name": "stderr",
          "output_type": "stream",
          "text": [
            "WARNING:absl:At this time, the v2.11+ optimizer `tf.keras.optimizers.Adam` runs slowly on M1/M2 Macs, please use the legacy Keras optimizer instead, located at `tf.keras.optimizers.legacy.Adam`.\n"
          ]
        },
        {
          "name": "stdout",
          "output_type": "stream",
          "text": [
            "Epoch 1/20\n",
            "155/155 [==============================] - 2s 6ms/step - loss: 2.3156 - accuracy: 0.2270 - val_loss: 2.1009 - val_accuracy: 0.2865\n",
            "Epoch 2/20\n",
            "155/155 [==============================] - 1s 6ms/step - loss: 2.1038 - accuracy: 0.2651 - val_loss: 2.0257 - val_accuracy: 0.2865\n",
            "Epoch 3/20\n",
            "155/155 [==============================] - 1s 6ms/step - loss: 2.0620 - accuracy: 0.2705 - val_loss: 2.0115 - val_accuracy: 0.2865\n",
            "Epoch 4/20\n",
            "155/155 [==============================] - 1s 6ms/step - loss: 2.0309 - accuracy: 0.2800 - val_loss: 1.9526 - val_accuracy: 0.4025\n",
            "Epoch 5/20\n",
            "155/155 [==============================] - 1s 6ms/step - loss: 1.9732 - accuracy: 0.3284 - val_loss: 1.7816 - val_accuracy: 0.4537\n",
            "Epoch 6/20\n",
            "155/155 [==============================] - 1s 6ms/step - loss: 1.8851 - accuracy: 0.3991 - val_loss: 1.7284 - val_accuracy: 0.4517\n",
            "Epoch 7/20\n",
            "155/155 [==============================] - 1s 6ms/step - loss: 1.8366 - accuracy: 0.4163 - val_loss: 1.7048 - val_accuracy: 0.4529\n",
            "Epoch 8/20\n",
            "155/155 [==============================] - 1s 6ms/step - loss: 1.8046 - accuracy: 0.4267 - val_loss: 1.6940 - val_accuracy: 0.4589\n",
            "Epoch 9/20\n",
            "155/155 [==============================] - 1s 6ms/step - loss: 1.7794 - accuracy: 0.4360 - val_loss: 1.6724 - val_accuracy: 0.4670\n",
            "Epoch 10/20\n",
            "155/155 [==============================] - 1s 6ms/step - loss: 1.7553 - accuracy: 0.4406 - val_loss: 1.6513 - val_accuracy: 0.4907\n",
            "Epoch 11/20\n",
            "155/155 [==============================] - 1s 6ms/step - loss: 1.7356 - accuracy: 0.4485 - val_loss: 1.6301 - val_accuracy: 0.4919\n",
            "Epoch 12/20\n",
            "155/155 [==============================] - 1s 6ms/step - loss: 1.7165 - accuracy: 0.4550 - val_loss: 1.6425 - val_accuracy: 0.4960\n",
            "Epoch 13/20\n",
            "155/155 [==============================] - 1s 6ms/step - loss: 1.6984 - accuracy: 0.4581 - val_loss: 1.6322 - val_accuracy: 0.4956\n",
            "Epoch 14/20\n",
            "155/155 [==============================] - 1s 6ms/step - loss: 1.6973 - accuracy: 0.4607 - val_loss: 1.6236 - val_accuracy: 0.4968\n",
            "Epoch 15/20\n",
            "155/155 [==============================] - 1s 6ms/step - loss: 1.6832 - accuracy: 0.4614 - val_loss: 1.6076 - val_accuracy: 0.4980\n",
            "Epoch 16/20\n",
            "155/155 [==============================] - 1s 6ms/step - loss: 1.6738 - accuracy: 0.4622 - val_loss: 1.5871 - val_accuracy: 0.4988\n",
            "Epoch 17/20\n",
            "155/155 [==============================] - 1s 6ms/step - loss: 1.6687 - accuracy: 0.4632 - val_loss: 1.5943 - val_accuracy: 0.4964\n",
            "Epoch 18/20\n",
            "155/155 [==============================] - 1s 6ms/step - loss: 1.6594 - accuracy: 0.4671 - val_loss: 1.5992 - val_accuracy: 0.5008\n",
            "Epoch 19/20\n",
            "155/155 [==============================] - 1s 6ms/step - loss: 1.6514 - accuracy: 0.4693 - val_loss: 1.5639 - val_accuracy: 0.5181\n",
            "Epoch 20/20\n",
            "155/155 [==============================] - 1s 6ms/step - loss: 1.6463 - accuracy: 0.4689 - val_loss: 1.5640 - val_accuracy: 0.5133\n"
          ]
        },
        {
          "name": "stderr",
          "output_type": "stream",
          "text": [
            "WARNING:absl:At this time, the v2.11+ optimizer `tf.keras.optimizers.Adam` runs slowly on M1/M2 Macs, please use the legacy Keras optimizer instead, located at `tf.keras.optimizers.legacy.Adam`.\n"
          ]
        },
        {
          "name": "stdout",
          "output_type": "stream",
          "text": [
            "Epoch 1/20\n",
            "155/155 [==============================] - 2s 6ms/step - loss: 2.5535 - accuracy: 0.1298 - val_loss: 2.5240 - val_accuracy: 0.2865\n",
            "Epoch 2/20\n",
            "155/155 [==============================] - 1s 6ms/step - loss: 2.4449 - accuracy: 0.2140 - val_loss: 2.4519 - val_accuracy: 0.2865\n",
            "Epoch 3/20\n",
            "155/155 [==============================] - 1s 6ms/step - loss: 2.3493 - accuracy: 0.2487 - val_loss: 2.3621 - val_accuracy: 0.2865\n",
            "Epoch 4/20\n",
            "155/155 [==============================] - 1s 6ms/step - loss: 2.2677 - accuracy: 0.2648 - val_loss: 2.2980 - val_accuracy: 0.2865\n",
            "Epoch 5/20\n",
            "155/155 [==============================] - 1s 6ms/step - loss: 2.2242 - accuracy: 0.2683 - val_loss: 2.2557 - val_accuracy: 0.2865\n",
            "Epoch 6/20\n",
            "155/155 [==============================] - 1s 6ms/step - loss: 2.1933 - accuracy: 0.2651 - val_loss: 2.2251 - val_accuracy: 0.2865\n",
            "Epoch 7/20\n",
            "155/155 [==============================] - 1s 6ms/step - loss: 2.1595 - accuracy: 0.2740 - val_loss: 2.1990 - val_accuracy: 0.2865\n",
            "Epoch 8/20\n",
            "155/155 [==============================] - 1s 6ms/step - loss: 2.1485 - accuracy: 0.2738 - val_loss: 2.1900 - val_accuracy: 0.2865\n",
            "Epoch 9/20\n",
            "155/155 [==============================] - 1s 6ms/step - loss: 2.1256 - accuracy: 0.2787 - val_loss: 2.1759 - val_accuracy: 0.2865\n",
            "Epoch 10/20\n",
            "155/155 [==============================] - 1s 6ms/step - loss: 2.1155 - accuracy: 0.2767 - val_loss: 2.1769 - val_accuracy: 0.2865\n",
            "Epoch 11/20\n",
            "155/155 [==============================] - 1s 6ms/step - loss: 2.0986 - accuracy: 0.2767 - val_loss: 2.1712 - val_accuracy: 0.2865\n",
            "Epoch 12/20\n",
            "155/155 [==============================] - 1s 6ms/step - loss: 2.0886 - accuracy: 0.2828 - val_loss: 2.1634 - val_accuracy: 0.2865\n",
            "Epoch 13/20\n",
            "155/155 [==============================] - 1s 6ms/step - loss: 2.0768 - accuracy: 0.2825 - val_loss: 2.1625 - val_accuracy: 0.2865\n",
            "Epoch 14/20\n",
            "155/155 [==============================] - 1s 6ms/step - loss: 2.0686 - accuracy: 0.2827 - val_loss: 2.1614 - val_accuracy: 0.2865\n",
            "Epoch 15/20\n",
            "155/155 [==============================] - 1s 6ms/step - loss: 2.0620 - accuracy: 0.2913 - val_loss: 2.1559 - val_accuracy: 0.3541\n",
            "Epoch 16/20\n",
            "155/155 [==============================] - 1s 6ms/step - loss: 2.0519 - accuracy: 0.2910 - val_loss: 2.1522 - val_accuracy: 0.3328\n",
            "Epoch 17/20\n",
            "155/155 [==============================] - 1s 6ms/step - loss: 2.0541 - accuracy: 0.2946 - val_loss: 2.1511 - val_accuracy: 0.2587\n",
            "Epoch 18/20\n",
            "155/155 [==============================] - 1s 6ms/step - loss: 2.0338 - accuracy: 0.3006 - val_loss: 2.1445 - val_accuracy: 0.2546\n",
            "Epoch 19/20\n",
            "155/155 [==============================] - 1s 6ms/step - loss: 2.0344 - accuracy: 0.3040 - val_loss: 2.1476 - val_accuracy: 0.2542\n",
            "Epoch 20/20\n",
            "155/155 [==============================] - 1s 6ms/step - loss: 2.0349 - accuracy: 0.3101 - val_loss: 2.1450 - val_accuracy: 0.2542\n"
          ]
        },
        {
          "name": "stderr",
          "output_type": "stream",
          "text": [
            "WARNING:absl:At this time, the v2.11+ optimizer `tf.keras.optimizers.Adam` runs slowly on M1/M2 Macs, please use the legacy Keras optimizer instead, located at `tf.keras.optimizers.legacy.Adam`.\n"
          ]
        },
        {
          "name": "stdout",
          "output_type": "stream",
          "text": [
            "Epoch 1/20\n",
            "617/617 [==============================] - 3s 4ms/step - loss: 1.9524 - accuracy: 0.3565 - val_loss: 1.7206 - val_accuracy: 0.4811\n",
            "Epoch 2/20\n",
            "617/617 [==============================] - 2s 3ms/step - loss: 1.7015 - accuracy: 0.4581 - val_loss: 1.5227 - val_accuracy: 0.5145\n",
            "Epoch 3/20\n",
            "617/617 [==============================] - 2s 3ms/step - loss: 1.6221 - accuracy: 0.4806 - val_loss: 1.4974 - val_accuracy: 0.5238\n",
            "Epoch 4/20\n",
            "617/617 [==============================] - 2s 3ms/step - loss: 1.5799 - accuracy: 0.4926 - val_loss: 1.4673 - val_accuracy: 0.5314\n",
            "Epoch 5/20\n",
            "617/617 [==============================] - 2s 3ms/step - loss: 1.5574 - accuracy: 0.4956 - val_loss: 1.5140 - val_accuracy: 0.5153\n",
            "Epoch 6/20\n",
            "617/617 [==============================] - 2s 3ms/step - loss: 1.5405 - accuracy: 0.5018 - val_loss: 1.4411 - val_accuracy: 0.5351\n",
            "Epoch 7/20\n",
            "617/617 [==============================] - 2s 3ms/step - loss: 1.5245 - accuracy: 0.5098 - val_loss: 1.4267 - val_accuracy: 0.5459\n",
            "Epoch 8/20\n",
            "617/617 [==============================] - 2s 3ms/step - loss: 1.5061 - accuracy: 0.5144 - val_loss: 1.4591 - val_accuracy: 0.5334\n",
            "Epoch 9/20\n",
            "617/617 [==============================] - 2s 4ms/step - loss: 1.4951 - accuracy: 0.5201 - val_loss: 1.4116 - val_accuracy: 0.5488\n",
            "Epoch 10/20\n",
            "617/617 [==============================] - 2s 3ms/step - loss: 1.4779 - accuracy: 0.5287 - val_loss: 1.4419 - val_accuracy: 0.5471\n",
            "Epoch 11/20\n",
            "617/617 [==============================] - 2s 3ms/step - loss: 1.4705 - accuracy: 0.5390 - val_loss: 1.4181 - val_accuracy: 0.5508\n",
            "Epoch 12/20\n",
            "617/617 [==============================] - 2s 3ms/step - loss: 1.4518 - accuracy: 0.5478 - val_loss: 1.4005 - val_accuracy: 0.5822\n",
            "Epoch 13/20\n",
            "617/617 [==============================] - 2s 3ms/step - loss: 1.4392 - accuracy: 0.5527 - val_loss: 1.4200 - val_accuracy: 0.5596\n",
            "Epoch 14/20\n",
            "617/617 [==============================] - 2s 3ms/step - loss: 1.4370 - accuracy: 0.5540 - val_loss: 1.3862 - val_accuracy: 0.5745\n",
            "Epoch 15/20\n",
            "617/617 [==============================] - 2s 3ms/step - loss: 1.4328 - accuracy: 0.5553 - val_loss: 1.3747 - val_accuracy: 0.5870\n",
            "Epoch 16/20\n",
            "617/617 [==============================] - 2s 3ms/step - loss: 1.4287 - accuracy: 0.5567 - val_loss: 1.3616 - val_accuracy: 0.5770\n",
            "Epoch 17/20\n",
            "617/617 [==============================] - 2s 3ms/step - loss: 1.4127 - accuracy: 0.5661 - val_loss: 1.3692 - val_accuracy: 0.5886\n",
            "Epoch 18/20\n",
            "617/617 [==============================] - 2s 3ms/step - loss: 1.4063 - accuracy: 0.5657 - val_loss: 1.3942 - val_accuracy: 0.5653\n",
            "Epoch 19/20\n",
            "617/617 [==============================] - 2s 3ms/step - loss: 1.4130 - accuracy: 0.5672 - val_loss: 1.3744 - val_accuracy: 0.5878\n"
          ]
        },
        {
          "name": "stderr",
          "output_type": "stream",
          "text": [
            "WARNING:absl:At this time, the v2.11+ optimizer `tf.keras.optimizers.Adam` runs slowly on M1/M2 Macs, please use the legacy Keras optimizer instead, located at `tf.keras.optimizers.legacy.Adam`.\n"
          ]
        },
        {
          "name": "stdout",
          "output_type": "stream",
          "text": [
            "Epoch 1/20\n",
            "617/617 [==============================] - 3s 3ms/step - loss: 2.1702 - accuracy: 0.2609 - val_loss: 2.1106 - val_accuracy: 0.2865\n",
            "Epoch 2/20\n",
            "617/617 [==============================] - 2s 3ms/step - loss: 2.0322 - accuracy: 0.2886 - val_loss: 2.0457 - val_accuracy: 0.4065\n",
            "Epoch 3/20\n",
            "617/617 [==============================] - 2s 3ms/step - loss: 1.9917 - accuracy: 0.3477 - val_loss: 2.0196 - val_accuracy: 0.3723\n",
            "Epoch 4/20\n",
            "617/617 [==============================] - 2s 3ms/step - loss: 1.9528 - accuracy: 0.3905 - val_loss: 2.0116 - val_accuracy: 0.3678\n",
            "Epoch 5/20\n",
            "617/617 [==============================] - 2s 3ms/step - loss: 1.9282 - accuracy: 0.4189 - val_loss: 2.0375 - val_accuracy: 0.3207\n",
            "Epoch 6/20\n",
            "617/617 [==============================] - 2s 3ms/step - loss: 1.9015 - accuracy: 0.4333 - val_loss: 2.0218 - val_accuracy: 0.3832\n",
            "Epoch 7/20\n",
            "617/617 [==============================] - 2s 3ms/step - loss: 1.8850 - accuracy: 0.4415 - val_loss: 2.0116 - val_accuracy: 0.3993\n",
            "Epoch 8/20\n",
            "617/617 [==============================] - 2s 3ms/step - loss: 1.8688 - accuracy: 0.4505 - val_loss: 1.9715 - val_accuracy: 0.4311\n",
            "Epoch 9/20\n",
            "617/617 [==============================] - 2s 3ms/step - loss: 1.8626 - accuracy: 0.4482 - val_loss: 2.0000 - val_accuracy: 0.4142\n",
            "Epoch 10/20\n",
            "617/617 [==============================] - 2s 3ms/step - loss: 1.8537 - accuracy: 0.4535 - val_loss: 2.0249 - val_accuracy: 0.3638\n",
            "Epoch 11/20\n",
            "617/617 [==============================] - 2s 3ms/step - loss: 1.8452 - accuracy: 0.4548 - val_loss: 1.9915 - val_accuracy: 0.4150\n"
          ]
        },
        {
          "name": "stderr",
          "output_type": "stream",
          "text": [
            "WARNING:absl:At this time, the v2.11+ optimizer `tf.keras.optimizers.Adam` runs slowly on M1/M2 Macs, please use the legacy Keras optimizer instead, located at `tf.keras.optimizers.legacy.Adam`.\n"
          ]
        },
        {
          "name": "stdout",
          "output_type": "stream",
          "text": [
            "Epoch 1/20\n",
            "309/309 [==============================] - 2s 5ms/step - loss: 1.9428 - accuracy: 0.3688 - val_loss: 1.6800 - val_accuracy: 0.4698\n",
            "Epoch 2/20\n",
            "309/309 [==============================] - 1s 4ms/step - loss: 1.7036 - accuracy: 0.4603 - val_loss: 1.5555 - val_accuracy: 0.5177\n",
            "Epoch 3/20\n",
            "309/309 [==============================] - 1s 4ms/step - loss: 1.6276 - accuracy: 0.4740 - val_loss: 1.5284 - val_accuracy: 0.5060\n",
            "Epoch 4/20\n",
            "309/309 [==============================] - 1s 4ms/step - loss: 1.5846 - accuracy: 0.4889 - val_loss: 1.5010 - val_accuracy: 0.5222\n",
            "Epoch 5/20\n",
            "309/309 [==============================] - 1s 4ms/step - loss: 1.5583 - accuracy: 0.4954 - val_loss: 1.4836 - val_accuracy: 0.5214\n",
            "Epoch 6/20\n",
            "309/309 [==============================] - 1s 4ms/step - loss: 1.5393 - accuracy: 0.5016 - val_loss: 1.4957 - val_accuracy: 0.5290\n",
            "Epoch 7/20\n",
            "309/309 [==============================] - 1s 4ms/step - loss: 1.5185 - accuracy: 0.5086 - val_loss: 1.4407 - val_accuracy: 0.5371\n",
            "Epoch 8/20\n",
            "309/309 [==============================] - 1s 4ms/step - loss: 1.5020 - accuracy: 0.5185 - val_loss: 1.4370 - val_accuracy: 0.5512\n",
            "Epoch 9/20\n",
            "309/309 [==============================] - 1s 4ms/step - loss: 1.4885 - accuracy: 0.5276 - val_loss: 1.4379 - val_accuracy: 0.5580\n",
            "Epoch 10/20\n",
            "309/309 [==============================] - 1s 4ms/step - loss: 1.4657 - accuracy: 0.5436 - val_loss: 1.4040 - val_accuracy: 0.5677\n",
            "Epoch 11/20\n",
            "309/309 [==============================] - 1s 4ms/step - loss: 1.4574 - accuracy: 0.5485 - val_loss: 1.3645 - val_accuracy: 0.5850\n",
            "Epoch 12/20\n",
            "309/309 [==============================] - 1s 4ms/step - loss: 1.4364 - accuracy: 0.5586 - val_loss: 1.3839 - val_accuracy: 0.5798\n",
            "Epoch 13/20\n",
            "309/309 [==============================] - 1s 4ms/step - loss: 1.4209 - accuracy: 0.5641 - val_loss: 1.3668 - val_accuracy: 0.5967\n",
            "Epoch 14/20\n",
            "309/309 [==============================] - 1s 4ms/step - loss: 1.4154 - accuracy: 0.5682 - val_loss: 1.3867 - val_accuracy: 0.5935\n"
          ]
        },
        {
          "name": "stderr",
          "output_type": "stream",
          "text": [
            "WARNING:absl:At this time, the v2.11+ optimizer `tf.keras.optimizers.Adam` runs slowly on M1/M2 Macs, please use the legacy Keras optimizer instead, located at `tf.keras.optimizers.legacy.Adam`.\n"
          ]
        },
        {
          "name": "stdout",
          "output_type": "stream",
          "text": [
            "Epoch 1/20\n",
            "309/309 [==============================] - 2s 4ms/step - loss: 2.1880 - accuracy: 0.2548 - val_loss: 2.1551 - val_accuracy: 0.2865\n",
            "Epoch 2/20\n",
            "309/309 [==============================] - 1s 4ms/step - loss: 2.0308 - accuracy: 0.2915 - val_loss: 2.0990 - val_accuracy: 0.3529\n",
            "Epoch 3/20\n",
            "309/309 [==============================] - 1s 4ms/step - loss: 1.9957 - accuracy: 0.3308 - val_loss: 2.0991 - val_accuracy: 0.2542\n",
            "Epoch 4/20\n",
            "309/309 [==============================] - 1s 4ms/step - loss: 1.9621 - accuracy: 0.3675 - val_loss: 2.1021 - val_accuracy: 0.2542\n",
            "Epoch 5/20\n",
            "309/309 [==============================] - 1s 4ms/step - loss: 1.9311 - accuracy: 0.3983 - val_loss: 2.0705 - val_accuracy: 0.2542\n",
            "Epoch 6/20\n",
            "309/309 [==============================] - 1s 4ms/step - loss: 1.9148 - accuracy: 0.4109 - val_loss: 2.0546 - val_accuracy: 0.2542\n",
            "Epoch 7/20\n",
            "309/309 [==============================] - 1s 4ms/step - loss: 1.9032 - accuracy: 0.4252 - val_loss: 2.0326 - val_accuracy: 0.2840\n",
            "Epoch 8/20\n",
            "309/309 [==============================] - 1s 4ms/step - loss: 1.8764 - accuracy: 0.4346 - val_loss: 2.0106 - val_accuracy: 0.3082\n",
            "Epoch 9/20\n",
            "309/309 [==============================] - 1s 4ms/step - loss: 1.8675 - accuracy: 0.4421 - val_loss: 2.0651 - val_accuracy: 0.2736\n",
            "Epoch 10/20\n",
            "309/309 [==============================] - 1s 4ms/step - loss: 1.8634 - accuracy: 0.4471 - val_loss: 1.9800 - val_accuracy: 0.4367\n",
            "Epoch 11/20\n",
            "309/309 [==============================] - 1s 4ms/step - loss: 1.8558 - accuracy: 0.4509 - val_loss: 2.0246 - val_accuracy: 0.3316\n",
            "Epoch 12/20\n",
            "309/309 [==============================] - 1s 4ms/step - loss: 1.8429 - accuracy: 0.4557 - val_loss: 2.0261 - val_accuracy: 0.2716\n",
            "Epoch 13/20\n",
            "309/309 [==============================] - 1s 4ms/step - loss: 1.8351 - accuracy: 0.4543 - val_loss: 2.0281 - val_accuracy: 0.2675\n"
          ]
        },
        {
          "name": "stderr",
          "output_type": "stream",
          "text": [
            "WARNING:absl:At this time, the v2.11+ optimizer `tf.keras.optimizers.Adam` runs slowly on M1/M2 Macs, please use the legacy Keras optimizer instead, located at `tf.keras.optimizers.legacy.Adam`.\n"
          ]
        },
        {
          "name": "stdout",
          "output_type": "stream",
          "text": [
            "Epoch 1/20\n",
            "155/155 [==============================] - 2s 6ms/step - loss: 2.0292 - accuracy: 0.3113 - val_loss: 1.7223 - val_accuracy: 0.4658\n",
            "Epoch 2/20\n",
            "155/155 [==============================] - 1s 6ms/step - loss: 1.7761 - accuracy: 0.4491 - val_loss: 1.6133 - val_accuracy: 0.5040\n",
            "Epoch 3/20\n",
            "155/155 [==============================] - 1s 6ms/step - loss: 1.6856 - accuracy: 0.4743 - val_loss: 1.5547 - val_accuracy: 0.5081\n",
            "Epoch 4/20\n",
            "155/155 [==============================] - 1s 6ms/step - loss: 1.6432 - accuracy: 0.4759 - val_loss: 1.5668 - val_accuracy: 0.5214\n",
            "Epoch 5/20\n",
            "155/155 [==============================] - 1s 6ms/step - loss: 1.6025 - accuracy: 0.4873 - val_loss: 1.5250 - val_accuracy: 0.5274\n",
            "Epoch 6/20\n",
            "155/155 [==============================] - 1s 6ms/step - loss: 1.5681 - accuracy: 0.4994 - val_loss: 1.4893 - val_accuracy: 0.5342\n",
            "Epoch 7/20\n",
            "155/155 [==============================] - 1s 6ms/step - loss: 1.5499 - accuracy: 0.5037 - val_loss: 1.4479 - val_accuracy: 0.5411\n",
            "Epoch 8/20\n",
            "155/155 [==============================] - 1s 6ms/step - loss: 1.5237 - accuracy: 0.5104 - val_loss: 1.4205 - val_accuracy: 0.5379\n",
            "Epoch 9/20\n",
            "155/155 [==============================] - 1s 6ms/step - loss: 1.5043 - accuracy: 0.5205 - val_loss: 1.4383 - val_accuracy: 0.5608\n",
            "Epoch 10/20\n",
            "155/155 [==============================] - 1s 6ms/step - loss: 1.4874 - accuracy: 0.5315 - val_loss: 1.4323 - val_accuracy: 0.5641\n",
            "Epoch 11/20\n",
            "155/155 [==============================] - 1s 6ms/step - loss: 1.4709 - accuracy: 0.5368 - val_loss: 1.4015 - val_accuracy: 0.5794\n",
            "Epoch 12/20\n",
            "155/155 [==============================] - 1s 6ms/step - loss: 1.4558 - accuracy: 0.5498 - val_loss: 1.3940 - val_accuracy: 0.5766\n",
            "Epoch 13/20\n",
            "155/155 [==============================] - 1s 6ms/step - loss: 1.4451 - accuracy: 0.5538 - val_loss: 1.3851 - val_accuracy: 0.5774\n",
            "Epoch 14/20\n",
            "155/155 [==============================] - 1s 6ms/step - loss: 1.4353 - accuracy: 0.5565 - val_loss: 1.3839 - val_accuracy: 0.5822\n",
            "Epoch 15/20\n",
            "155/155 [==============================] - 1s 6ms/step - loss: 1.4241 - accuracy: 0.5613 - val_loss: 1.3853 - val_accuracy: 0.5911\n",
            "Epoch 16/20\n",
            "155/155 [==============================] - 1s 6ms/step - loss: 1.4152 - accuracy: 0.5665 - val_loss: 1.3681 - val_accuracy: 0.5907\n",
            "Epoch 17/20\n",
            "155/155 [==============================] - 1s 6ms/step - loss: 1.4016 - accuracy: 0.5672 - val_loss: 1.3716 - val_accuracy: 0.6031\n",
            "Epoch 18/20\n",
            "155/155 [==============================] - 1s 6ms/step - loss: 1.3969 - accuracy: 0.5701 - val_loss: 1.3625 - val_accuracy: 0.5898\n",
            "Epoch 19/20\n",
            "155/155 [==============================] - 1s 6ms/step - loss: 1.3893 - accuracy: 0.5718 - val_loss: 1.3510 - val_accuracy: 0.5987\n",
            "Epoch 20/20\n",
            "155/155 [==============================] - 1s 6ms/step - loss: 1.3746 - accuracy: 0.5770 - val_loss: 1.3480 - val_accuracy: 0.6092\n"
          ]
        },
        {
          "name": "stderr",
          "output_type": "stream",
          "text": [
            "WARNING:absl:At this time, the v2.11+ optimizer `tf.keras.optimizers.Adam` runs slowly on M1/M2 Macs, please use the legacy Keras optimizer instead, located at `tf.keras.optimizers.legacy.Adam`.\n"
          ]
        },
        {
          "name": "stdout",
          "output_type": "stream",
          "text": [
            "Epoch 1/20\n",
            "155/155 [==============================] - 2s 6ms/step - loss: 2.2970 - accuracy: 0.2415 - val_loss: 2.1574 - val_accuracy: 0.2865\n",
            "Epoch 2/20\n",
            "155/155 [==============================] - 1s 6ms/step - loss: 2.0947 - accuracy: 0.2747 - val_loss: 2.1208 - val_accuracy: 0.2865\n",
            "Epoch 3/20\n",
            "155/155 [==============================] - 1s 6ms/step - loss: 2.0398 - accuracy: 0.2876 - val_loss: 2.1219 - val_accuracy: 0.2865\n",
            "Epoch 4/20\n",
            "155/155 [==============================] - 1s 6ms/step - loss: 2.0081 - accuracy: 0.3207 - val_loss: 2.1089 - val_accuracy: 0.2579\n",
            "Epoch 5/20\n",
            "155/155 [==============================] - 1s 6ms/step - loss: 1.9725 - accuracy: 0.3620 - val_loss: 2.0849 - val_accuracy: 0.2542\n",
            "Epoch 6/20\n",
            "155/155 [==============================] - 1s 6ms/step - loss: 1.9522 - accuracy: 0.3874 - val_loss: 2.1012 - val_accuracy: 0.2542\n",
            "Epoch 7/20\n",
            "155/155 [==============================] - 1s 6ms/step - loss: 1.9279 - accuracy: 0.4127 - val_loss: 2.0676 - val_accuracy: 0.2542\n",
            "Epoch 8/20\n",
            "155/155 [==============================] - 1s 6ms/step - loss: 1.9078 - accuracy: 0.4257 - val_loss: 2.0622 - val_accuracy: 0.2599\n",
            "Epoch 9/20\n",
            "155/155 [==============================] - 1s 6ms/step - loss: 1.8895 - accuracy: 0.4355 - val_loss: 2.0420 - val_accuracy: 0.3014\n",
            "Epoch 10/20\n",
            "155/155 [==============================] - 1s 6ms/step - loss: 1.8761 - accuracy: 0.4391 - val_loss: 2.0010 - val_accuracy: 0.3888\n",
            "Epoch 11/20\n",
            "155/155 [==============================] - 1s 6ms/step - loss: 1.8665 - accuracy: 0.4468 - val_loss: 2.0621 - val_accuracy: 0.2699\n",
            "Epoch 12/20\n",
            "155/155 [==============================] - 1s 6ms/step - loss: 1.8642 - accuracy: 0.4479 - val_loss: 2.0105 - val_accuracy: 0.3203\n",
            "Epoch 13/20\n",
            "155/155 [==============================] - 1s 6ms/step - loss: 1.8554 - accuracy: 0.4522 - val_loss: 2.0034 - val_accuracy: 0.3755\n"
          ]
        },
        {
          "name": "stderr",
          "output_type": "stream",
          "text": [
            "WARNING:absl:At this time, the v2.11+ optimizer `tf.keras.optimizers.Adam` runs slowly on M1/M2 Macs, please use the legacy Keras optimizer instead, located at `tf.keras.optimizers.legacy.Adam`.\n"
          ]
        },
        {
          "name": "stdout",
          "output_type": "stream",
          "text": [
            "Epoch 1/20\n",
            "617/617 [==============================] - 3s 4ms/step - loss: 2.0704 - accuracy: 0.2840 - val_loss: 2.0553 - val_accuracy: 0.2865\n",
            "Epoch 2/20\n",
            "617/617 [==============================] - 2s 3ms/step - loss: 2.0912 - accuracy: 0.2851 - val_loss: 2.0547 - val_accuracy: 0.2865\n",
            "Epoch 3/20\n",
            "617/617 [==============================] - 2s 3ms/step - loss: 2.0461 - accuracy: 0.2875 - val_loss: 2.0546 - val_accuracy: 0.2865\n",
            "Epoch 4/20\n",
            "617/617 [==============================] - 2s 4ms/step - loss: 2.0476 - accuracy: 0.2875 - val_loss: 2.0544 - val_accuracy: 0.2865\n",
            "Epoch 5/20\n",
            "617/617 [==============================] - 2s 3ms/step - loss: 2.0444 - accuracy: 0.2875 - val_loss: 2.0535 - val_accuracy: 0.2865\n",
            "Epoch 6/20\n",
            "617/617 [==============================] - 2s 3ms/step - loss: 2.0445 - accuracy: 0.2875 - val_loss: 2.0549 - val_accuracy: 0.2865\n",
            "Epoch 7/20\n",
            "617/617 [==============================] - 2s 3ms/step - loss: 2.0444 - accuracy: 0.2844 - val_loss: 2.0539 - val_accuracy: 0.2865\n",
            "Epoch 8/20\n",
            "617/617 [==============================] - 2s 3ms/step - loss: 2.0440 - accuracy: 0.2856 - val_loss: 2.0545 - val_accuracy: 0.2865\n"
          ]
        },
        {
          "name": "stderr",
          "output_type": "stream",
          "text": [
            "WARNING:absl:At this time, the v2.11+ optimizer `tf.keras.optimizers.Adam` runs slowly on M1/M2 Macs, please use the legacy Keras optimizer instead, located at `tf.keras.optimizers.legacy.Adam`.\n"
          ]
        },
        {
          "name": "stdout",
          "output_type": "stream",
          "text": [
            "Epoch 1/20\n",
            " 69/617 [==>...........................] - ETA: 1s - loss: 2.2372 - accuracy: 0.2545"
          ]
        },
        {
          "ename": "InvalidArgumentError",
          "evalue": "Graph execution error:\n\nDetected at node Adam/truediv_15 defined at (most recent call last):\n  File \"/Library/Frameworks/Python.framework/Versions/3.9/lib/python3.9/runpy.py\", line 197, in _run_module_as_main\n\n  File \"/Library/Frameworks/Python.framework/Versions/3.9/lib/python3.9/runpy.py\", line 87, in _run_code\n\n  File \"/Users/1108232/PycharmProjects/MADS-699-Capstone-fa23-team12/venv/lib/python3.9/site-packages/ipykernel_launcher.py\", line 17, in <module>\n\n  File \"/Users/1108232/PycharmProjects/MADS-699-Capstone-fa23-team12/venv/lib/python3.9/site-packages/traitlets/config/application.py\", line 1053, in launch_instance\n\n  File \"/Users/1108232/PycharmProjects/MADS-699-Capstone-fa23-team12/venv/lib/python3.9/site-packages/ipykernel/kernelapp.py\", line 736, in start\n\n  File \"/Users/1108232/PycharmProjects/MADS-699-Capstone-fa23-team12/venv/lib/python3.9/site-packages/tornado/platform/asyncio.py\", line 195, in start\n\n  File \"/Library/Frameworks/Python.framework/Versions/3.9/lib/python3.9/asyncio/base_events.py\", line 601, in run_forever\n\n  File \"/Library/Frameworks/Python.framework/Versions/3.9/lib/python3.9/asyncio/base_events.py\", line 1905, in _run_once\n\n  File \"/Library/Frameworks/Python.framework/Versions/3.9/lib/python3.9/asyncio/events.py\", line 80, in _run\n\n  File \"/Users/1108232/PycharmProjects/MADS-699-Capstone-fa23-team12/venv/lib/python3.9/site-packages/ipykernel/kernelbase.py\", line 516, in dispatch_queue\n\n  File \"/Users/1108232/PycharmProjects/MADS-699-Capstone-fa23-team12/venv/lib/python3.9/site-packages/ipykernel/kernelbase.py\", line 505, in process_one\n\n  File \"/Users/1108232/PycharmProjects/MADS-699-Capstone-fa23-team12/venv/lib/python3.9/site-packages/ipykernel/kernelbase.py\", line 412, in dispatch_shell\n\n  File \"/Users/1108232/PycharmProjects/MADS-699-Capstone-fa23-team12/venv/lib/python3.9/site-packages/ipykernel/kernelbase.py\", line 740, in execute_request\n\n  File \"/Users/1108232/PycharmProjects/MADS-699-Capstone-fa23-team12/venv/lib/python3.9/site-packages/ipykernel/ipkernel.py\", line 422, in do_execute\n\n  File \"/Users/1108232/PycharmProjects/MADS-699-Capstone-fa23-team12/venv/lib/python3.9/site-packages/ipykernel/zmqshell.py\", line 546, in run_cell\n\n  File \"/Users/1108232/PycharmProjects/MADS-699-Capstone-fa23-team12/venv/lib/python3.9/site-packages/IPython/core/interactiveshell.py\", line 3024, in run_cell\n\n  File \"/Users/1108232/PycharmProjects/MADS-699-Capstone-fa23-team12/venv/lib/python3.9/site-packages/IPython/core/interactiveshell.py\", line 3079, in _run_cell\n\n  File \"/Users/1108232/PycharmProjects/MADS-699-Capstone-fa23-team12/venv/lib/python3.9/site-packages/IPython/core/async_helpers.py\", line 129, in _pseudo_sync_runner\n\n  File \"/Users/1108232/PycharmProjects/MADS-699-Capstone-fa23-team12/venv/lib/python3.9/site-packages/IPython/core/interactiveshell.py\", line 3284, in run_cell_async\n\n  File \"/Users/1108232/PycharmProjects/MADS-699-Capstone-fa23-team12/venv/lib/python3.9/site-packages/IPython/core/interactiveshell.py\", line 3466, in run_ast_nodes\n\n  File \"/Users/1108232/PycharmProjects/MADS-699-Capstone-fa23-team12/venv/lib/python3.9/site-packages/IPython/core/interactiveshell.py\", line 3526, in run_code\n\n  File \"/var/folders/np/f11s751j4dj_y_1cj4yxydpwpsr474/T/ipykernel_62120/2201503592.py\", line 30, in <module>\n\n  File \"/Users/1108232/PycharmProjects/MADS-699-Capstone-fa23-team12/venv/lib/python3.9/site-packages/keras/src/utils/traceback_utils.py\", line 65, in error_handler\n\n  File \"/Users/1108232/PycharmProjects/MADS-699-Capstone-fa23-team12/venv/lib/python3.9/site-packages/keras/src/engine/training.py\", line 1807, in fit\n\n  File \"/Users/1108232/PycharmProjects/MADS-699-Capstone-fa23-team12/venv/lib/python3.9/site-packages/keras/src/engine/training.py\", line 1401, in train_function\n\n  File \"/Users/1108232/PycharmProjects/MADS-699-Capstone-fa23-team12/venv/lib/python3.9/site-packages/keras/src/engine/training.py\", line 1384, in step_function\n\n  File \"/Users/1108232/PycharmProjects/MADS-699-Capstone-fa23-team12/venv/lib/python3.9/site-packages/keras/src/engine/training.py\", line 1373, in run_step\n\n  File \"/Users/1108232/PycharmProjects/MADS-699-Capstone-fa23-team12/venv/lib/python3.9/site-packages/keras/src/engine/training.py\", line 1154, in train_step\n\n  File \"/Users/1108232/PycharmProjects/MADS-699-Capstone-fa23-team12/venv/lib/python3.9/site-packages/keras/src/optimizers/optimizer.py\", line 544, in minimize\n\n  File \"/Users/1108232/PycharmProjects/MADS-699-Capstone-fa23-team12/venv/lib/python3.9/site-packages/keras/src/optimizers/optimizer.py\", line 1223, in apply_gradients\n\n  File \"/Users/1108232/PycharmProjects/MADS-699-Capstone-fa23-team12/venv/lib/python3.9/site-packages/keras/src/optimizers/optimizer.py\", line 652, in apply_gradients\n\n  File \"/Users/1108232/PycharmProjects/MADS-699-Capstone-fa23-team12/venv/lib/python3.9/site-packages/keras/src/optimizers/optimizer.py\", line 1253, in _internal_apply_gradients\n\n  File \"/Users/1108232/PycharmProjects/MADS-699-Capstone-fa23-team12/venv/lib/python3.9/site-packages/keras/src/optimizers/optimizer.py\", line 1345, in _distributed_apply_gradients_fn\n\n  File \"/Users/1108232/PycharmProjects/MADS-699-Capstone-fa23-team12/venv/lib/python3.9/site-packages/keras/src/optimizers/optimizer.py\", line 1342, in apply_grad_to_update_var\n\n  File \"/Users/1108232/PycharmProjects/MADS-699-Capstone-fa23-team12/venv/lib/python3.9/site-packages/keras/src/optimizers/optimizer.py\", line 241, in _update_step\n\n  File \"/Users/1108232/PycharmProjects/MADS-699-Capstone-fa23-team12/venv/lib/python3.9/site-packages/keras/src/optimizers/adam.py\", line 204, in update_step\n\nIncompatible shapes: [0] vs. [256]\n\t [[{{node Adam/truediv_15}}]] [Op:__inference_train_function_427058]",
          "output_type": "error",
          "traceback": [
            "\u001b[0;31m---------------------------------------------------------------------------\u001b[0m",
            "\u001b[0;31mInvalidArgumentError\u001b[0m                      Traceback (most recent call last)",
            "\u001b[1;32m/Users/1108232/PycharmProjects/MADS-699-Capstone-fa23-team12/models/cnn/cnn_genre_classification.ipynb Cell 9\u001b[0m line \u001b[0;36m3\n\u001b[1;32m     <a href='vscode-notebook-cell:/Users/1108232/PycharmProjects/MADS-699-Capstone-fa23-team12/models/cnn/cnn_genre_classification.ipynb#X11sZmlsZQ%3D%3D?line=26'>27</a>\u001b[0m \u001b[39m# Early stopping to prevent overfitting\u001b[39;00m\n\u001b[1;32m     <a href='vscode-notebook-cell:/Users/1108232/PycharmProjects/MADS-699-Capstone-fa23-team12/models/cnn/cnn_genre_classification.ipynb#X11sZmlsZQ%3D%3D?line=27'>28</a>\u001b[0m early_stopping \u001b[39m=\u001b[39m EarlyStopping(monitor\u001b[39m=\u001b[39m\u001b[39m'\u001b[39m\u001b[39mval_loss\u001b[39m\u001b[39m'\u001b[39m, patience\u001b[39m=\u001b[39m\u001b[39m3\u001b[39m, restore_best_weights\u001b[39m=\u001b[39m\u001b[39mTrue\u001b[39;00m)\n\u001b[0;32m---> <a href='vscode-notebook-cell:/Users/1108232/PycharmProjects/MADS-699-Capstone-fa23-team12/models/cnn/cnn_genre_classification.ipynb#X11sZmlsZQ%3D%3D?line=29'>30</a>\u001b[0m history \u001b[39m=\u001b[39m model\u001b[39m.\u001b[39;49mfit(X_train, y_train, validation_data\u001b[39m=\u001b[39;49m(X_val, y_val),\n\u001b[1;32m     <a href='vscode-notebook-cell:/Users/1108232/PycharmProjects/MADS-699-Capstone-fa23-team12/models/cnn/cnn_genre_classification.ipynb#X11sZmlsZQ%3D%3D?line=30'>31</a>\u001b[0m                       epochs\u001b[39m=\u001b[39;49m\u001b[39m20\u001b[39;49m, batch_size\u001b[39m=\u001b[39;49mbatch_size, callbacks\u001b[39m=\u001b[39;49m[early_stopping])\n\u001b[1;32m     <a href='vscode-notebook-cell:/Users/1108232/PycharmProjects/MADS-699-Capstone-fa23-team12/models/cnn/cnn_genre_classification.ipynb#X11sZmlsZQ%3D%3D?line=32'>33</a>\u001b[0m \u001b[39m# Evaluate model on validation set\u001b[39;00m\n\u001b[1;32m     <a href='vscode-notebook-cell:/Users/1108232/PycharmProjects/MADS-699-Capstone-fa23-team12/models/cnn/cnn_genre_classification.ipynb#X11sZmlsZQ%3D%3D?line=33'>34</a>\u001b[0m _, accuracy \u001b[39m=\u001b[39m model\u001b[39m.\u001b[39mevaluate(X_val, y_val, verbose\u001b[39m=\u001b[39m\u001b[39m0\u001b[39m)\n",
            "File \u001b[0;32m~/PycharmProjects/MADS-699-Capstone-fa23-team12/venv/lib/python3.9/site-packages/keras/src/utils/traceback_utils.py:70\u001b[0m, in \u001b[0;36mfilter_traceback.<locals>.error_handler\u001b[0;34m(*args, **kwargs)\u001b[0m\n\u001b[1;32m     67\u001b[0m     filtered_tb \u001b[39m=\u001b[39m _process_traceback_frames(e\u001b[39m.\u001b[39m__traceback__)\n\u001b[1;32m     68\u001b[0m     \u001b[39m# To get the full stack trace, call:\u001b[39;00m\n\u001b[1;32m     69\u001b[0m     \u001b[39m# `tf.debugging.disable_traceback_filtering()`\u001b[39;00m\n\u001b[0;32m---> 70\u001b[0m     \u001b[39mraise\u001b[39;00m e\u001b[39m.\u001b[39mwith_traceback(filtered_tb) \u001b[39mfrom\u001b[39;00m \u001b[39mNone\u001b[39;00m\n\u001b[1;32m     71\u001b[0m \u001b[39mfinally\u001b[39;00m:\n\u001b[1;32m     72\u001b[0m     \u001b[39mdel\u001b[39;00m filtered_tb\n",
            "File \u001b[0;32m~/PycharmProjects/MADS-699-Capstone-fa23-team12/venv/lib/python3.9/site-packages/tensorflow/python/eager/execute.py:53\u001b[0m, in \u001b[0;36mquick_execute\u001b[0;34m(op_name, num_outputs, inputs, attrs, ctx, name)\u001b[0m\n\u001b[1;32m     51\u001b[0m \u001b[39mtry\u001b[39;00m:\n\u001b[1;32m     52\u001b[0m   ctx\u001b[39m.\u001b[39mensure_initialized()\n\u001b[0;32m---> 53\u001b[0m   tensors \u001b[39m=\u001b[39m pywrap_tfe\u001b[39m.\u001b[39mTFE_Py_Execute(ctx\u001b[39m.\u001b[39m_handle, device_name, op_name,\n\u001b[1;32m     54\u001b[0m                                       inputs, attrs, num_outputs)\n\u001b[1;32m     55\u001b[0m \u001b[39mexcept\u001b[39;00m core\u001b[39m.\u001b[39m_NotOkStatusException \u001b[39mas\u001b[39;00m e:\n\u001b[1;32m     56\u001b[0m   \u001b[39mif\u001b[39;00m name \u001b[39mis\u001b[39;00m \u001b[39mnot\u001b[39;00m \u001b[39mNone\u001b[39;00m:\n",
            "\u001b[0;31mInvalidArgumentError\u001b[0m: Graph execution error:\n\nDetected at node Adam/truediv_15 defined at (most recent call last):\n  File \"/Library/Frameworks/Python.framework/Versions/3.9/lib/python3.9/runpy.py\", line 197, in _run_module_as_main\n\n  File \"/Library/Frameworks/Python.framework/Versions/3.9/lib/python3.9/runpy.py\", line 87, in _run_code\n\n  File \"/Users/1108232/PycharmProjects/MADS-699-Capstone-fa23-team12/venv/lib/python3.9/site-packages/ipykernel_launcher.py\", line 17, in <module>\n\n  File \"/Users/1108232/PycharmProjects/MADS-699-Capstone-fa23-team12/venv/lib/python3.9/site-packages/traitlets/config/application.py\", line 1053, in launch_instance\n\n  File \"/Users/1108232/PycharmProjects/MADS-699-Capstone-fa23-team12/venv/lib/python3.9/site-packages/ipykernel/kernelapp.py\", line 736, in start\n\n  File \"/Users/1108232/PycharmProjects/MADS-699-Capstone-fa23-team12/venv/lib/python3.9/site-packages/tornado/platform/asyncio.py\", line 195, in start\n\n  File \"/Library/Frameworks/Python.framework/Versions/3.9/lib/python3.9/asyncio/base_events.py\", line 601, in run_forever\n\n  File \"/Library/Frameworks/Python.framework/Versions/3.9/lib/python3.9/asyncio/base_events.py\", line 1905, in _run_once\n\n  File \"/Library/Frameworks/Python.framework/Versions/3.9/lib/python3.9/asyncio/events.py\", line 80, in _run\n\n  File \"/Users/1108232/PycharmProjects/MADS-699-Capstone-fa23-team12/venv/lib/python3.9/site-packages/ipykernel/kernelbase.py\", line 516, in dispatch_queue\n\n  File \"/Users/1108232/PycharmProjects/MADS-699-Capstone-fa23-team12/venv/lib/python3.9/site-packages/ipykernel/kernelbase.py\", line 505, in process_one\n\n  File \"/Users/1108232/PycharmProjects/MADS-699-Capstone-fa23-team12/venv/lib/python3.9/site-packages/ipykernel/kernelbase.py\", line 412, in dispatch_shell\n\n  File \"/Users/1108232/PycharmProjects/MADS-699-Capstone-fa23-team12/venv/lib/python3.9/site-packages/ipykernel/kernelbase.py\", line 740, in execute_request\n\n  File \"/Users/1108232/PycharmProjects/MADS-699-Capstone-fa23-team12/venv/lib/python3.9/site-packages/ipykernel/ipkernel.py\", line 422, in do_execute\n\n  File \"/Users/1108232/PycharmProjects/MADS-699-Capstone-fa23-team12/venv/lib/python3.9/site-packages/ipykernel/zmqshell.py\", line 546, in run_cell\n\n  File \"/Users/1108232/PycharmProjects/MADS-699-Capstone-fa23-team12/venv/lib/python3.9/site-packages/IPython/core/interactiveshell.py\", line 3024, in run_cell\n\n  File \"/Users/1108232/PycharmProjects/MADS-699-Capstone-fa23-team12/venv/lib/python3.9/site-packages/IPython/core/interactiveshell.py\", line 3079, in _run_cell\n\n  File \"/Users/1108232/PycharmProjects/MADS-699-Capstone-fa23-team12/venv/lib/python3.9/site-packages/IPython/core/async_helpers.py\", line 129, in _pseudo_sync_runner\n\n  File \"/Users/1108232/PycharmProjects/MADS-699-Capstone-fa23-team12/venv/lib/python3.9/site-packages/IPython/core/interactiveshell.py\", line 3284, in run_cell_async\n\n  File \"/Users/1108232/PycharmProjects/MADS-699-Capstone-fa23-team12/venv/lib/python3.9/site-packages/IPython/core/interactiveshell.py\", line 3466, in run_ast_nodes\n\n  File \"/Users/1108232/PycharmProjects/MADS-699-Capstone-fa23-team12/venv/lib/python3.9/site-packages/IPython/core/interactiveshell.py\", line 3526, in run_code\n\n  File \"/var/folders/np/f11s751j4dj_y_1cj4yxydpwpsr474/T/ipykernel_62120/2201503592.py\", line 30, in <module>\n\n  File \"/Users/1108232/PycharmProjects/MADS-699-Capstone-fa23-team12/venv/lib/python3.9/site-packages/keras/src/utils/traceback_utils.py\", line 65, in error_handler\n\n  File \"/Users/1108232/PycharmProjects/MADS-699-Capstone-fa23-team12/venv/lib/python3.9/site-packages/keras/src/engine/training.py\", line 1807, in fit\n\n  File \"/Users/1108232/PycharmProjects/MADS-699-Capstone-fa23-team12/venv/lib/python3.9/site-packages/keras/src/engine/training.py\", line 1401, in train_function\n\n  File \"/Users/1108232/PycharmProjects/MADS-699-Capstone-fa23-team12/venv/lib/python3.9/site-packages/keras/src/engine/training.py\", line 1384, in step_function\n\n  File \"/Users/1108232/PycharmProjects/MADS-699-Capstone-fa23-team12/venv/lib/python3.9/site-packages/keras/src/engine/training.py\", line 1373, in run_step\n\n  File \"/Users/1108232/PycharmProjects/MADS-699-Capstone-fa23-team12/venv/lib/python3.9/site-packages/keras/src/engine/training.py\", line 1154, in train_step\n\n  File \"/Users/1108232/PycharmProjects/MADS-699-Capstone-fa23-team12/venv/lib/python3.9/site-packages/keras/src/optimizers/optimizer.py\", line 544, in minimize\n\n  File \"/Users/1108232/PycharmProjects/MADS-699-Capstone-fa23-team12/venv/lib/python3.9/site-packages/keras/src/optimizers/optimizer.py\", line 1223, in apply_gradients\n\n  File \"/Users/1108232/PycharmProjects/MADS-699-Capstone-fa23-team12/venv/lib/python3.9/site-packages/keras/src/optimizers/optimizer.py\", line 652, in apply_gradients\n\n  File \"/Users/1108232/PycharmProjects/MADS-699-Capstone-fa23-team12/venv/lib/python3.9/site-packages/keras/src/optimizers/optimizer.py\", line 1253, in _internal_apply_gradients\n\n  File \"/Users/1108232/PycharmProjects/MADS-699-Capstone-fa23-team12/venv/lib/python3.9/site-packages/keras/src/optimizers/optimizer.py\", line 1345, in _distributed_apply_gradients_fn\n\n  File \"/Users/1108232/PycharmProjects/MADS-699-Capstone-fa23-team12/venv/lib/python3.9/site-packages/keras/src/optimizers/optimizer.py\", line 1342, in apply_grad_to_update_var\n\n  File \"/Users/1108232/PycharmProjects/MADS-699-Capstone-fa23-team12/venv/lib/python3.9/site-packages/keras/src/optimizers/optimizer.py\", line 241, in _update_step\n\n  File \"/Users/1108232/PycharmProjects/MADS-699-Capstone-fa23-team12/venv/lib/python3.9/site-packages/keras/src/optimizers/adam.py\", line 204, in update_step\n\nIncompatible shapes: [0] vs. [256]\n\t [[{{node Adam/truediv_15}}]] [Op:__inference_train_function_427058]"
          ]
        }
      ],
      "source": [
        "\n",
        "\n",
        "# Define hyperparameters to tune\n",
        "learning_rates = [0.0001, 0.001, 0.01, 0.1]\n",
        "batch_sizes = [32, 64, 128]\n",
        "hidden_layer_sizes = [[128,64,32], [256,128,64,32], [512,256,128,64,32]]\n",
        "dropout_rates = [0.2, 0.5]\n",
        "\n",
        "\n",
        "best_accuracy = 0\n",
        "best_hyperparameters = None\n",
        "\n",
        "# Grid search over hyperparameters\n",
        "for lr in learning_rates:\n",
        "    for batch_size in batch_sizes:\n",
        "          for dropout_rate in dropout_rates:\n",
        "              K.clear_session()  # Clear previous model\n",
        "              model = Sequential()\n",
        "\n",
        "              for hidden_size in hidden_layer_sizes:\n",
        "                  for size in hidden_size:\n",
        "                      model.add(Dense(size, activation='relu'))\n",
        "                      model.add(Dropout(dropout_rate))\n",
        "              model.add(Dense(num_class, activation='softmax'))\n",
        "\n",
        "              optimizer = Adam(learning_rate=lr)\n",
        "              model.compile(optimizer=optimizer, loss='sparse_categorical_crossentropy', metrics=['accuracy'])\n",
        "\n",
        "              # Early stopping to prevent overfitting\n",
        "              early_stopping = EarlyStopping(monitor='val_loss', patience=3, restore_best_weights=True)\n",
        "\n",
        "              history = model.fit(X_train, y_train, validation_data=(X_val, y_val),\n",
        "                                    epochs=20, batch_size=batch_size, callbacks=[early_stopping])\n",
        "\n",
        "              # Evaluate model on validation set\n",
        "              _, accuracy = model.evaluate(X_val, y_val, verbose=0)\n",
        "\n",
        "              # Check if this set of hyperparameters improved accuracy\n",
        "              if accuracy > best_accuracy:\n",
        "                    best_accuracy = accuracy\n",
        "                    best_hyperparameters = {'lr': lr, 'batch_size': batch_size, 'hidden_layer_size': hidden_size, 'dropout_rate': dropout_rate}\n",
        "                    best_model = model\n",
        "# Print the best hyperparameters\n",
        "print(\"Best Hyperparameters:\", best_hyperparameters)"
      ]
    },
    {
      "cell_type": "code",
      "execution_count": 9,
      "metadata": {
        "colab": {
          "base_uri": "https://localhost:8080/"
        },
        "id": "HM8nvx9WN77G",
        "outputId": "06b6303e-060b-4db0-d617-18326284d835"
      },
      "outputs": [
        {
          "data": {
            "text/plain": [
              "{'lr': 0.001,\n",
              " 'batch_size': 128,\n",
              " 'hidden_layer_size': [512, 256, 128, 64, 32],\n",
              " 'dropout_rate': 0.2}"
            ]
          },
          "execution_count": 9,
          "metadata": {},
          "output_type": "execute_result"
        }
      ],
      "source": [
        "best_hyperparameters"
      ]
    },
    {
      "cell_type": "code",
      "execution_count": 10,
      "metadata": {
        "colab": {
          "base_uri": "https://localhost:8080/"
        },
        "id": "xZKdv3doruye",
        "outputId": "d87cca8e-2d6f-4eb0-e81d-fb5d0424e6bf"
      },
      "outputs": [
        {
          "name": "stdout",
          "output_type": "stream",
          "text": [
            "20/20 [==============================] - 0s 2ms/step - loss: 1.4869 - accuracy: 0.5416\n",
            "The test loss is : 1.4869064092636108\n",
            "\n",
            "The test Accuracy is : 0.5416339635848999\n"
          ]
        }
      ],
      "source": [
        "test_loss, test_accuracy = best_model.evaluate(X_test, y_test, batch_size=128)\n",
        "print(\"The test loss is :\",test_loss)\n",
        "print(\"\\nThe test Accuracy is :\",test_accuracy)"
      ]
    },
    {
      "cell_type": "markdown",
      "metadata": {
        "id": "tZ1DYpLtM4Hi"
      },
      "source": [
        "## 3. Retrain final model using the best model architecture & hyperparameters"
      ]
    },
    {
      "cell_type": "code",
      "execution_count": 11,
      "metadata": {
        "colab": {
          "base_uri": "https://localhost:8080/"
        },
        "id": "_6pWO83rLylx",
        "outputId": "48cd1fe3-0a11-4926-8319-0efc56daf570"
      },
      "outputs": [
        {
          "name": "stdout",
          "output_type": "stream",
          "text": [
            "Model: \"sequential_1\"\n",
            "_________________________________________________________________\n",
            " Layer (type)                Output Shape              Param #   \n",
            "=================================================================\n",
            " dense_13 (Dense)            (None, 512)               45568     \n",
            "                                                                 \n",
            " dropout_12 (Dropout)        (None, 512)               0         \n",
            "                                                                 \n",
            " dense_14 (Dense)            (None, 256)               131328    \n",
            "                                                                 \n",
            " dropout_13 (Dropout)        (None, 256)               0         \n",
            "                                                                 \n",
            " dense_15 (Dense)            (None, 128)               32896     \n",
            "                                                                 \n",
            " dropout_14 (Dropout)        (None, 128)               0         \n",
            "                                                                 \n",
            " dense_16 (Dense)            (None, 64)                8256      \n",
            "                                                                 \n",
            " dropout_15 (Dropout)        (None, 64)                0         \n",
            "                                                                 \n",
            " dense_17 (Dense)            (None, 32)                2080      \n",
            "                                                                 \n",
            " dropout_16 (Dropout)        (None, 32)                0         \n",
            "                                                                 \n",
            " dense_18 (Dense)            (None, 13)                429       \n",
            "                                                                 \n",
            "=================================================================\n",
            "Total params: 220557 (861.55 KB)\n",
            "Trainable params: 220557 (861.55 KB)\n",
            "Non-trainable params: 0 (0.00 Byte)\n",
            "_________________________________________________________________\n"
          ]
        },
        {
          "name": "stderr",
          "output_type": "stream",
          "text": [
            "WARNING:absl:At this time, the v2.11+ optimizer `tf.keras.optimizers.Adam` runs slowly on M1/M2 Macs, please use the legacy Keras optimizer instead, located at `tf.keras.optimizers.legacy.Adam`.\n",
            "WARNING:absl:`lr` is deprecated in Keras optimizer, please use `learning_rate` or use the legacy optimizer, e.g.,tf.keras.optimizers.legacy.Adam.\n"
          ]
        },
        {
          "name": "stdout",
          "output_type": "stream",
          "text": [
            "None\n",
            "Epoch 1/30\n",
            "155/155 [==============================] - 1s 4ms/step - loss: 1.7524 - accuracy: 0.4481 - val_loss: 1.3834 - val_accuracy: 0.5834\n",
            "Epoch 2/30\n",
            "155/155 [==============================] - 1s 4ms/step - loss: 1.4748 - accuracy: 0.5444 - val_loss: 1.3287 - val_accuracy: 0.5999\n",
            "Epoch 3/30\n",
            "155/155 [==============================] - 1s 4ms/step - loss: 1.3911 - accuracy: 0.5760 - val_loss: 1.2917 - val_accuracy: 0.6064\n",
            "Epoch 4/30\n",
            "155/155 [==============================] - 1s 4ms/step - loss: 1.3386 - accuracy: 0.5882 - val_loss: 1.2571 - val_accuracy: 0.6160\n",
            "Epoch 5/30\n",
            "155/155 [==============================] - 1s 4ms/step - loss: 1.2957 - accuracy: 0.6032 - val_loss: 1.2519 - val_accuracy: 0.6172\n",
            "Epoch 6/30\n",
            "155/155 [==============================] - 1s 4ms/step - loss: 1.2607 - accuracy: 0.6128 - val_loss: 1.2424 - val_accuracy: 0.6176\n",
            "Epoch 7/30\n",
            "155/155 [==============================] - 1s 4ms/step - loss: 1.2221 - accuracy: 0.6259 - val_loss: 1.2469 - val_accuracy: 0.6116\n",
            "Epoch 8/30\n",
            "155/155 [==============================] - 1s 4ms/step - loss: 1.1988 - accuracy: 0.6302 - val_loss: 1.2517 - val_accuracy: 0.6080\n",
            "Epoch 9/30\n",
            "155/155 [==============================] - 1s 4ms/step - loss: 1.1794 - accuracy: 0.6351 - val_loss: 1.2173 - val_accuracy: 0.6217\n",
            "Epoch 10/30\n",
            "155/155 [==============================] - 1s 4ms/step - loss: 1.1351 - accuracy: 0.6440 - val_loss: 1.2065 - val_accuracy: 0.6269\n",
            "Epoch 11/30\n",
            "155/155 [==============================] - 1s 4ms/step - loss: 1.1228 - accuracy: 0.6457 - val_loss: 1.2087 - val_accuracy: 0.6237\n",
            "Epoch 12/30\n",
            "155/155 [==============================] - 1s 4ms/step - loss: 1.0952 - accuracy: 0.6550 - val_loss: 1.2095 - val_accuracy: 0.6273\n",
            "Epoch 13/30\n",
            "155/155 [==============================] - 1s 4ms/step - loss: 1.0725 - accuracy: 0.6634 - val_loss: 1.2345 - val_accuracy: 0.6229\n",
            "Epoch 14/30\n",
            "155/155 [==============================] - 1s 4ms/step - loss: 1.0539 - accuracy: 0.6701 - val_loss: 1.2253 - val_accuracy: 0.6164\n",
            "Epoch 15/30\n",
            "155/155 [==============================] - 1s 4ms/step - loss: 1.0421 - accuracy: 0.6749 - val_loss: 1.2054 - val_accuracy: 0.6249\n",
            "Epoch 16/30\n",
            "155/155 [==============================] - 1s 4ms/step - loss: 1.0092 - accuracy: 0.6835 - val_loss: 1.2689 - val_accuracy: 0.6052\n",
            "Epoch 17/30\n",
            "155/155 [==============================] - 1s 4ms/step - loss: 0.9909 - accuracy: 0.6870 - val_loss: 1.2526 - val_accuracy: 0.6048\n",
            "Epoch 18/30\n",
            "155/155 [==============================] - 1s 4ms/step - loss: 0.9774 - accuracy: 0.6942 - val_loss: 1.2390 - val_accuracy: 0.6128\n",
            "Epoch 19/30\n",
            "155/155 [==============================] - 1s 4ms/step - loss: 0.9518 - accuracy: 0.6974 - val_loss: 1.2599 - val_accuracy: 0.6189\n",
            "Epoch 20/30\n",
            "155/155 [==============================] - 1s 4ms/step - loss: 0.9292 - accuracy: 0.7092 - val_loss: 1.2434 - val_accuracy: 0.6225\n",
            "Epoch 21/30\n",
            "155/155 [==============================] - 1s 4ms/step - loss: 0.9229 - accuracy: 0.7066 - val_loss: 1.2643 - val_accuracy: 0.6068\n",
            "Epoch 22/30\n",
            "155/155 [==============================] - 1s 4ms/step - loss: 0.8956 - accuracy: 0.7135 - val_loss: 1.3100 - val_accuracy: 0.6116\n",
            "Epoch 23/30\n",
            "155/155 [==============================] - 1s 4ms/step - loss: 0.8793 - accuracy: 0.7214 - val_loss: 1.2863 - val_accuracy: 0.6225\n",
            "Epoch 24/30\n",
            "155/155 [==============================] - 1s 4ms/step - loss: 0.8776 - accuracy: 0.7221 - val_loss: 1.2882 - val_accuracy: 0.6172\n",
            "Epoch 25/30\n",
            "155/155 [==============================] - 1s 4ms/step - loss: 0.8524 - accuracy: 0.7292 - val_loss: 1.3023 - val_accuracy: 0.6068\n",
            "Epoch 26/30\n",
            "155/155 [==============================] - 1s 4ms/step - loss: 0.8335 - accuracy: 0.7321 - val_loss: 1.3038 - val_accuracy: 0.6088\n",
            "Epoch 27/30\n",
            "155/155 [==============================] - 1s 4ms/step - loss: 0.8231 - accuracy: 0.7370 - val_loss: 1.3265 - val_accuracy: 0.6100\n",
            "Epoch 28/30\n",
            "155/155 [==============================] - 1s 4ms/step - loss: 0.8009 - accuracy: 0.7416 - val_loss: 1.3615 - val_accuracy: 0.6015\n",
            "Epoch 29/30\n",
            "155/155 [==============================] - 1s 4ms/step - loss: 0.7906 - accuracy: 0.7451 - val_loss: 1.3372 - val_accuracy: 0.6015\n",
            "Epoch 30/30\n",
            "155/155 [==============================] - 1s 4ms/step - loss: 0.7720 - accuracy: 0.7528 - val_loss: 1.3340 - val_accuracy: 0.6088\n",
            "20/20 [==============================] - 0s 1ms/step - loss: 1.5869 - accuracy: 0.5719\n",
            "The test loss is : 1.5868606567382812\n",
            "\n",
            "The test Accuracy is : 0.5718774795532227\n"
          ]
        }
      ],
      "source": [
        "from keras.models import Sequential\n",
        "from keras.layers import Dense, Dropout\n",
        "from keras.optimizers import Adam\n",
        "\n",
        "model = keras.models.Sequential([\n",
        "    keras.layers.Dense(512, activation=\"relu\", input_shape=(X_train.shape[1],)),\n",
        "    keras.layers.Dropout(0.2),\n",
        "\n",
        "    keras.layers.Dense(256,activation=\"relu\"),\n",
        "    keras.layers.Dropout(0.2),\n",
        "\n",
        "    keras.layers.Dense(128,activation=\"relu\"),\n",
        "    keras.layers.Dropout(0.2),\n",
        "\n",
        "    keras.layers.Dense(64,activation=\"relu\"),\n",
        "    keras.layers.Dropout(0.2),\n",
        "\n",
        "    keras.layers.Dense(32,activation=\"relu\"),\n",
        "    keras.layers.Dropout(0.2),\n",
        "\n",
        "    keras.layers.Dense(num_class, activation=\"softmax\"),\n",
        "\n",
        "])\n",
        "print(model.summary())\n",
        "model.compile(optimizer=Adam(lr=0.001),\n",
        "                  loss='sparse_categorical_crossentropy',\n",
        "                   metrics='accuracy')\n",
        "\n",
        "model.fit(X_train, y_train, validation_data=(X_val, y_val), epochs=30,\n",
        "                     batch_size=128)\n",
        "\n",
        "test_loss, test_accuracy = model.evaluate(X_test, y_test, batch_size=128)\n",
        "print(\"The test loss is :\",test_loss)\n",
        "print(\"\\nThe test Accuracy is :\",test_accuracy)\n"
      ]
    },
    {
      "cell_type": "code",
      "execution_count": 18,
      "metadata": {
        "colab": {
          "base_uri": "https://localhost:8080/"
        },
        "id": "x4LXPhloWu86",
        "outputId": "30531dfb-bb64-47d0-88b7-fc60e5518181"
      },
      "outputs": [
        {
          "name": "stdout",
          "output_type": "stream",
          "text": [
            "80/80 [==============================] - 0s 713us/step\n",
            "Classification Report:\n",
            "              precision    recall  f1-score   support\n",
            "\n",
            "           0       0.74      0.81      0.77        62\n",
            "           1       0.00      0.00      0.00        18\n",
            "           2       0.64      0.71      0.67       632\n",
            "           3       0.33      0.36      0.34       225\n",
            "           4       0.22      0.28      0.24       152\n",
            "           5       0.68      0.65      0.66       220\n",
            "           6       0.37      0.22      0.28       174\n",
            "           7       0.48      0.28      0.36       102\n",
            "           8       0.56      0.36      0.44        39\n",
            "           9       0.91      0.98      0.94        51\n",
            "          10       0.14      0.08      0.10       119\n",
            "          11       0.68      0.78      0.72       710\n",
            "          12       0.00      0.00      0.00        42\n",
            "\n",
            "    accuracy                           0.57      2546\n",
            "   macro avg       0.44      0.42      0.43      2546\n",
            "weighted avg       0.54      0.57      0.55      2546\n",
            "\n",
            "Confusion Matrix:\n",
            "[[ 50   0   1   4   0   0   6   0   1   0   0   0   0]\n",
            " [  0   0   4   0   0   1   0   0   0   0   2  11   0]\n",
            " [  5   0 449  45  16  29  15   9   5   1  10  48   0]\n",
            " [  4   0  48  80  18   5  16   1   0   0   6  47   0]\n",
            " [  0   0  11  20  42   1   6   7   2   3  10  50   0]\n",
            " [  0   0  54   9   1 142   1   6   0   0   2   5   0]\n",
            " [  4   0  21  27  53   1  38   2   0   0   8  20   0]\n",
            " [  0   0  15   2  24   5   6  29   0   0   2  19   0]\n",
            " [  2   0   4   2   6   0   7   0  14   0   1   3   0]\n",
            " [  0   0   0   1   0   0   0   0   0  50   0   0   0]\n",
            " [  0   0  43   5  13  10   2   1   0   0  10  35   0]\n",
            " [  3   0  41  46  20  13   5   4   3   1  22 552   0]\n",
            " [  0   0  12   0   0   2   0   2   0   0   1  25   0]]\n",
            "Accuracy: 0.5718774548311076\n",
            "Precision: 0.5439767628375324\n",
            "Recall: 0.5718774548311076\n",
            "F1 Score: 0.5531909369655025\n"
          ]
        },
        {
          "name": "stderr",
          "output_type": "stream",
          "text": [
            "/Users/1108232/PycharmProjects/MADS-699-Capstone-fa23-team12/venv/lib/python3.9/site-packages/sklearn/metrics/_classification.py:1344: UndefinedMetricWarning: Precision and F-score are ill-defined and being set to 0.0 in labels with no predicted samples. Use `zero_division` parameter to control this behavior.\n",
            "  _warn_prf(average, modifier, msg_start, len(result))\n",
            "/Users/1108232/PycharmProjects/MADS-699-Capstone-fa23-team12/venv/lib/python3.9/site-packages/sklearn/metrics/_classification.py:1344: UndefinedMetricWarning: Precision and F-score are ill-defined and being set to 0.0 in labels with no predicted samples. Use `zero_division` parameter to control this behavior.\n",
            "  _warn_prf(average, modifier, msg_start, len(result))\n",
            "/Users/1108232/PycharmProjects/MADS-699-Capstone-fa23-team12/venv/lib/python3.9/site-packages/sklearn/metrics/_classification.py:1344: UndefinedMetricWarning: Precision and F-score are ill-defined and being set to 0.0 in labels with no predicted samples. Use `zero_division` parameter to control this behavior.\n",
            "  _warn_prf(average, modifier, msg_start, len(result))\n",
            "/Users/1108232/PycharmProjects/MADS-699-Capstone-fa23-team12/venv/lib/python3.9/site-packages/sklearn/metrics/_classification.py:1344: UndefinedMetricWarning: Precision is ill-defined and being set to 0.0 in labels with no predicted samples. Use `zero_division` parameter to control this behavior.\n",
            "  _warn_prf(average, modifier, msg_start, len(result))\n"
          ]
        }
      ],
      "source": [
        "from sklearn.metrics import classification_report, confusion_matrix, accuracy_score, f1_score, precision_score, recall_score\n",
        "\n",
        "# Evaluate the model on the test set\n",
        "y_pred = model.predict(X_test)\n",
        "y_pred_classes = np.argmax(y_pred, axis=1)  # Use argmax for categorical predictions\n",
        "\n",
        "\n",
        "# Print classification report\n",
        "print(\"Classification Report:\")\n",
        "print(classification_report(y_test, y_pred_classes))\n",
        "\n",
        "# Print confusion matrix\n",
        "print(\"Confusion Matrix:\")\n",
        "print(confusion_matrix(y_test, y_pred_classes))\n",
        "\n",
        "# Print accuracy\n",
        "accuracy = accuracy_score(y_test, y_pred_classes)\n",
        "print(\"Accuracy:\", accuracy)\n",
        "\n",
        "# Print precision\n",
        "precision = precision_score(y_test, y_pred_classes, average='weighted')\n",
        "print(\"Precision:\", precision)\n",
        "\n",
        "# Print recall\n",
        "recall = recall_score(y_test, y_pred_classes, average='weighted')\n",
        "print(\"Recall:\", recall)\n",
        "\n",
        "# Print F1 score\n",
        "f1 = f1_score(y_test, y_pred_classes, average='weighted')\n",
        "print(\"F1 Score:\", f1)"
      ]
    },
    {
      "cell_type": "code",
      "execution_count": 13,
      "metadata": {},
      "outputs": [
        {
          "data": {
            "text/plain": [
              "array([[ 50,   0,   1,   4,   0,   0,   6,   0,   1,   0,   0,   0,   0],\n",
              "       [  0,   0,   4,   0,   0,   1,   0,   0,   0,   0,   2,  11,   0],\n",
              "       [  5,   0, 449,  45,  16,  29,  15,   9,   5,   1,  10,  48,   0],\n",
              "       [  4,   0,  48,  80,  18,   5,  16,   1,   0,   0,   6,  47,   0],\n",
              "       [  0,   0,  11,  20,  42,   1,   6,   7,   2,   3,  10,  50,   0],\n",
              "       [  0,   0,  54,   9,   1, 142,   1,   6,   0,   0,   2,   5,   0],\n",
              "       [  4,   0,  21,  27,  53,   1,  38,   2,   0,   0,   8,  20,   0],\n",
              "       [  0,   0,  15,   2,  24,   5,   6,  29,   0,   0,   2,  19,   0],\n",
              "       [  2,   0,   4,   2,   6,   0,   7,   0,  14,   0,   1,   3,   0],\n",
              "       [  0,   0,   0,   1,   0,   0,   0,   0,   0,  50,   0,   0,   0],\n",
              "       [  0,   0,  43,   5,  13,  10,   2,   1,   0,   0,  10,  35,   0],\n",
              "       [  3,   0,  41,  46,  20,  13,   5,   4,   3,   1,  22, 552,   0],\n",
              "       [  0,   0,  12,   0,   0,   2,   0,   2,   0,   0,   1,  25,   0]])"
            ]
          },
          "execution_count": 13,
          "metadata": {},
          "output_type": "execute_result"
        }
      ],
      "source": [
        "confusion_matrix(y_test, y_pred_classes)"
      ]
    },
    {
      "cell_type": "code",
      "execution_count": 19,
      "metadata": {},
      "outputs": [
        {
          "name": "stderr",
          "output_type": "stream",
          "text": [
            "/Users/1108232/PycharmProjects/MADS-699-Capstone-fa23-team12/venv/lib/python3.9/site-packages/keras/src/engine/training.py:3103: UserWarning: You are saving your model as an HDF5 file via `model.save()`. This file format is considered legacy. We recommend using instead the native Keras format, e.g. `model.save('my_model.keras')`.\n",
            "  saving_api.save_model(\n"
          ]
        }
      ],
      "source": [
        "model.save('cnn_genre_prediction.h5')"
      ]
    },
    {
      "cell_type": "code",
      "execution_count": 105,
      "metadata": {},
      "outputs": [
        {
          "data": {
            "text/plain": [
              "numpy.ndarray"
            ]
          },
          "execution_count": 105,
          "metadata": {},
          "output_type": "execute_result"
        }
      ],
      "source": [
        "type(X_train)"
      ]
    },
    {
      "cell_type": "code",
      "execution_count": 57,
      "metadata": {},
      "outputs": [
        {
          "name": "stderr",
          "output_type": "stream",
          "text": [
            "PermutationExplainer explainer: 1001it [01:25, 10.59it/s]                         \n"
          ]
        }
      ],
      "source": [
        "# to get feature importances\n",
        "\n",
        "import shap\n",
        "\n",
        "background = X_train[np.random.choice(X_train.shape[0], 10000, replace=False)]\n",
        "\n",
        "# Create a SHAP Explainer\n",
        "explainer = shap.Explainer(model, background)\n",
        "\n",
        "# Select a sample (or multiple samples) for explanation\n",
        "sample = X_test[np.random.choice(X_test.shape[0], 1000, replace=False)]\n",
        "\n",
        "# Calculate SHAP values\n",
        "shap_values = explainer(sample)\n"
      ]
    },
    {
      "cell_type": "code",
      "execution_count": 88,
      "metadata": {},
      "outputs": [],
      "source": [
        "feature_importances_per_class = {}\n",
        "\n",
        "# Iterate over each class (label)\n",
        "for label_index in range(shap_values.shape[2]):\n",
        "    # Calculate mean absolute SHAP values for each feature for this label\n",
        "    mean_abs_shap_per_feature = np.abs(shap_values.values[:, :, label_index]).mean(axis=0)\n",
        "    \n",
        "    # Assuming 'feature_cols' is a list of your feature names\n",
        "    feature_importances_per_class[f'Label_{label_index}'] = dict(zip(feature_cols, mean_abs_shap_per_feature))\n",
        "\n",
        "# Convert the dictionary to a DataFrame for easier handling\n",
        "df_feature_importances = pd.DataFrame(feature_importances_per_class)\n",
        "\n"
      ]
    },
    {
      "cell_type": "code",
      "execution_count": 99,
      "metadata": {},
      "outputs": [],
      "source": [
        "cnn_fi_df = pd.DataFrame(df_feature_importances.T.mean()).T"
      ]
    },
    {
      "cell_type": "code",
      "execution_count": 101,
      "metadata": {},
      "outputs": [],
      "source": [
        "cnn_fi_df.to_csv('cnn_feature_importances.csv')"
      ]
    }
  ],
  "metadata": {
    "colab": {
      "provenance": []
    },
    "kernelspec": {
      "display_name": "Python 3",
      "name": "python3"
    },
    "language_info": {
      "codemirror_mode": {
        "name": "ipython",
        "version": 3
      },
      "file_extension": ".py",
      "mimetype": "text/x-python",
      "name": "python",
      "nbconvert_exporter": "python",
      "pygments_lexer": "ipython3",
      "version": "3.9.12"
    }
  },
  "nbformat": 4,
  "nbformat_minor": 0
}
