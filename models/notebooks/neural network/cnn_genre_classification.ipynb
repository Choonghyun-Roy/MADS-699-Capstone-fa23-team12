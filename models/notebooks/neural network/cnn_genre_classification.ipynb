{
  "cells": [
    {
      "cell_type": "code",
      "execution_count": 8,
      "metadata": {
        "id": "NKcWiK3Dx3Gq"
      },
      "outputs": [],
      "source": [
        "import pandas as pd\n",
        "import numpy as np\n",
        "import seaborn as sns\n",
        "import matplotlib.pyplot as plt\n",
        "import sklearn.model_selection as sk\n",
        "from sklearn.preprocessing import StandardScaler\n",
        "from sklearn.preprocessing import LabelEncoder\n",
        "from imblearn.over_sampling import SMOTE\n",
        "import tensorflow.keras as keras\n",
        "from tensorflow.keras import Sequential\n",
        "from keras.models import Sequential\n",
        "from keras.layers import Dense, Dropout\n",
        "from keras.optimizers import Adam\n",
        "from keras.callbacks import EarlyStopping\n",
        "from keras import backend as K"
      ]
    },
    {
      "cell_type": "markdown",
      "metadata": {
        "id": "mLS5yhkNMq3n"
      },
      "source": [
        "## 1. Load & Prepare Data"
      ]
    },
    {
      "cell_type": "code",
      "execution_count": 9,
      "metadata": {
        "colab": {
          "base_uri": "https://localhost:8080/",
          "height": 513
        },
        "id": "AgYOG0Gsyls_",
        "outputId": "cac85273-fbf2-4ca6-d97a-7fccfb2db899"
      },
      "outputs": [
        {
          "data": {
            "text/html": [
              "<div>\n",
              "<style scoped>\n",
              "    .dataframe tbody tr th:only-of-type {\n",
              "        vertical-align: middle;\n",
              "    }\n",
              "\n",
              "    .dataframe tbody tr th {\n",
              "        vertical-align: top;\n",
              "    }\n",
              "\n",
              "    .dataframe thead th {\n",
              "        text-align: right;\n",
              "    }\n",
              "</style>\n",
              "<table border=\"1\" class=\"dataframe\">\n",
              "  <thead>\n",
              "    <tr style=\"text-align: right;\">\n",
              "      <th></th>\n",
              "      <th>Unnamed: 0</th>\n",
              "      <th>track_id</th>\n",
              "      <th>track_genre_top</th>\n",
              "      <th>track_title</th>\n",
              "      <th>artist_name</th>\n",
              "      <th>set_split</th>\n",
              "      <th>set_subset</th>\n",
              "      <th>tempo</th>\n",
              "      <th>rms_harmonic_mean</th>\n",
              "      <th>rms_harmonic_var</th>\n",
              "      <th>...</th>\n",
              "      <th>key_C</th>\n",
              "      <th>key_C#</th>\n",
              "      <th>key_D</th>\n",
              "      <th>key_E</th>\n",
              "      <th>key_Eb</th>\n",
              "      <th>key_F</th>\n",
              "      <th>key_F#</th>\n",
              "      <th>key_G</th>\n",
              "      <th>scale_major</th>\n",
              "      <th>scale_minor</th>\n",
              "    </tr>\n",
              "  </thead>\n",
              "  <tbody>\n",
              "    <tr>\n",
              "      <th>0</th>\n",
              "      <td>0</td>\n",
              "      <td>2</td>\n",
              "      <td>Hip-Hop</td>\n",
              "      <td>Food</td>\n",
              "      <td>AWOL</td>\n",
              "      <td>training</td>\n",
              "      <td>small</td>\n",
              "      <td>161.499023</td>\n",
              "      <td>0.060801</td>\n",
              "      <td>0.000606</td>\n",
              "      <td>...</td>\n",
              "      <td>1</td>\n",
              "      <td>0</td>\n",
              "      <td>0</td>\n",
              "      <td>0</td>\n",
              "      <td>0</td>\n",
              "      <td>0</td>\n",
              "      <td>0</td>\n",
              "      <td>0</td>\n",
              "      <td>0</td>\n",
              "      <td>1</td>\n",
              "    </tr>\n",
              "    <tr>\n",
              "      <th>1</th>\n",
              "      <td>1</td>\n",
              "      <td>3</td>\n",
              "      <td>Hip-Hop</td>\n",
              "      <td>Electric Ave</td>\n",
              "      <td>AWOL</td>\n",
              "      <td>training</td>\n",
              "      <td>medium</td>\n",
              "      <td>86.132812</td>\n",
              "      <td>0.068484</td>\n",
              "      <td>0.001239</td>\n",
              "      <td>...</td>\n",
              "      <td>0</td>\n",
              "      <td>0</td>\n",
              "      <td>0</td>\n",
              "      <td>0</td>\n",
              "      <td>0</td>\n",
              "      <td>0</td>\n",
              "      <td>0</td>\n",
              "      <td>1</td>\n",
              "      <td>0</td>\n",
              "      <td>1</td>\n",
              "    </tr>\n",
              "    <tr>\n",
              "      <th>2</th>\n",
              "      <td>2</td>\n",
              "      <td>5</td>\n",
              "      <td>Hip-Hop</td>\n",
              "      <td>This World</td>\n",
              "      <td>AWOL</td>\n",
              "      <td>training</td>\n",
              "      <td>small</td>\n",
              "      <td>99.384014</td>\n",
              "      <td>0.079553</td>\n",
              "      <td>0.002230</td>\n",
              "      <td>...</td>\n",
              "      <td>0</td>\n",
              "      <td>1</td>\n",
              "      <td>0</td>\n",
              "      <td>0</td>\n",
              "      <td>0</td>\n",
              "      <td>0</td>\n",
              "      <td>0</td>\n",
              "      <td>0</td>\n",
              "      <td>0</td>\n",
              "      <td>1</td>\n",
              "    </tr>\n",
              "    <tr>\n",
              "      <th>3</th>\n",
              "      <td>3</td>\n",
              "      <td>10</td>\n",
              "      <td>Pop</td>\n",
              "      <td>Freeway</td>\n",
              "      <td>Kurt Vile</td>\n",
              "      <td>training</td>\n",
              "      <td>small</td>\n",
              "      <td>112.347147</td>\n",
              "      <td>0.135624</td>\n",
              "      <td>0.000600</td>\n",
              "      <td>...</td>\n",
              "      <td>0</td>\n",
              "      <td>0</td>\n",
              "      <td>0</td>\n",
              "      <td>0</td>\n",
              "      <td>0</td>\n",
              "      <td>0</td>\n",
              "      <td>1</td>\n",
              "      <td>0</td>\n",
              "      <td>1</td>\n",
              "      <td>0</td>\n",
              "    </tr>\n",
              "    <tr>\n",
              "      <th>4</th>\n",
              "      <td>4</td>\n",
              "      <td>134</td>\n",
              "      <td>Hip-Hop</td>\n",
              "      <td>Street Music</td>\n",
              "      <td>AWOL</td>\n",
              "      <td>training</td>\n",
              "      <td>medium</td>\n",
              "      <td>135.999178</td>\n",
              "      <td>0.088261</td>\n",
              "      <td>0.001123</td>\n",
              "      <td>...</td>\n",
              "      <td>0</td>\n",
              "      <td>0</td>\n",
              "      <td>0</td>\n",
              "      <td>0</td>\n",
              "      <td>0</td>\n",
              "      <td>0</td>\n",
              "      <td>0</td>\n",
              "      <td>0</td>\n",
              "      <td>1</td>\n",
              "      <td>0</td>\n",
              "    </tr>\n",
              "    <tr>\n",
              "      <th>...</th>\n",
              "      <td>...</td>\n",
              "      <td>...</td>\n",
              "      <td>...</td>\n",
              "      <td>...</td>\n",
              "      <td>...</td>\n",
              "      <td>...</td>\n",
              "      <td>...</td>\n",
              "      <td>...</td>\n",
              "      <td>...</td>\n",
              "      <td>...</td>\n",
              "      <td>...</td>\n",
              "      <td>...</td>\n",
              "      <td>...</td>\n",
              "      <td>...</td>\n",
              "      <td>...</td>\n",
              "      <td>...</td>\n",
              "      <td>...</td>\n",
              "      <td>...</td>\n",
              "      <td>...</td>\n",
              "      <td>...</td>\n",
              "      <td>...</td>\n",
              "    </tr>\n",
              "    <tr>\n",
              "      <th>24767</th>\n",
              "      <td>24995</td>\n",
              "      <td>155297</td>\n",
              "      <td>Instrumental</td>\n",
              "      <td>Nebula Reborn</td>\n",
              "      <td>Alex Mason/BlackSunAeon Music</td>\n",
              "      <td>training</td>\n",
              "      <td>medium</td>\n",
              "      <td>123.046875</td>\n",
              "      <td>0.038447</td>\n",
              "      <td>0.000094</td>\n",
              "      <td>...</td>\n",
              "      <td>0</td>\n",
              "      <td>0</td>\n",
              "      <td>1</td>\n",
              "      <td>0</td>\n",
              "      <td>0</td>\n",
              "      <td>0</td>\n",
              "      <td>0</td>\n",
              "      <td>0</td>\n",
              "      <td>1</td>\n",
              "      <td>0</td>\n",
              "    </tr>\n",
              "    <tr>\n",
              "      <th>24768</th>\n",
              "      <td>24996</td>\n",
              "      <td>155298</td>\n",
              "      <td>Folk</td>\n",
              "      <td>An Idiot Abroad</td>\n",
              "      <td>Greg Atkinson</td>\n",
              "      <td>training</td>\n",
              "      <td>medium</td>\n",
              "      <td>129.199219</td>\n",
              "      <td>0.139233</td>\n",
              "      <td>0.003167</td>\n",
              "      <td>...</td>\n",
              "      <td>0</td>\n",
              "      <td>0</td>\n",
              "      <td>0</td>\n",
              "      <td>0</td>\n",
              "      <td>0</td>\n",
              "      <td>0</td>\n",
              "      <td>0</td>\n",
              "      <td>1</td>\n",
              "      <td>1</td>\n",
              "      <td>0</td>\n",
              "    </tr>\n",
              "    <tr>\n",
              "      <th>24769</th>\n",
              "      <td>24997</td>\n",
              "      <td>155306</td>\n",
              "      <td>Folk</td>\n",
              "      <td>Tiny Man</td>\n",
              "      <td>Greg Atkinson</td>\n",
              "      <td>training</td>\n",
              "      <td>medium</td>\n",
              "      <td>103.359375</td>\n",
              "      <td>0.116513</td>\n",
              "      <td>0.003872</td>\n",
              "      <td>...</td>\n",
              "      <td>0</td>\n",
              "      <td>0</td>\n",
              "      <td>0</td>\n",
              "      <td>0</td>\n",
              "      <td>0</td>\n",
              "      <td>0</td>\n",
              "      <td>0</td>\n",
              "      <td>0</td>\n",
              "      <td>1</td>\n",
              "      <td>0</td>\n",
              "    </tr>\n",
              "    <tr>\n",
              "      <th>24770</th>\n",
              "      <td>24998</td>\n",
              "      <td>155307</td>\n",
              "      <td>Experimental</td>\n",
              "      <td>Kolka</td>\n",
              "      <td>AWOTT</td>\n",
              "      <td>training</td>\n",
              "      <td>medium</td>\n",
              "      <td>117.453835</td>\n",
              "      <td>0.085435</td>\n",
              "      <td>0.001713</td>\n",
              "      <td>...</td>\n",
              "      <td>1</td>\n",
              "      <td>0</td>\n",
              "      <td>0</td>\n",
              "      <td>0</td>\n",
              "      <td>0</td>\n",
              "      <td>0</td>\n",
              "      <td>0</td>\n",
              "      <td>0</td>\n",
              "      <td>0</td>\n",
              "      <td>1</td>\n",
              "    </tr>\n",
              "    <tr>\n",
              "      <th>24771</th>\n",
              "      <td>24999</td>\n",
              "      <td>155314</td>\n",
              "      <td>Rock</td>\n",
              "      <td>Miracle Grow</td>\n",
              "      <td>Spowder</td>\n",
              "      <td>training</td>\n",
              "      <td>medium</td>\n",
              "      <td>89.102909</td>\n",
              "      <td>0.110664</td>\n",
              "      <td>0.001096</td>\n",
              "      <td>...</td>\n",
              "      <td>0</td>\n",
              "      <td>0</td>\n",
              "      <td>0</td>\n",
              "      <td>0</td>\n",
              "      <td>0</td>\n",
              "      <td>0</td>\n",
              "      <td>0</td>\n",
              "      <td>0</td>\n",
              "      <td>1</td>\n",
              "      <td>0</td>\n",
              "    </tr>\n",
              "  </tbody>\n",
              "</table>\n",
              "<p>24772 rows × 95 columns</p>\n",
              "</div>"
            ],
            "text/plain": [
              "       Unnamed: 0  track_id track_genre_top      track_title  \\\n",
              "0               0         2         Hip-Hop             Food   \n",
              "1               1         3         Hip-Hop     Electric Ave   \n",
              "2               2         5         Hip-Hop       This World   \n",
              "3               3        10             Pop          Freeway   \n",
              "4               4       134         Hip-Hop     Street Music   \n",
              "...           ...       ...             ...              ...   \n",
              "24767       24995    155297    Instrumental    Nebula Reborn   \n",
              "24768       24996    155298            Folk  An Idiot Abroad   \n",
              "24769       24997    155306            Folk         Tiny Man   \n",
              "24770       24998    155307    Experimental            Kolka   \n",
              "24771       24999    155314            Rock     Miracle Grow   \n",
              "\n",
              "                         artist_name set_split set_subset       tempo  \\\n",
              "0                               AWOL  training      small  161.499023   \n",
              "1                               AWOL  training     medium   86.132812   \n",
              "2                               AWOL  training      small   99.384014   \n",
              "3                          Kurt Vile  training      small  112.347147   \n",
              "4                               AWOL  training     medium  135.999178   \n",
              "...                              ...       ...        ...         ...   \n",
              "24767  Alex Mason/BlackSunAeon Music  training     medium  123.046875   \n",
              "24768                  Greg Atkinson  training     medium  129.199219   \n",
              "24769                  Greg Atkinson  training     medium  103.359375   \n",
              "24770                          AWOTT  training     medium  117.453835   \n",
              "24771                        Spowder  training     medium   89.102909   \n",
              "\n",
              "       rms_harmonic_mean  rms_harmonic_var  ...  key_C  key_C#  key_D  key_E  \\\n",
              "0               0.060801          0.000606  ...      1       0      0      0   \n",
              "1               0.068484          0.001239  ...      0       0      0      0   \n",
              "2               0.079553          0.002230  ...      0       1      0      0   \n",
              "3               0.135624          0.000600  ...      0       0      0      0   \n",
              "4               0.088261          0.001123  ...      0       0      0      0   \n",
              "...                  ...               ...  ...    ...     ...    ...    ...   \n",
              "24767           0.038447          0.000094  ...      0       0      1      0   \n",
              "24768           0.139233          0.003167  ...      0       0      0      0   \n",
              "24769           0.116513          0.003872  ...      0       0      0      0   \n",
              "24770           0.085435          0.001713  ...      1       0      0      0   \n",
              "24771           0.110664          0.001096  ...      0       0      0      0   \n",
              "\n",
              "       key_Eb  key_F  key_F#  key_G  scale_major  scale_minor  \n",
              "0           0      0       0      0            0            1  \n",
              "1           0      0       0      1            0            1  \n",
              "2           0      0       0      0            0            1  \n",
              "3           0      0       1      0            1            0  \n",
              "4           0      0       0      0            1            0  \n",
              "...       ...    ...     ...    ...          ...          ...  \n",
              "24767       0      0       0      0            1            0  \n",
              "24768       0      0       0      1            1            0  \n",
              "24769       0      0       0      0            1            0  \n",
              "24770       0      0       0      0            0            1  \n",
              "24771       0      0       0      0            1            0  \n",
              "\n",
              "[24772 rows x 95 columns]"
            ]
          },
          "execution_count": 9,
          "metadata": {},
          "output_type": "execute_result"
        }
      ],
      "source": [
        "# merge features and label\n",
        "#df= pd.read_csv('25K_tracks_features_and_labels_all.csv')\n",
        "df= pd.read_csv('../../../data/processed/ohe_25K_tracks_features_and_labels_all.csv')\n",
        "df"
      ]
    },
    {
      "cell_type": "code",
      "execution_count": 10,
      "metadata": {},
      "outputs": [],
      "source": [
        "df_train = df.copy()\n",
        "df_train['target_encoded'] = LabelEncoder().fit_transform(df_train['track_genre_top'])"
      ]
    },
    {
      "cell_type": "code",
      "execution_count": 11,
      "metadata": {},
      "outputs": [],
      "source": [
        "genre_target_map = df_train[['target_encoded' ,'track_genre_top']]\n",
        "genre_target_map = genre_target_map.drop_duplicates(keep='last')\n",
        "genre_target_map.to_csv('label_target_mapping.csv')"
      ]
    },
    {
      "cell_type": "code",
      "execution_count": 12,
      "metadata": {
        "colab": {
          "base_uri": "https://localhost:8080/"
        },
        "id": "yRQxAFLlysnU",
        "outputId": "751c1b28-e074-4029-8ef3-42924b88f826"
      },
      "outputs": [
        {
          "name": "stdout",
          "output_type": "stream",
          "text": [
            "There are 88 features\n",
            "['tempo', 'rms_harmonic_mean', 'rms_harmonic_var', 'rms_percussive_mean', 'rms_percussive_var', 'spectral_centroid_mean', 'spectral_centroid_var', 'spectral_rolloff_mean', 'spectral_rolloff_var', 'zero_crossings', 'chroma_stft_0_mean', 'chroma_stft_1_mean', 'chroma_stft_2_mean', 'chroma_stft_3_mean', 'chroma_stft_4_mean', 'chroma_stft_5_mean', 'chroma_stft_6_mean', 'chroma_stft_7_mean', 'chroma_stft_8_mean', 'chroma_stft_9_mean', 'chroma_stft_10_mean', 'chroma_stft_11_mean', 'chroma_stft_0_var', 'chroma_stft_1_var', 'chroma_stft_2_var', 'chroma_stft_3_var', 'chroma_stft_4_var', 'chroma_stft_5_var', 'chroma_stft_6_var', 'chroma_stft_7_var', 'chroma_stft_8_var', 'chroma_stft_9_var', 'chroma_stft_10_var', 'chroma_stft_11_var', 'MFCC_1_mean', 'MFCC_2_mean', 'MFCC_3_mean', 'MFCC_4_mean', 'MFCC_5_mean', 'MFCC_6_mean', 'MFCC_7_mean', 'MFCC_8_mean', 'MFCC_9_mean', 'MFCC_10_mean', 'MFCC_11_mean', 'MFCC_12_mean', 'MFCC_13_mean', 'MFCC_14_mean', 'MFCC_15_mean', 'MFCC_16_mean', 'MFCC_17_mean', 'MFCC_18_mean', 'MFCC_19_mean', 'MFCC_20_mean', 'MFCC_1_var', 'MFCC_2_var', 'MFCC_3_var', 'MFCC_4_var', 'MFCC_5_var', 'MFCC_6_var', 'MFCC_7_var', 'MFCC_8_var', 'MFCC_9_var', 'MFCC_10_var', 'MFCC_11_var', 'MFCC_12_var', 'MFCC_13_var', 'MFCC_14_var', 'MFCC_15_var', 'MFCC_16_var', 'MFCC_17_var', 'MFCC_18_var', 'MFCC_19_var', 'MFCC_20_var', 'key_A', 'key_Ab', 'key_B', 'key_Bb', 'key_C', 'key_C#', 'key_D', 'key_E', 'key_Eb', 'key_F', 'key_F#', 'key_G', 'scale_major', 'scale_minor']\n",
            "There are 13 classes, they are: ['Hip-Hop' 'Pop' 'Rock' 'Folk' 'Experimental' 'Jazz' 'Electronic'\n",
            " 'International' 'Soul-RnB' 'Country' 'Classical' 'Old-Time / Historic'\n",
            " 'Instrumental']\n"
          ]
        }
      ],
      "source": [
        "#convert categorical variables/target class to code\n",
        "df_train = df.copy()\n",
        "# df_train['key'] = LabelEncoder().fit_transform(df_train['key'])\n",
        "# df_train['scale'] = LabelEncoder().fit_transform(df_train['scale'])\n",
        "df_train['track_genre_top'] = LabelEncoder().fit_transform(df_train['track_genre_top'])\n",
        "\n",
        "feature_cols = list(df_train.columns[7:])\n",
        "print(f'There are {len(feature_cols)} features')\n",
        "print(feature_cols)\n",
        "target_col = 'track_genre_top'\n",
        "classes = df[target_col].unique()\n",
        "num_class = len(classes)\n",
        "print(f'There are {num_class} classes, they are:', classes)"
      ]
    },
    {
      "cell_type": "code",
      "execution_count": 13,
      "metadata": {
        "colab": {
          "base_uri": "https://localhost:8080/"
        },
        "id": "fwELD4duXiOF",
        "outputId": "f32a8462-3f68-4863-84a0-840c664f7de1"
      },
      "outputs": [
        {
          "data": {
            "text/plain": [
              "Rock                   7098\n",
              "Electronic             6311\n",
              "Experimental           2250\n",
              "Hip-Hop                2197\n",
              "Folk                   1518\n",
              "Instrumental           1349\n",
              "Pop                    1186\n",
              "International          1018\n",
              "Classical               619\n",
              "Old-Time / Historic     510\n",
              "Jazz                    384\n",
              "Country                 178\n",
              "Soul-RnB                154\n",
              "Name: track_genre_top, dtype: int64"
            ]
          },
          "execution_count": 13,
          "metadata": {},
          "output_type": "execute_result"
        }
      ],
      "source": [
        "df[target_col].value_counts()"
      ]
    },
    {
      "cell_type": "code",
      "execution_count": 15,
      "metadata": {
        "colab": {
          "base_uri": "https://localhost:8080/"
        },
        "id": "aSi2gBBglFAe",
        "outputId": "782a7c41-9d67-4b83-9313-4ab4e6a41cbb"
      },
      "outputs": [
        {
          "name": "stdout",
          "output_type": "stream",
          "text": [
            "Training data: (19744, 88)\n",
            "Testing data: (2546, 88)\n",
            "Validation data: (2482, 88)\n"
          ]
        }
      ],
      "source": [
        "#Define train/test/validation & apply scaling\n",
        "df_training = df_train.loc[df_train['set_split']=='training'].dropna()\n",
        "df_testing = df_train.loc[df_train['set_split']=='test'].dropna()\n",
        "df_validation = df_train.loc[df_train['set_split']=='validation'].dropna()\n",
        "\n",
        "scaler = StandardScaler()\n",
        "\n",
        "X_train = scaler.fit_transform(df_training[feature_cols])\n",
        "y_train =  df_training[target_col].values\n",
        "X_test = scaler.fit_transform(df_testing[feature_cols])\n",
        "y_test = df_testing[target_col].values\n",
        "X_val = scaler.fit_transform(df_validation[feature_cols])\n",
        "y_val = df_validation[target_col].values\n",
        "print('Training data:',X_train.shape)\n",
        "print('Testing data:',X_test.shape)\n",
        "print('Validation data:',X_val.shape)"
      ]
    },
    {
      "cell_type": "code",
      "execution_count": 16,
      "metadata": {
        "colab": {
          "base_uri": "https://localhost:8080/"
        },
        "id": "ZMbth9Y33_gc",
        "outputId": "c6e5818a-5dbe-4dba-b8bc-1e229dceeb58"
      },
      "outputs": [
        {
          "name": "stdout",
          "output_type": "stream",
          "text": [
            "Oversampled X_train: (73801, 88)\n"
          ]
        }
      ],
      "source": [
        "#Oversample minority classes\n",
        "##In the end we did not use oversampled because it performed worse than un-sampled data\n",
        "smote = SMOTE(random_state=42)\n",
        "X_train_resampled, y_train_resampled = smote.fit_resample(X_train, y_train)\n",
        "print('Oversampled X_train:', X_train_resampled.shape)"
      ]
    },
    {
      "cell_type": "markdown",
      "metadata": {
        "id": "sKr9udbOMwAC"
      },
      "source": [
        "## 2. Build Models & Tune Hyperparameters\n",
        "#### *You can skip this part and go straight to running the final model"
      ]
    },
    {
      "cell_type": "code",
      "execution_count": null,
      "metadata": {
        "colab": {
          "base_uri": "https://localhost:8080/"
        },
        "id": "8GYVw1EjG_HX",
        "outputId": "89083e47-0bcd-4d91-cc5e-f13bb16b58c8"
      },
      "outputs": [],
      "source": [
        "\n",
        "\n",
        "# Define hyperparameters to tune\n",
        "learning_rates = [0.0001, 0.001, 0.01, 0.1]\n",
        "batch_sizes = [32, 64, 128]\n",
        "hidden_layer_sizes = [[128,64,32], [256,128,64,32], [512,256,128,64,32]]\n",
        "dropout_rates = [0.2, 0.5]\n",
        "\n",
        "\n",
        "best_accuracy = 0\n",
        "best_hyperparameters = None\n",
        "\n",
        "# Grid search over hyperparameters\n",
        "for lr in learning_rates:\n",
        "    for batch_size in batch_sizes:\n",
        "          for dropout_rate in dropout_rates:\n",
        "              K.clear_session()  # Clear previous model\n",
        "              model = Sequential()\n",
        "\n",
        "              for hidden_size in hidden_layer_sizes:\n",
        "                  for size in hidden_size:\n",
        "                      model.add(Dense(size, activation='relu'))\n",
        "                      model.add(Dropout(dropout_rate))\n",
        "              model.add(Dense(num_class, activation='softmax'))\n",
        "\n",
        "              optimizer = Adam(learning_rate=lr)\n",
        "              model.compile(optimizer=optimizer, loss='sparse_categorical_crossentropy', metrics=['accuracy'])\n",
        "\n",
        "              # Early stopping to prevent overfitting\n",
        "              early_stopping = EarlyStopping(monitor='val_loss', patience=3, restore_best_weights=True)\n",
        "\n",
        "              history = model.fit(X_train, y_train, validation_data=(X_val, y_val),\n",
        "                                    epochs=20, batch_size=batch_size, callbacks=[early_stopping])\n",
        "\n",
        "              # Evaluate model on validation set\n",
        "              _, accuracy = model.evaluate(X_val, y_val, verbose=0)\n",
        "\n",
        "              # Check if this set of hyperparameters improved accuracy\n",
        "              if accuracy > best_accuracy:\n",
        "                    best_accuracy = accuracy\n",
        "                    best_hyperparameters = {'lr': lr, 'batch_size': batch_size, 'hidden_layer_size': hidden_size, 'dropout_rate': dropout_rate}\n",
        "                    best_model = model\n",
        "# Print the best hyperparameters\n",
        "print(\"Best Hyperparameters:\", best_hyperparameters)"
      ]
    },
    {
      "cell_type": "code",
      "execution_count": 9,
      "metadata": {
        "colab": {
          "base_uri": "https://localhost:8080/"
        },
        "id": "HM8nvx9WN77G",
        "outputId": "06b6303e-060b-4db0-d617-18326284d835"
      },
      "outputs": [
        {
          "data": {
            "text/plain": [
              "{'lr': 0.001,\n",
              " 'batch_size': 128,\n",
              " 'hidden_layer_size': [512, 256, 128, 64, 32],\n",
              " 'dropout_rate': 0.2}"
            ]
          },
          "execution_count": 9,
          "metadata": {},
          "output_type": "execute_result"
        }
      ],
      "source": [
        "best_hyperparameters"
      ]
    },
    {
      "cell_type": "code",
      "execution_count": 10,
      "metadata": {
        "colab": {
          "base_uri": "https://localhost:8080/"
        },
        "id": "xZKdv3doruye",
        "outputId": "d87cca8e-2d6f-4eb0-e81d-fb5d0424e6bf"
      },
      "outputs": [
        {
          "name": "stdout",
          "output_type": "stream",
          "text": [
            "20/20 [==============================] - 0s 2ms/step - loss: 1.4869 - accuracy: 0.5416\n",
            "The test loss is : 1.4869064092636108\n",
            "\n",
            "The test Accuracy is : 0.5416339635848999\n"
          ]
        }
      ],
      "source": [
        "test_loss, test_accuracy = best_model.evaluate(X_test, y_test, batch_size=128)\n",
        "print(\"The test loss is :\",test_loss)\n",
        "print(\"\\nThe test Accuracy is :\",test_accuracy)"
      ]
    },
    {
      "cell_type": "markdown",
      "metadata": {
        "id": "tZ1DYpLtM4Hi"
      },
      "source": [
        "## 3. Retrain final model using the best model architecture & hyperparameters"
      ]
    },
    {
      "cell_type": "code",
      "execution_count": 17,
      "metadata": {
        "colab": {
          "base_uri": "https://localhost:8080/"
        },
        "id": "_6pWO83rLylx",
        "outputId": "48cd1fe3-0a11-4926-8319-0efc56daf570"
      },
      "outputs": [
        {
          "name": "stdout",
          "output_type": "stream",
          "text": [
            "Model: \"sequential\"\n",
            "_________________________________________________________________\n",
            " Layer (type)                Output Shape              Param #   \n",
            "=================================================================\n",
            " dense (Dense)               (None, 512)               45568     \n",
            "                                                                 \n",
            " dropout (Dropout)           (None, 512)               0         \n",
            "                                                                 \n",
            " dense_1 (Dense)             (None, 256)               131328    \n",
            "                                                                 \n",
            " dropout_1 (Dropout)         (None, 256)               0         \n",
            "                                                                 \n",
            " dense_2 (Dense)             (None, 128)               32896     \n",
            "                                                                 \n",
            " dropout_2 (Dropout)         (None, 128)               0         \n",
            "                                                                 \n",
            " dense_3 (Dense)             (None, 64)                8256      \n",
            "                                                                 \n",
            " dropout_3 (Dropout)         (None, 64)                0         \n",
            "                                                                 \n",
            " dense_4 (Dense)             (None, 32)                2080      \n",
            "                                                                 \n",
            " dropout_4 (Dropout)         (None, 32)                0         \n",
            "                                                                 \n",
            " dense_5 (Dense)             (None, 13)                429       \n",
            "                                                                 \n",
            "=================================================================\n",
            "Total params: 220557 (861.55 KB)\n",
            "Trainable params: 220557 (861.55 KB)\n",
            "Non-trainable params: 0 (0.00 Byte)\n",
            "_________________________________________________________________\n"
          ]
        },
        {
          "name": "stderr",
          "output_type": "stream",
          "text": [
            "WARNING:absl:At this time, the v2.11+ optimizer `tf.keras.optimizers.Adam` runs slowly on M1/M2 Macs, please use the legacy Keras optimizer instead, located at `tf.keras.optimizers.legacy.Adam`.\n",
            "WARNING:absl:`lr` is deprecated in Keras optimizer, please use `learning_rate` or use the legacy optimizer, e.g.,tf.keras.optimizers.legacy.Adam.\n"
          ]
        },
        {
          "name": "stdout",
          "output_type": "stream",
          "text": [
            "None\n",
            "Epoch 1/30\n",
            "155/155 [==============================] - 1s 4ms/step - loss: 1.7292 - accuracy: 0.4545 - val_loss: 1.3694 - val_accuracy: 0.5999\n",
            "Epoch 2/30\n",
            "155/155 [==============================] - 1s 4ms/step - loss: 1.4722 - accuracy: 0.5423 - val_loss: 1.3016 - val_accuracy: 0.6072\n",
            "Epoch 3/30\n",
            "155/155 [==============================] - 1s 4ms/step - loss: 1.3936 - accuracy: 0.5727 - val_loss: 1.2816 - val_accuracy: 0.6096\n",
            "Epoch 4/30\n",
            "155/155 [==============================] - 1s 4ms/step - loss: 1.3337 - accuracy: 0.5918 - val_loss: 1.2480 - val_accuracy: 0.6217\n",
            "Epoch 5/30\n",
            "155/155 [==============================] - 1s 4ms/step - loss: 1.2923 - accuracy: 0.6056 - val_loss: 1.2343 - val_accuracy: 0.6221\n",
            "Epoch 6/30\n",
            "155/155 [==============================] - 1s 4ms/step - loss: 1.2489 - accuracy: 0.6169 - val_loss: 1.2384 - val_accuracy: 0.6205\n",
            "Epoch 7/30\n",
            "155/155 [==============================] - 1s 4ms/step - loss: 1.2231 - accuracy: 0.6247 - val_loss: 1.2202 - val_accuracy: 0.6193\n",
            "Epoch 8/30\n",
            "155/155 [==============================] - 1s 4ms/step - loss: 1.1887 - accuracy: 0.6336 - val_loss: 1.2168 - val_accuracy: 0.6297\n",
            "Epoch 9/30\n",
            "155/155 [==============================] - 1s 4ms/step - loss: 1.1686 - accuracy: 0.6360 - val_loss: 1.2166 - val_accuracy: 0.6225\n",
            "Epoch 10/30\n",
            "155/155 [==============================] - 1s 4ms/step - loss: 1.1447 - accuracy: 0.6453 - val_loss: 1.2279 - val_accuracy: 0.6031\n",
            "Epoch 11/30\n",
            "155/155 [==============================] - 1s 4ms/step - loss: 1.1244 - accuracy: 0.6554 - val_loss: 1.2370 - val_accuracy: 0.6160\n",
            "Epoch 12/30\n",
            "155/155 [==============================] - 1s 4ms/step - loss: 1.0861 - accuracy: 0.6622 - val_loss: 1.2489 - val_accuracy: 0.6144\n",
            "Epoch 13/30\n",
            "155/155 [==============================] - 1s 4ms/step - loss: 1.0705 - accuracy: 0.6648 - val_loss: 1.2210 - val_accuracy: 0.6209\n",
            "Epoch 14/30\n",
            "155/155 [==============================] - 1s 4ms/step - loss: 1.0407 - accuracy: 0.6751 - val_loss: 1.2117 - val_accuracy: 0.6277\n",
            "Epoch 15/30\n",
            "155/155 [==============================] - 1s 4ms/step - loss: 1.0280 - accuracy: 0.6785 - val_loss: 1.2339 - val_accuracy: 0.6269\n",
            "Epoch 16/30\n",
            "155/155 [==============================] - 1s 4ms/step - loss: 1.0083 - accuracy: 0.6848 - val_loss: 1.2475 - val_accuracy: 0.6084\n",
            "Epoch 17/30\n",
            "155/155 [==============================] - 1s 4ms/step - loss: 0.9859 - accuracy: 0.6924 - val_loss: 1.2501 - val_accuracy: 0.6257\n",
            "Epoch 18/30\n",
            "155/155 [==============================] - 1s 4ms/step - loss: 0.9731 - accuracy: 0.6972 - val_loss: 1.2451 - val_accuracy: 0.6156\n",
            "Epoch 19/30\n",
            "155/155 [==============================] - 1s 4ms/step - loss: 0.9391 - accuracy: 0.7059 - val_loss: 1.2772 - val_accuracy: 0.6076\n",
            "Epoch 20/30\n",
            "155/155 [==============================] - 1s 4ms/step - loss: 0.9197 - accuracy: 0.7104 - val_loss: 1.3068 - val_accuracy: 0.6076\n",
            "Epoch 21/30\n",
            "155/155 [==============================] - 1s 4ms/step - loss: 0.9088 - accuracy: 0.7114 - val_loss: 1.2876 - val_accuracy: 0.6120\n",
            "Epoch 22/30\n",
            "155/155 [==============================] - 1s 4ms/step - loss: 0.8934 - accuracy: 0.7150 - val_loss: 1.2735 - val_accuracy: 0.6128\n",
            "Epoch 23/30\n",
            "155/155 [==============================] - 1s 4ms/step - loss: 0.8782 - accuracy: 0.7241 - val_loss: 1.2829 - val_accuracy: 0.6120\n",
            "Epoch 24/30\n",
            "155/155 [==============================] - 1s 4ms/step - loss: 0.8589 - accuracy: 0.7294 - val_loss: 1.2829 - val_accuracy: 0.6116\n",
            "Epoch 25/30\n",
            "155/155 [==============================] - 1s 4ms/step - loss: 0.8474 - accuracy: 0.7336 - val_loss: 1.3131 - val_accuracy: 0.6152\n",
            "Epoch 26/30\n",
            "155/155 [==============================] - 1s 4ms/step - loss: 0.8249 - accuracy: 0.7398 - val_loss: 1.3139 - val_accuracy: 0.6112\n",
            "Epoch 27/30\n",
            "155/155 [==============================] - 1s 4ms/step - loss: 0.8085 - accuracy: 0.7413 - val_loss: 1.3069 - val_accuracy: 0.6084\n",
            "Epoch 28/30\n",
            "155/155 [==============================] - 1s 4ms/step - loss: 0.7956 - accuracy: 0.7475 - val_loss: 1.3082 - val_accuracy: 0.6104\n",
            "Epoch 29/30\n",
            "155/155 [==============================] - 1s 4ms/step - loss: 0.7793 - accuracy: 0.7556 - val_loss: 1.3318 - val_accuracy: 0.6023\n",
            "Epoch 30/30\n",
            "155/155 [==============================] - 1s 4ms/step - loss: 0.7724 - accuracy: 0.7516 - val_loss: 1.3506 - val_accuracy: 0.6044\n",
            "20/20 [==============================] - 0s 1ms/step - loss: 1.5877 - accuracy: 0.5679\n",
            "The test loss is : 1.5877492427825928\n",
            "\n",
            "The test Accuracy is : 0.5679497122764587\n"
          ]
        }
      ],
      "source": [
        "from keras.models import Sequential\n",
        "from keras.layers import Dense, Dropout\n",
        "from keras.optimizers import Adam\n",
        "\n",
        "model = keras.models.Sequential([\n",
        "    keras.layers.Dense(512, activation=\"relu\", input_shape=(X_train.shape[1],)),\n",
        "    keras.layers.Dropout(0.2),\n",
        "\n",
        "    keras.layers.Dense(256,activation=\"relu\"),\n",
        "    keras.layers.Dropout(0.2),\n",
        "\n",
        "    keras.layers.Dense(128,activation=\"relu\"),\n",
        "    keras.layers.Dropout(0.2),\n",
        "\n",
        "    keras.layers.Dense(64,activation=\"relu\"),\n",
        "    keras.layers.Dropout(0.2),\n",
        "\n",
        "    keras.layers.Dense(32,activation=\"relu\"),\n",
        "    keras.layers.Dropout(0.2),\n",
        "\n",
        "    keras.layers.Dense(num_class, activation=\"softmax\"),\n",
        "\n",
        "])\n",
        "print(model.summary())\n",
        "model.compile(optimizer=Adam(lr=0.001),\n",
        "                  loss='sparse_categorical_crossentropy',\n",
        "                   metrics='accuracy')\n",
        "\n",
        "model.fit(X_train, y_train, validation_data=(X_val, y_val), epochs=30,\n",
        "                     batch_size=128)\n",
        "\n",
        "test_loss, test_accuracy = model.evaluate(X_test, y_test, batch_size=128)\n",
        "print(\"The test loss is :\",test_loss)\n",
        "print(\"\\nThe test Accuracy is :\",test_accuracy)\n"
      ]
    },
    {
      "cell_type": "code",
      "execution_count": 18,
      "metadata": {
        "colab": {
          "base_uri": "https://localhost:8080/"
        },
        "id": "x4LXPhloWu86",
        "outputId": "30531dfb-bb64-47d0-88b7-fc60e5518181"
      },
      "outputs": [
        {
          "name": "stdout",
          "output_type": "stream",
          "text": [
            "80/80 [==============================] - 0s 723us/step\n",
            "Classification Report:\n",
            "              precision    recall  f1-score   support\n",
            "\n",
            "           0       0.78      0.69      0.74        62\n",
            "           1       0.00      0.00      0.00        18\n",
            "           2       0.61      0.70      0.65       632\n",
            "           3       0.39      0.32      0.35       225\n",
            "           4       0.25      0.26      0.25       152\n",
            "           5       0.62      0.68      0.65       220\n",
            "           6       0.35      0.16      0.22       174\n",
            "           7       0.40      0.33      0.36       102\n",
            "           8       0.47      0.38      0.42        39\n",
            "           9       0.91      0.96      0.93        51\n",
            "          10       0.14      0.09      0.11       119\n",
            "          11       0.66      0.79      0.72       710\n",
            "          12       0.00      0.00      0.00        42\n",
            "\n",
            "    accuracy                           0.57      2546\n",
            "   macro avg       0.43      0.41      0.42      2546\n",
            "weighted avg       0.53      0.57      0.54      2546\n",
            "\n",
            "Confusion Matrix:\n",
            "[[ 43   0   1   4   1   1   9   1   1   0   0   1   0]\n",
            " [  0   0   4   0   0   4   0   0   0   0   1   9   0]\n",
            " [  4   1 443  35   9  41  14  15   1   0  11  58   0]\n",
            " [  1   0  58  72  16   5  11   5   3   0   5  49   0]\n",
            " [  0   2  16  14  39   0   5   7   2   4  15  48   0]\n",
            " [  0   0  46   4   1 149   1   6   2   0   2   9   0]\n",
            " [  2   0  31  23  41   1  27   1   1   0  10  37   0]\n",
            " [  2   0  12   1  21   5   1  34   0   0   5  21   0]\n",
            " [  2   0   4   2   5   0   4   2  15   0   0   5   0]\n",
            " [  0   0   0   2   0   0   0   0   0  49   0   0   0]\n",
            " [  0   1  45   6   9  12   0   5   2   0  11  28   0]\n",
            " [  1   2  50  22  17  20   5   8   4   1  16 564   0]\n",
            " [  0   0  11   0   0   4   0   1   1   0   0  25   0]]\n",
            "Accuracy: 0.5679497250589159\n",
            "Precision: 0.5300821221719568\n",
            "Recall: 0.5679497250589159\n",
            "F1 Score: 0.5430419705800736\n"
          ]
        },
        {
          "name": "stderr",
          "output_type": "stream",
          "text": [
            "/Users/1108232/PycharmProjects/MADS-699-Capstone-fa23-team12/venv/lib/python3.9/site-packages/sklearn/metrics/_classification.py:1344: UndefinedMetricWarning: Precision and F-score are ill-defined and being set to 0.0 in labels with no predicted samples. Use `zero_division` parameter to control this behavior.\n",
            "  _warn_prf(average, modifier, msg_start, len(result))\n",
            "/Users/1108232/PycharmProjects/MADS-699-Capstone-fa23-team12/venv/lib/python3.9/site-packages/sklearn/metrics/_classification.py:1344: UndefinedMetricWarning: Precision and F-score are ill-defined and being set to 0.0 in labels with no predicted samples. Use `zero_division` parameter to control this behavior.\n",
            "  _warn_prf(average, modifier, msg_start, len(result))\n",
            "/Users/1108232/PycharmProjects/MADS-699-Capstone-fa23-team12/venv/lib/python3.9/site-packages/sklearn/metrics/_classification.py:1344: UndefinedMetricWarning: Precision and F-score are ill-defined and being set to 0.0 in labels with no predicted samples. Use `zero_division` parameter to control this behavior.\n",
            "  _warn_prf(average, modifier, msg_start, len(result))\n",
            "/Users/1108232/PycharmProjects/MADS-699-Capstone-fa23-team12/venv/lib/python3.9/site-packages/sklearn/metrics/_classification.py:1344: UndefinedMetricWarning: Precision is ill-defined and being set to 0.0 in labels with no predicted samples. Use `zero_division` parameter to control this behavior.\n",
            "  _warn_prf(average, modifier, msg_start, len(result))\n"
          ]
        }
      ],
      "source": [
        "from sklearn.metrics import classification_report, confusion_matrix, accuracy_score, f1_score, precision_score, recall_score\n",
        "\n",
        "# Evaluate the model on the test set\n",
        "y_pred = model.predict(X_test)\n",
        "y_pred_classes = np.argmax(y_pred, axis=1)  # Use argmax for categorical predictions\n",
        "\n",
        "\n",
        "# Print classification report\n",
        "print(\"Classification Report:\")\n",
        "print(classification_report(y_test, y_pred_classes))\n",
        "\n",
        "# Print confusion matrix\n",
        "print(\"Confusion Matrix:\")\n",
        "print(confusion_matrix(y_test, y_pred_classes))\n",
        "\n",
        "# Print accuracy\n",
        "accuracy = accuracy_score(y_test, y_pred_classes)\n",
        "print(\"Accuracy:\", accuracy)\n",
        "\n",
        "# Print precision\n",
        "precision = precision_score(y_test, y_pred_classes, average='weighted')\n",
        "print(\"Precision:\", precision)\n",
        "\n",
        "# Print recall\n",
        "recall = recall_score(y_test, y_pred_classes, average='weighted')\n",
        "print(\"Recall:\", recall)\n",
        "\n",
        "# Print F1 score\n",
        "f1 = f1_score(y_test, y_pred_classes, average='weighted')\n",
        "print(\"F1 Score:\", f1)"
      ]
    },
    {
      "cell_type": "code",
      "execution_count": 19,
      "metadata": {},
      "outputs": [
        {
          "data": {
            "text/plain": [
              "array([[ 43,   0,   1,   4,   1,   1,   9,   1,   1,   0,   0,   1,   0],\n",
              "       [  0,   0,   4,   0,   0,   4,   0,   0,   0,   0,   1,   9,   0],\n",
              "       [  4,   1, 443,  35,   9,  41,  14,  15,   1,   0,  11,  58,   0],\n",
              "       [  1,   0,  58,  72,  16,   5,  11,   5,   3,   0,   5,  49,   0],\n",
              "       [  0,   2,  16,  14,  39,   0,   5,   7,   2,   4,  15,  48,   0],\n",
              "       [  0,   0,  46,   4,   1, 149,   1,   6,   2,   0,   2,   9,   0],\n",
              "       [  2,   0,  31,  23,  41,   1,  27,   1,   1,   0,  10,  37,   0],\n",
              "       [  2,   0,  12,   1,  21,   5,   1,  34,   0,   0,   5,  21,   0],\n",
              "       [  2,   0,   4,   2,   5,   0,   4,   2,  15,   0,   0,   5,   0],\n",
              "       [  0,   0,   0,   2,   0,   0,   0,   0,   0,  49,   0,   0,   0],\n",
              "       [  0,   1,  45,   6,   9,  12,   0,   5,   2,   0,  11,  28,   0],\n",
              "       [  1,   2,  50,  22,  17,  20,   5,   8,   4,   1,  16, 564,   0],\n",
              "       [  0,   0,  11,   0,   0,   4,   0,   1,   1,   0,   0,  25,   0]])"
            ]
          },
          "execution_count": 19,
          "metadata": {},
          "output_type": "execute_result"
        }
      ],
      "source": [
        "confusion_matrix(y_test, y_pred_classes)"
      ]
    },
    {
      "cell_type": "code",
      "execution_count": 20,
      "metadata": {},
      "outputs": [
        {
          "name": "stderr",
          "output_type": "stream",
          "text": [
            "/Users/1108232/PycharmProjects/MADS-699-Capstone-fa23-team12/venv/lib/python3.9/site-packages/keras/src/engine/training.py:3103: UserWarning: You are saving your model as an HDF5 file via `model.save()`. This file format is considered legacy. We recommend using instead the native Keras format, e.g. `model.save('my_model.keras')`.\n",
            "  saving_api.save_model(\n"
          ]
        }
      ],
      "source": [
        "model.save('../../../models/final_models/cnn_genre_prediction.h5')"
      ]
    },
    {
      "cell_type": "code",
      "execution_count": 21,
      "metadata": {},
      "outputs": [
        {
          "data": {
            "text/plain": [
              "numpy.ndarray"
            ]
          },
          "execution_count": 21,
          "metadata": {},
          "output_type": "execute_result"
        }
      ],
      "source": [
        "type(X_train)"
      ]
    },
    {
      "cell_type": "code",
      "execution_count": 22,
      "metadata": {},
      "outputs": [
        {
          "name": "stderr",
          "output_type": "stream",
          "text": [
            "PermutationExplainer explainer: 1001it [01:26, 10.48it/s]                          \n"
          ]
        }
      ],
      "source": [
        "# to get feature importances\n",
        "\n",
        "import shap\n",
        "\n",
        "background = X_train[np.random.choice(X_train.shape[0], 10000, replace=False)]\n",
        "\n",
        "# Create a SHAP Explainer\n",
        "explainer = shap.Explainer(model, background)\n",
        "\n",
        "# Select a sample (or multiple samples) for explanation\n",
        "sample = X_test[np.random.choice(X_test.shape[0], 1000, replace=False)]\n",
        "\n",
        "# Calculate SHAP values\n",
        "shap_values = explainer(sample)\n"
      ]
    },
    {
      "cell_type": "code",
      "execution_count": 88,
      "metadata": {},
      "outputs": [],
      "source": [
        "feature_importances_per_class = {}\n",
        "\n",
        "# Iterate over each class (label)\n",
        "for label_index in range(shap_values.shape[2]):\n",
        "    # Calculate mean absolute SHAP values for each feature for this label\n",
        "    mean_abs_shap_per_feature = np.abs(shap_values.values[:, :, label_index]).mean(axis=0)\n",
        "    \n",
        "    # Assuming 'feature_cols' is a list of your feature names\n",
        "    feature_importances_per_class[f'Label_{label_index}'] = dict(zip(feature_cols, mean_abs_shap_per_feature))\n",
        "\n",
        "# Convert the dictionary to a DataFrame for easier handling\n",
        "df_feature_importances = pd.DataFrame(feature_importances_per_class)\n",
        "\n"
      ]
    },
    {
      "cell_type": "code",
      "execution_count": 99,
      "metadata": {},
      "outputs": [],
      "source": [
        "cnn_fi_df = pd.DataFrame(df_feature_importances.T.mean()).T"
      ]
    },
    {
      "cell_type": "code",
      "execution_count": 101,
      "metadata": {},
      "outputs": [],
      "source": [
        "cnn_fi_df.to_csv('../../../data/resources/cnn_feature_importances.csv')"
      ]
    }
  ],
  "metadata": {
    "colab": {
      "provenance": []
    },
    "kernelspec": {
      "display_name": "Python 3",
      "name": "python3"
    },
    "language_info": {
      "codemirror_mode": {
        "name": "ipython",
        "version": 3
      },
      "file_extension": ".py",
      "mimetype": "text/x-python",
      "name": "python",
      "nbconvert_exporter": "python",
      "pygments_lexer": "ipython3",
      "version": "3.9.12"
    }
  },
  "nbformat": 4,
  "nbformat_minor": 0
}
