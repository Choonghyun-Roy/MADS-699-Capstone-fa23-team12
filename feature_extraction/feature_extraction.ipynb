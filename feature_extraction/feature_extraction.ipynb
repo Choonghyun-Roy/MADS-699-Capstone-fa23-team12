{
 "cells": [
  {
   "cell_type": "code",
   "execution_count": null,
   "metadata": {},
   "outputs": [],
   "source": [
    "# You should run this after preprocessing\n",
    "# Iterate the feature_extract function according to the \"tracks_with_genre_small.csv\""
   ]
  },
  {
   "cell_type": "code",
   "execution_count": null,
   "metadata": {},
   "outputs": [],
   "source": [
    "import librosa as lb\n",
    "import csv\n",
    "import numpy as np\n",
    "import pandas as pd\n",
    "import os"
   ]
  },
  {
   "cell_type": "code",
   "execution_count": null,
   "metadata": {},
   "outputs": [],
   "source": [
    "AUDIO_FILE_HOME='../datasets/fma_small_flatten/'\n",
    "FEATURE_OUTPUT_HOME='./features'\n",
    "META_FILE = '../preprocessing/datasets/tracks_with_genre_small.csv'"
   ]
  },
  {
   "cell_type": "code",
   "execution_count": null,
   "metadata": {},
   "outputs": [],
   "source": [
    "def extract_zero_crossings(y, sr, filename, output_filename):\n",
    "    zero_crossings = np.sum(lb.zero_crossings(y))\n",
    "    df = pd.DataFrame([[filename, zero_crossings]], columns=['track_id', 'zero_crossings'])\n",
    "    df.to_csv(f\"{FEATURE_OUTPUT_HOME}/{output_filename}\", mode='a', header=False, index=False)\n",
    "\n",
    "def extract_tempo(y, sr, filename, output_filename):\n",
    "    onset_env = lb.onset.onset_strength(y=y, sr=sr)\n",
    "    tempo, _ = lb.beat.beat_track(onset_envelope=onset_env, sr=sr)\n",
    "    df = pd.DataFrame([[filename, tempo]], columns=['track_id', 'tempo'])\n",
    "    df.to_csv(f\"{FEATURE_OUTPUT_HOME}/{output_filename}\", mode='a', header=False, index=False)\n",
    "\n",
    "def extract_spectral_centroid(y, sr, filename, output_filename):\n",
    "    spectral_centroid = np.mean(lb.feature.spectral_centroid(y=y, sr=sr))\n",
    "    df = pd.DataFrame([[filename, spectral_centroid]], columns=['track_id', 'spectral_centroid'])\n",
    "    df.to_csv(f\"{FEATURE_OUTPUT_HOME}/{output_filename}\", mode='a', header=False, index=False)\n",
    "\n",
    "def extract_spectral_rolloff(y, sr, filename, output_filename):\n",
    "    spectral_rolloff = np.mean(lb.feature.spectral_rolloff(y=y, sr=sr))\n",
    "    df = pd.DataFrame([[filename, spectral_rolloff]], columns=['track_id', 'spectral_rolloff'])\n",
    "    df.to_csv(f\"{FEATURE_OUTPUT_HOME}/{output_filename}\", mode='a', header=False, index=False)\n",
    "\n",
    "def extract_chroma_stft(y, sr, filename, output_filename):\n",
    "    chroma_stft = np.mean(lb.feature.chroma_stft(y=y, sr=sr), axis=1)\n",
    "    data = [filename] + list(chroma_stft)\n",
    "    df = pd.DataFrame([data], columns=['track_id'] + [f'chroma_stft_{i}' for i in range(1, 13)])\n",
    "    df.to_csv(f\"{FEATURE_OUTPUT_HOME}/{output_filename}\", mode='a', header=False, index=False)\n",
    "\n",
    "def extract_mfccs(y, sr, filename, output_filename):\n",
    "    mfccs = lb.feature.mfcc(y=y, sr=sr, n_mfcc=13)\n",
    "    mfccs_mean = np.mean(mfccs, axis=1)\n",
    "    data = [filename] + list(mfccs_mean)\n",
    "    df = pd.DataFrame([data], columns=['track_id'] + [f'MFCC_{i}' for i in range(1, 14)])\n",
    "    df.to_csv(f\"{FEATURE_OUTPUT_HOME}/{output_filename}\", mode='a', header=False, index=False)\n"
   ]
  },
  {
   "cell_type": "code",
   "execution_count": null,
   "metadata": {},
   "outputs": [],
   "source": [
    "# Create CSV headers\n",
    "headers = {\n",
    "    'zero_crossings.csv': ['track_id', 'zero_crossings'],\n",
    "    'tempo.csv': ['track_id', 'tempo'],\n",
    "    'spectral_centroid.csv': ['track_id', 'spectral_centroid'],\n",
    "    'spectral_rolloff.csv': ['track_id', 'spectral_rolloff'],\n",
    "    'chroma_stft.csv': ['track_id'] + [f'chroma_stft_{i}' for i in range(1, 13)],\n",
    "    'mfccs.csv': ['track_id'] + [f'MFCC_{i}' for i in range(1, 14)]\n",
    "}\n",
    "\n",
    "for key, value in headers.items():\n",
    "    pd.DataFrame(columns=value).to_csv(f\"{FEATURE_OUTPUT_HOME}/{key}\", index=False)"
   ]
  },
  {
   "cell_type": "code",
   "execution_count": null,
   "metadata": {},
   "outputs": [],
   "source": [
    "file_list = os.listdir(AUDIO_FILE_HOME)\n",
    "\n",
    "for filename in file_list:\n",
    "    track_id = filename[:-4]\n",
    "    print(f\"track_id: \", track_id)\n",
    "    print(f\"filename: \", filename)\n",
    "    \n",
    "    y, sr = lb.load(f\"{AUDIO_FILE_HOME}{filename}\") \n",
    "    extract_zero_crossings(y, sr, track_id, 'zero_crossings.csv')\n",
    "    extract_tempo(y, sr, track_id, 'tempo.csv')\n",
    "    extract_spectral_centroid(y, sr, track_id, 'spectral_centroid.csv')\n",
    "    extract_spectral_rolloff(y, sr, track_id, 'spectral_rolloff.csv')\n",
    "    extract_chroma_stft(y, sr, track_id, 'chroma_stft.csv')\n",
    "    extract_mfccs(y, sr, track_id, 'mfccs.csv')   \n",
    "        "
   ]
  },
  {
   "cell_type": "code",
   "execution_count": null,
   "metadata": {},
   "outputs": [],
   "source": []
  },
  {
   "cell_type": "code",
   "execution_count": null,
   "metadata": {},
   "outputs": [],
   "source": []
  }
 ],
 "metadata": {
  "kernelspec": {
   "display_name": "venv",
   "language": "python",
   "name": "python3"
  },
  "language_info": {
   "codemirror_mode": {
    "name": "ipython",
    "version": 3
   },
   "file_extension": ".py",
   "mimetype": "text/x-python",
   "name": "python",
   "nbconvert_exporter": "python",
   "pygments_lexer": "ipython3",
   "version": "3.9.12"
  },
  "orig_nbformat": 4
 },
 "nbformat": 4,
 "nbformat_minor": 2
}
