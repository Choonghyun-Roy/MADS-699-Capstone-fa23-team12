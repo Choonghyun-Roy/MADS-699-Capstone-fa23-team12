{
 "cells": [
  {
   "cell_type": "code",
   "execution_count": null,
   "metadata": {},
   "outputs": [],
   "source": [
    "# You should run this after preprocessing\n",
    "# Iterate the feature_extract function according to the \"tracks_with_genre_small.csv\""
   ]
  },
  {
   "cell_type": "code",
   "execution_count": 2,
   "metadata": {},
   "outputs": [],
   "source": [
    "import librosa as lb\n",
    "import csv\n",
    "import numpy as np\n",
    "import pandas as pd\n",
    "import os\n",
    "import essentia.standard as es"
   ]
  },
  {
   "cell_type": "code",
   "execution_count": 4,
   "metadata": {},
   "outputs": [],
   "source": [
    "AUDIO_FILE_HOME='../datasets/fma_medium_flatten/'\n",
    "FEATURE_OUTPUT_HOME='./features'\n",
    "META_FILE = '../preprocessing/datasets/tracks_with_genre_medium.csv'"
   ]
  },
  {
   "cell_type": "code",
   "execution_count": 1,
   "metadata": {},
   "outputs": [],
   "source": [
    "def save_to_csv(data, columns, output_filename):\n",
    "    df = pd.DataFrame([data], columns=columns)\n",
    "    df.to_csv(f\"{FEATURE_OUTPUT_HOME}/{output_filename}\", mode='a', header=False, index=False)\n",
    "\n",
    "def extract_feature_stats(y, sr, feature_func, *args, **kwargs):\n",
    "    feature_values = feature_func(y=y, sr=sr, *args, **kwargs)\n",
    "    mean = np.mean(feature_values, axis=1)\n",
    "    var = np.var(feature_values, axis=1)\n",
    "    return mean, var   # Returns mean and variance\n",
    "\n",
    "def extract_zero_crossings(y, sr, filename, output_filename):\n",
    "    zero_crossings = np.sum(lb.zero_crossings(y))\n",
    "    save_to_csv([filename, zero_crossings], ['track_id', 'zero_crossings'], output_filename)\n",
    "\n",
    "def extract_tempo(y, sr, filename, output_filename):\n",
    "    onset_env = lb.onset.onset_strength(y=y, sr=sr)\n",
    "    tempo, _ = lb.beat.beat_track(onset_envelope=onset_env, sr=sr)\n",
    "    # Since tempo is a single value, variance is not applicable. We save tempo as is.\n",
    "    save_to_csv([filename, tempo], ['track_id', 'tempo'], output_filename)\n",
    "\n",
    "def extract_spectral_centroid(y, sr, filename, output_filename):\n",
    "    spectral_centroid = lb.feature.spectral_centroid(y=y, sr=sr)\n",
    "    sc_mean, sc_var = np.mean(spectral_centroid), np.var(spectral_centroid)\n",
    "    save_to_csv([filename, sc_mean, sc_var], ['track_id', 'spectral_centroid_mean', 'spectral_centroid_var'], output_filename)\n",
    "\n",
    "def extract_spectral_rolloff(y, sr, filename, output_filename):\n",
    "    spectral_rolloff = lb.feature.spectral_rolloff(y=y, sr=sr)\n",
    "    sr_mean, sr_var = np.mean(spectral_rolloff), np.var(spectral_rolloff)\n",
    "    save_to_csv([filename, sr_mean, sr_var], ['track_id', 'spectral_rolloff_mean', 'spectral_rolloff_var'], output_filename)\n",
    "\n",
    "def extract_chroma_stft(y, sr, filename, output_filename):\n",
    "    chroma_mean, chroma_var = extract_feature_stats(y, sr, lb.feature.chroma_stft)\n",
    "    data = [filename] + list(chroma_mean) + list(chroma_var)\n",
    "    columns = ['track_id'] + [f'chroma_stft_{i}_mean' for i in range(12)] + [f'chroma_stft_{i}_var' for i in range(12)]\n",
    "    save_to_csv(data, columns, output_filename)\n",
    "\n",
    "def extract_mfccs(y, sr, filename, output_filename):\n",
    "    mfccs_mean, mfccs_var = extract_feature_stats(y, sr, lb.feature.mfcc, n_mfcc=20)\n",
    "    data = [filename] + list(mfccs_mean) + list(mfccs_var)\n",
    "    columns = ['track_id'] + [f'MFCC_{i}_mean' for i in range(1, 21)] + [f'MFCC_{i}_var' for i in range(1, 21)]\n",
    "    save_to_csv(data, columns, output_filename)\n",
    "\n",
    "def extract_harmony_percussive(y, sr, filename, output_filename):\n",
    "    y_harmonic, y_percussive = lb.effects.hpss(y)\n",
    "    rms_harmonic_mean = np.mean(lb.feature.rms(y=y_harmonic))\n",
    "    rms_harmonic_var = np.var(lb.feature.rms(y=y_harmonic))\n",
    "    rms_percussive_mean = np.mean(lb.feature.rms(y=y_percussive))\n",
    "    rms_percussive_var = np.var(lb.feature.rms(y=y_percussive))\n",
    "    save_to_csv([filename, rms_harmonic_mean, rms_harmonic_var, rms_percussive_mean, rms_percussive_var], \n",
    "                ['track_id', 'rms_harmonic_mean', 'rms_harmonic_var', 'rms_percussive_mean', 'rms_percussive_var'], output_filename)\n",
    "    \n",
    "def extract_key_scale(filename, ouput_filename):  \n",
    "    track_id = filename[:-4]\n",
    "     \n",
    "    loader = es.MonoLoader(filename=f\"{AUDIO_FILE_HOME}{filename}\")\n",
    "    audio = loader()\n",
    "\n",
    "    # Extract the key and scale (mode)\n",
    "    key_extractor = es.KeyExtractor()\n",
    "    key, scale, strength = key_extractor(audio)\n",
    "\n",
    "    # print(f\"Key: {key}, Scale: {scale}, Strength: {strength}\")\n",
    "    save_to_csv([track_id, key, scale, strength],['track_id', 'key', 'scale', 'strength'], ouput_filename)\n",
    "    \n",
    "# Add more feature extraction functions if necessary, following the pattern shown above."
   ]
  },
  {
   "cell_type": "code",
   "execution_count": 12,
   "metadata": {},
   "outputs": [],
   "source": [
    "# Create CSV headers\n",
    "headers = {\n",
    "    'zero_crossings_m.csv': ['track_id', 'zero_crossings'],\n",
    "    'tempo_m.csv': ['track_id', 'tempo'],\n",
    "    'spectral_centroid_m.csv': ['track_id', 'spectral_centroid_mean', 'spectral_centroid_var'],\n",
    "    'spectral_rolloff_m.csv': ['track_id', 'spectral_rolloff_mean', 'spectral_rolloff_var'],\n",
    "    'chroma_stft_m.csv': ['track_id'] + [f'chroma_stft_{i}_mean' for i in range(12)] + [f'chroma_stft_{i}_var' for i in range(12)],\n",
    "    'mfccs_m.csv': ['track_id'] + [f'MFCC_{i}_mean' for i in range(1, 21)] + [f'MFCC_{i}_var' for i in range(1, 21)],\n",
    "    'hpss_m.csv': ['track_id', 'rms_harmonic_mean', 'rms_harmonic_var', 'rms_percussive_mean', 'rms_percussive_var'],\n",
    "    'key_scale_m.csv': ['track_id', 'key', 'scale', 'strength']\n",
    "}\n",
    "\n",
    "for key, value in headers.items():\n",
    "    pd.DataFrame(columns=value).to_csv(f\"{FEATURE_OUTPUT_HOME}/{key}\", index=False)"
   ]
  },
  {
   "cell_type": "code",
   "execution_count": 5,
   "metadata": {},
   "outputs": [],
   "source": [
    "# to operate seperately \n",
    "def split_list_by_three(lst):\n",
    "    # Determine the length of each chunk\n",
    "    chunk_size = len(lst) // 3\n",
    "    remainder = len(lst) % 3\n",
    "\n",
    "    # Initialize the indices for slicing\n",
    "    first_cut = chunk_size + (1 if remainder > 0 else 0)\n",
    "    second_cut = first_cut + chunk_size + (1 if remainder > 1 else 0)\n",
    "\n",
    "    # Split the list\n",
    "    first_part = lst[0:first_cut]\n",
    "    second_part = lst[first_cut:second_cut]\n",
    "    third_part = lst[second_cut:]\n",
    "\n",
    "    return first_part, second_part, third_part"
   ]
  },
  {
   "cell_type": "code",
   "execution_count": 8,
   "metadata": {},
   "outputs": [],
   "source": [
    "file_list = sorted(os.listdir(AUDIO_FILE_HOME))\n",
    "# to operate seperately\n",
    "# first, second, third = split_list_by_three(file_list)"
   ]
  },
  {
   "cell_type": "code",
   "execution_count": 9,
   "metadata": {},
   "outputs": [
    {
     "data": {
      "text/plain": [
       "25000"
      ]
     },
     "execution_count": 9,
     "metadata": {},
     "output_type": "execute_result"
    }
   ],
   "source": [
    "len(file_list)"
   ]
  },
  {
   "cell_type": "code",
   "execution_count": 13,
   "metadata": {},
   "outputs": [
    {
     "name": "stdout",
     "output_type": "stream",
     "text": [
      "total number:  21521\n",
      "complete: {index} /  020209.mp3\n",
      "complete: {index} /  020749.mp3\n",
      "complete: {index} /  021555.mp3\n"
     ]
    },
    {
     "name": "stderr",
     "output_type": "stream",
     "text": [
      "[src/libmpg123/layer3.c:INT123_do_layer3():1801] error: dequantization failed!\n"
     ]
    },
    {
     "name": "stdout",
     "output_type": "stream",
     "text": [
      "complete: {index} /  022088.mp3\n",
      "complete: {index} /  022479.mp3\n",
      "complete: {index} /  023482.mp3\n",
      "complete: {index} /  024178.mp3\n",
      "complete: {index} /  024831.mp3\n"
     ]
    },
    {
     "name": "stderr",
     "output_type": "stream",
     "text": [
      "/Users/1108232/PycharmProjects/MADS-699-Capstone-fa23-team12/venv/lib/python3.9/site-packages/librosa/util/decorators.py:88: UserWarning: Trying to estimate tuning from empty frequency set.\n",
      "  return f(*args, **kwargs)\n"
     ]
    },
    {
     "name": "stdout",
     "output_type": "stream",
     "text": [
      "complete: {index} /  025172.mp3\n",
      "complete: {index} /  026244.mp3\n",
      "complete: {index} /  026804.mp3\n",
      "complete: {index} /  027551.mp3\n",
      "complete: {index} /  028120.mp3\n",
      "complete: {index} /  029041.mp3\n"
     ]
    },
    {
     "name": "stderr",
     "output_type": "stream",
     "text": [
      "[src/libmpg123/layer3.c:INT123_do_layer3():1801] error: dequantization failed!\n"
     ]
    },
    {
     "name": "stdout",
     "output_type": "stream",
     "text": [
      "complete: {index} /  029813.mp3\n",
      "complete: {index} /  030247.mp3\n",
      "complete: {index} /  031145.mp3\n"
     ]
    },
    {
     "name": "stderr",
     "output_type": "stream",
     "text": [
      "[src/libmpg123/layer3.c:INT123_do_layer3():1801] error: dequantization failed!\n",
      "[src/libmpg123/layer3.c:INT123_do_layer3():1801] error: dequantization failed!\n"
     ]
    },
    {
     "name": "stdout",
     "output_type": "stream",
     "text": [
      "complete: {index} /  032055.mp3\n",
      "complete: {index} /  032684.mp3\n",
      "complete: {index} /  033126.mp3\n",
      "complete: {index} /  033953.mp3\n",
      "complete: {index} /  034982.mp3\n",
      "complete: {index} /  036052.mp3\n",
      "complete: {index} /  036474.mp3\n"
     ]
    },
    {
     "name": "stderr",
     "output_type": "stream",
     "text": [
      "[src/libmpg123/layer3.c:INT123_do_layer3():1801] error: dequantization failed!\n"
     ]
    },
    {
     "name": "stdout",
     "output_type": "stream",
     "text": [
      "complete: {index} /  037159.mp3\n",
      "complete: {index} /  038326.mp3\n",
      "complete: {index} /  038879.mp3\n",
      "complete: {index} /  039683.mp3\n",
      "complete: {index} /  040276.mp3\n",
      "complete: {index} /  040790.mp3\n"
     ]
    },
    {
     "name": "stderr",
     "output_type": "stream",
     "text": [
      "/Users/1108232/PycharmProjects/MADS-699-Capstone-fa23-team12/venv/lib/python3.9/site-packages/librosa/util/decorators.py:88: UserWarning: Trying to estimate tuning from empty frequency set.\n",
      "  return f(*args, **kwargs)\n"
     ]
    },
    {
     "name": "stdout",
     "output_type": "stream",
     "text": [
      "complete: {index} /  041457.mp3\n",
      "complete: {index} /  042138.mp3\n"
     ]
    },
    {
     "name": "stderr",
     "output_type": "stream",
     "text": [
      "/Users/1108232/PycharmProjects/MADS-699-Capstone-fa23-team12/venv/lib/python3.9/site-packages/librosa/util/decorators.py:88: UserWarning: Trying to estimate tuning from empty frequency set.\n",
      "  return f(*args, **kwargs)\n"
     ]
    },
    {
     "name": "stdout",
     "output_type": "stream",
     "text": [
      "complete: {index} /  042730.mp3\n",
      "complete: {index} /  043057.mp3\n",
      "complete: {index} /  043699.mp3\n",
      "complete: {index} /  044286.mp3\n"
     ]
    },
    {
     "name": "stderr",
     "output_type": "stream",
     "text": [
      "/Users/1108232/PycharmProjects/MADS-699-Capstone-fa23-team12/venv/lib/python3.9/site-packages/librosa/util/decorators.py:88: UserWarning: Trying to estimate tuning from empty frequency set.\n",
      "  return f(*args, **kwargs)\n"
     ]
    },
    {
     "name": "stdout",
     "output_type": "stream",
     "text": [
      "complete: {index} /  045055.mp3\n",
      "complete: {index} /  045934.mp3\n",
      "complete: {index} /  046505.mp3\n",
      "complete: {index} /  047160.mp3\n",
      "complete: {index} /  047772.mp3\n",
      "complete: {index} /  048326.mp3\n",
      "complete: {index} /  048805.mp3\n"
     ]
    },
    {
     "name": "stderr",
     "output_type": "stream",
     "text": [
      "/Users/1108232/PycharmProjects/MADS-699-Capstone-fa23-team12/venv/lib/python3.9/site-packages/librosa/util/decorators.py:88: UserWarning: Trying to estimate tuning from empty frequency set.\n",
      "  return f(*args, **kwargs)\n"
     ]
    },
    {
     "name": "stdout",
     "output_type": "stream",
     "text": [
      "complete: {index} /  049531.mp3\n",
      "complete: {index} /  050616.mp3\n",
      "complete: {index} /  051202.mp3\n",
      "complete: {index} /  051713.mp3\n",
      "complete: {index} /  052119.mp3\n",
      "complete: {index} /  052630.mp3\n",
      "complete: {index} /  053458.mp3\n",
      "complete: {index} /  054125.mp3\n",
      "complete: {index} /  054496.mp3\n"
     ]
    },
    {
     "name": "stderr",
     "output_type": "stream",
     "text": [
      "[src/libmpg123/layer3.c:INT123_do_layer3():1773] error: part2_3_length (3360) too large for available bit count (3240)\n",
      "[src/libmpg123/layer3.c:INT123_do_layer3():1773] error: part2_3_length (3328) too large for available bit count (3240)\n"
     ]
    },
    {
     "name": "stdout",
     "output_type": "stream",
     "text": [
      "complete: {index} /  054937.mp3\n"
     ]
    },
    {
     "name": "stderr",
     "output_type": "stream",
     "text": [
      "[src/libmpg123/layer3.c:INT123_do_layer3():1801] error: dequantization failed!\n"
     ]
    },
    {
     "name": "stdout",
     "output_type": "stream",
     "text": [
      "complete: {index} /  055398.mp3\n"
     ]
    },
    {
     "name": "stderr",
     "output_type": "stream",
     "text": [
      "[src/libmpg123/layer3.c:INT123_do_layer3():1801] error: dequantization failed!\n",
      "/Users/1108232/PycharmProjects/MADS-699-Capstone-fa23-team12/venv/lib/python3.9/site-packages/librosa/util/decorators.py:88: UserWarning: Trying to estimate tuning from empty frequency set.\n",
      "  return f(*args, **kwargs)\n"
     ]
    },
    {
     "name": "stdout",
     "output_type": "stream",
     "text": [
      "complete: {index} /  055913.mp3\n",
      "complete: {index} /  056518.mp3\n",
      "complete: {index} /  056944.mp3\n",
      "complete: {index} /  057508.mp3\n",
      "complete: {index} /  057993.mp3\n",
      "complete: {index} /  058605.mp3\n",
      "complete: {index} /  059483.mp3\n",
      "complete: {index} /  059936.mp3\n",
      "complete: {index} /  060477.mp3\n",
      "complete: {index} /  060895.mp3\n",
      "complete: {index} /  061748.mp3\n",
      "complete: {index} /  062194.mp3\n",
      "complete: {index} /  062834.mp3\n",
      "complete: {index} /  063355.mp3\n",
      "complete: {index} /  063762.mp3\n",
      "complete: {index} /  064338.mp3\n",
      "complete: {index} /  064630.mp3\n",
      "complete: {index} /  065063.mp3\n"
     ]
    },
    {
     "name": "stderr",
     "output_type": "stream",
     "text": [
      "/Users/1108232/PycharmProjects/MADS-699-Capstone-fa23-team12/venv/lib/python3.9/site-packages/librosa/util/decorators.py:88: UserWarning: PySoundFile failed. Trying audioread instead.\n",
      "  return f(*args, **kwargs)\n",
      "[src/libmpg123/parse.c:do_readahead():1099] warning: Cannot read next header, a one-frame stream? Duh...\n"
     ]
    },
    {
     "name": "stdout",
     "output_type": "stream",
     "text": [
      "7196\n",
      "\n",
      "complete: {index} /  065777.mp3\n",
      "complete: {index} /  066449.mp3\n",
      "complete: {index} /  066854.mp3\n",
      "complete: {index} /  066998.mp3\n",
      "complete: {index} /  067474.mp3\n",
      "complete: {index} /  068231.mp3\n",
      "complete: {index} /  068710.mp3\n"
     ]
    },
    {
     "name": "stderr",
     "output_type": "stream",
     "text": [
      "/Users/1108232/PycharmProjects/MADS-699-Capstone-fa23-team12/venv/lib/python3.9/site-packages/librosa/util/decorators.py:88: UserWarning: Trying to estimate tuning from empty frequency set.\n",
      "  return f(*args, **kwargs)\n"
     ]
    },
    {
     "name": "stdout",
     "output_type": "stream",
     "text": [
      "complete: {index} /  069208.mp3\n",
      "complete: {index} /  069788.mp3\n",
      "complete: {index} /  070275.mp3\n",
      "complete: {index} /  070887.mp3\n",
      "complete: {index} /  071231.mp3\n",
      "complete: {index} /  071419.mp3\n",
      "complete: {index} /  071823.mp3\n",
      "complete: {index} /  072146.mp3\n",
      "complete: {index} /  072730.mp3\n",
      "complete: {index} /  073468.mp3\n"
     ]
    },
    {
     "name": "stderr",
     "output_type": "stream",
     "text": [
      "[src/libmpg123/layer3.c:INT123_do_layer3():1841] error: dequantization failed!\n"
     ]
    },
    {
     "name": "stdout",
     "output_type": "stream",
     "text": [
      "complete: {index} /  074141.mp3\n",
      "complete: {index} /  074910.mp3\n",
      "complete: {index} /  075306.mp3\n",
      "complete: {index} /  075714.mp3\n",
      "complete: {index} /  076120.mp3\n",
      "complete: {index} /  077384.mp3\n",
      "complete: {index} /  078843.mp3\n",
      "complete: {index} /  079920.mp3\n"
     ]
    },
    {
     "name": "stderr",
     "output_type": "stream",
     "text": [
      "/Users/1108232/PycharmProjects/MADS-699-Capstone-fa23-team12/venv/lib/python3.9/site-packages/librosa/util/decorators.py:88: UserWarning: Trying to estimate tuning from empty frequency set.\n",
      "  return f(*args, **kwargs)\n",
      "/Users/1108232/PycharmProjects/MADS-699-Capstone-fa23-team12/venv/lib/python3.9/site-packages/librosa/util/decorators.py:88: UserWarning: PySoundFile failed. Trying audioread instead.\n",
      "  return f(*args, **kwargs)\n",
      "[src/libmpg123/parse.c:do_readahead():1099] warning: Cannot read next header, a one-frame stream? Duh...\n"
     ]
    },
    {
     "name": "stdout",
     "output_type": "stream",
     "text": [
      "9667\n",
      "\n",
      "complete: {index} /  080646.mp3\n",
      "complete: {index} /  081512.mp3\n"
     ]
    },
    {
     "name": "stderr",
     "output_type": "stream",
     "text": [
      "/Users/1108232/PycharmProjects/MADS-699-Capstone-fa23-team12/venv/lib/python3.9/site-packages/librosa/util/decorators.py:88: UserWarning: Trying to estimate tuning from empty frequency set.\n",
      "  return f(*args, **kwargs)\n",
      "/Users/1108232/PycharmProjects/MADS-699-Capstone-fa23-team12/venv/lib/python3.9/site-packages/librosa/util/decorators.py:88: UserWarning: Trying to estimate tuning from empty frequency set.\n",
      "  return f(*args, **kwargs)\n"
     ]
    },
    {
     "name": "stdout",
     "output_type": "stream",
     "text": [
      "complete: {index} /  082231.mp3\n",
      "complete: {index} /  082708.mp3\n",
      "complete: {index} /  083633.mp3\n",
      "complete: {index} /  084141.mp3\n",
      "complete: {index} /  085042.mp3\n",
      "complete: {index} /  085813.mp3\n",
      "complete: {index} /  086263.mp3\n",
      "complete: {index} /  087102.mp3\n",
      "complete: {index} /  087511.mp3\n",
      "complete: {index} /  088925.mp3\n",
      "complete: {index} /  090406.mp3\n"
     ]
    },
    {
     "name": "stderr",
     "output_type": "stream",
     "text": [
      "/Users/1108232/PycharmProjects/MADS-699-Capstone-fa23-team12/venv/lib/python3.9/site-packages/librosa/util/decorators.py:88: UserWarning: Trying to estimate tuning from empty frequency set.\n",
      "  return f(*args, **kwargs)\n"
     ]
    },
    {
     "name": "stdout",
     "output_type": "stream",
     "text": [
      "complete: {index} /  091089.mp3\n",
      "complete: {index} /  091357.mp3\n",
      "complete: {index} /  091848.mp3\n",
      "complete: {index} /  092466.mp3\n",
      "complete: {index} /  093056.mp3\n",
      "complete: {index} /  093952.mp3\n",
      "complete: {index} /  094468.mp3\n",
      "complete: {index} /  095506.mp3\n",
      "complete: {index} /  096665.mp3\n",
      "complete: {index} /  097294.mp3\n",
      "complete: {index} /  097884.mp3\n",
      "complete: {index} /  098237.mp3\n"
     ]
    },
    {
     "name": "stderr",
     "output_type": "stream",
     "text": [
      "/Users/1108232/PycharmProjects/MADS-699-Capstone-fa23-team12/venv/lib/python3.9/site-packages/librosa/util/decorators.py:88: UserWarning: PySoundFile failed. Trying audioread instead.\n",
      "  return f(*args, **kwargs)\n",
      "[src/libmpg123/parse.c:do_readahead():1099] warning: Cannot read next header, a one-frame stream? Duh...\n"
     ]
    },
    {
     "name": "stdout",
     "output_type": "stream",
     "text": [
      "12147\n",
      "\n",
      "12148\n",
      "\n"
     ]
    },
    {
     "name": "stderr",
     "output_type": "stream",
     "text": [
      "[src/libmpg123/parse.c:do_readahead():1099] warning: Cannot read next header, a one-frame stream? Duh...\n",
      "/Users/1108232/PycharmProjects/MADS-699-Capstone-fa23-team12/venv/lib/python3.9/site-packages/librosa/util/decorators.py:88: UserWarning: PySoundFile failed. Trying audioread instead.\n",
      "  return f(*args, **kwargs)\n",
      "/Users/1108232/PycharmProjects/MADS-699-Capstone-fa23-team12/venv/lib/python3.9/site-packages/librosa/util/decorators.py:88: UserWarning: PySoundFile failed. Trying audioread instead.\n",
      "  return f(*args, **kwargs)\n",
      "[src/libmpg123/parse.c:do_readahead():1099] warning: Cannot read next header, a one-frame stream? Duh...\n"
     ]
    },
    {
     "name": "stdout",
     "output_type": "stream",
     "text": [
      "12149\n",
      "\n"
     ]
    },
    {
     "name": "stderr",
     "output_type": "stream",
     "text": [
      "Note: Illegal Audio-MPEG-Header 0x00000000 at offset 33361.\n",
      "Note: Trying to resync...\n",
      "Note: Skipped 1024 bytes in input.\n",
      "[src/libmpg123/parse.c:wetwork():1365] error: Giving up resync after 1024 bytes - your stream is not nice... (maybe increasing resync limit could help).\n",
      "/Users/1108232/PycharmProjects/MADS-699-Capstone-fa23-team12/venv/lib/python3.9/site-packages/librosa/util/decorators.py:88: UserWarning: PySoundFile failed. Trying audioread instead.\n",
      "  return f(*args, **kwargs)\n",
      "Note: Illegal Audio-MPEG-Header 0x00000000 at offset 187493.\n",
      "Note: Trying to resync...\n",
      "Note: Skipped 1024 bytes in input.\n",
      "[src/libmpg123/parse.c:wetwork():1365] error: Giving up resync after 1024 bytes - your stream is not nice... (maybe increasing resync limit could help).\n",
      "/Users/1108232/PycharmProjects/MADS-699-Capstone-fa23-team12/venv/lib/python3.9/site-packages/librosa/util/decorators.py:88: UserWarning: PySoundFile failed. Trying audioread instead.\n",
      "  return f(*args, **kwargs)\n",
      "Note: Illegal Audio-MPEG-Header 0x00000000 at offset 22401.\n",
      "Note: Trying to resync...\n",
      "Note: Skipped 1024 bytes in input.\n",
      "[src/libmpg123/parse.c:wetwork():1365] error: Giving up resync after 1024 bytes - your stream is not nice... (maybe increasing resync limit could help).\n",
      "/Users/1108232/PycharmProjects/MADS-699-Capstone-fa23-team12/venv/lib/python3.9/site-packages/librosa/util/decorators.py:88: UserWarning: PySoundFile failed. Trying audioread instead.\n",
      "  return f(*args, **kwargs)\n",
      "Note: Illegal Audio-MPEG-Header 0x00000000 at offset 106439.\n",
      "Note: Trying to resync...\n",
      "Note: Skipped 1024 bytes in input.\n",
      "[src/libmpg123/parse.c:wetwork():1365] error: Giving up resync after 1024 bytes - your stream is not nice... (maybe increasing resync limit could help).\n",
      "/Users/1108232/PycharmProjects/MADS-699-Capstone-fa23-team12/venv/lib/python3.9/site-packages/librosa/util/decorators.py:88: UserWarning: PySoundFile failed. Trying audioread instead.\n",
      "  return f(*args, **kwargs)\n",
      "[src/libmpg123/layer3.c:INT123_do_layer3():1801] error: dequantization failed!\n",
      "Note: Illegal Audio-MPEG-Header 0x00000000 at offset 63168.\n",
      "Note: Trying to resync...\n",
      "Note: Skipped 1024 bytes in input.\n",
      "[src/libmpg123/parse.c:wetwork():1365] error: Giving up resync after 1024 bytes - your stream is not nice... (maybe increasing resync limit could help).\n",
      "/Users/1108232/PycharmProjects/MADS-699-Capstone-fa23-team12/venv/lib/python3.9/site-packages/librosa/util/decorators.py:88: UserWarning: PySoundFile failed. Trying audioread instead.\n",
      "  return f(*args, **kwargs)\n",
      "[src/libmpg123/parse.c:do_readahead():1099] warning: Cannot read next header, a one-frame stream? Duh...\n",
      "/Users/1108232/PycharmProjects/MADS-699-Capstone-fa23-team12/venv/lib/python3.9/site-packages/librosa/util/decorators.py:88: UserWarning: PySoundFile failed. Trying audioread instead.\n",
      "  return f(*args, **kwargs)\n"
     ]
    },
    {
     "name": "stdout",
     "output_type": "stream",
     "text": [
      "12155\n",
      "\n",
      "complete: {index} /  098702.mp3\n",
      "complete: {index} /  099007.mp3\n"
     ]
    },
    {
     "name": "stderr",
     "output_type": "stream",
     "text": [
      "/Users/1108232/PycharmProjects/MADS-699-Capstone-fa23-team12/venv/lib/python3.9/site-packages/librosa/util/decorators.py:88: UserWarning: PySoundFile failed. Trying audioread instead.\n",
      "  return f(*args, **kwargs)\n",
      "[src/libmpg123/parse.c:do_readahead():1099] warning: Cannot read next header, a one-frame stream? Duh...\n"
     ]
    },
    {
     "name": "stdout",
     "output_type": "stream",
     "text": [
      "12357\n",
      "\n",
      "complete: {index} /  099308.mp3\n",
      "complete: {index} /  100514.mp3\n",
      "complete: {index} /  101948.mp3\n",
      "complete: {index} /  104074.mp3\n",
      "complete: {index} /  105099.mp3\n"
     ]
    },
    {
     "name": "stderr",
     "output_type": "stream",
     "text": [
      "/Users/1108232/PycharmProjects/MADS-699-Capstone-fa23-team12/venv/lib/python3.9/site-packages/librosa/util/decorators.py:88: UserWarning: PySoundFile failed. Trying audioread instead.\n",
      "  return f(*args, **kwargs)\n",
      "[src/libmpg123/parse.c:do_readahead():1099] warning: Cannot read next header, a one-frame stream? Duh...\n"
     ]
    },
    {
     "name": "stdout",
     "output_type": "stream",
     "text": [
      "12826\n",
      "\n",
      "complete: {index} /  105816.mp3\n"
     ]
    },
    {
     "name": "stderr",
     "output_type": "stream",
     "text": [
      "[src/libmpg123/layer3.c:INT123_do_layer3():1801] error: dequantization failed!\n"
     ]
    },
    {
     "name": "stdout",
     "output_type": "stream",
     "text": [
      "complete: {index} /  106691.mp3\n",
      "complete: {index} /  107183.mp3\n"
     ]
    },
    {
     "name": "stderr",
     "output_type": "stream",
     "text": [
      "/Users/1108232/PycharmProjects/MADS-699-Capstone-fa23-team12/venv/lib/python3.9/site-packages/librosa/util/decorators.py:88: UserWarning: Trying to estimate tuning from empty frequency set.\n",
      "  return f(*args, **kwargs)\n"
     ]
    },
    {
     "name": "stdout",
     "output_type": "stream",
     "text": [
      "complete: {index} /  107616.mp3\n",
      "complete: {index} /  108077.mp3\n",
      "complete: {index} /  108493.mp3\n"
     ]
    },
    {
     "name": "stderr",
     "output_type": "stream",
     "text": [
      "/Users/1108232/PycharmProjects/MADS-699-Capstone-fa23-team12/venv/lib/python3.9/site-packages/librosa/util/decorators.py:88: UserWarning: PySoundFile failed. Trying audioread instead.\n",
      "  return f(*args, **kwargs)\n",
      "[src/libmpg123/parse.c:do_readahead():1099] warning: Cannot read next header, a one-frame stream? Duh...\n"
     ]
    },
    {
     "name": "stdout",
     "output_type": "stream",
     "text": [
      "13480\n",
      "\n"
     ]
    },
    {
     "name": "stderr",
     "output_type": "stream",
     "text": [
      "[src/libmpg123/layer3.c:INT123_do_layer3():1801] error: dequantization failed!\n"
     ]
    },
    {
     "name": "stdout",
     "output_type": "stream",
     "text": [
      "complete: {index} /  108959.mp3\n",
      "complete: {index} /  109472.mp3\n",
      "complete: {index} /  110076.mp3\n"
     ]
    },
    {
     "name": "stderr",
     "output_type": "stream",
     "text": [
      "[src/libmpg123/layer3.c:INT123_do_layer3():1801] error: dequantization failed!\n"
     ]
    },
    {
     "name": "stdout",
     "output_type": "stream",
     "text": [
      "complete: {index} /  110629.mp3\n",
      "complete: {index} /  111183.mp3\n",
      "complete: {index} /  111640.mp3\n"
     ]
    },
    {
     "name": "stderr",
     "output_type": "stream",
     "text": [
      "/Users/1108232/PycharmProjects/MADS-699-Capstone-fa23-team12/venv/lib/python3.9/site-packages/librosa/util/decorators.py:88: UserWarning: Trying to estimate tuning from empty frequency set.\n",
      "  return f(*args, **kwargs)\n"
     ]
    },
    {
     "name": "stdout",
     "output_type": "stream",
     "text": [
      "complete: {index} /  111991.mp3\n",
      "complete: {index} /  112485.mp3\n"
     ]
    },
    {
     "name": "stderr",
     "output_type": "stream",
     "text": [
      "/Users/1108232/PycharmProjects/MADS-699-Capstone-fa23-team12/venv/lib/python3.9/site-packages/librosa/util/decorators.py:88: UserWarning: Trying to estimate tuning from empty frequency set.\n",
      "  return f(*args, **kwargs)\n"
     ]
    },
    {
     "name": "stdout",
     "output_type": "stream",
     "text": [
      "complete: {index} /  113137.mp3\n",
      "complete: {index} /  113409.mp3\n",
      "complete: {index} /  113969.mp3\n",
      "complete: {index} /  114293.mp3\n",
      "complete: {index} /  115005.mp3\n",
      "complete: {index} /  115725.mp3\n",
      "complete: {index} /  116297.mp3\n",
      "complete: {index} /  116569.mp3\n",
      "complete: {index} /  117173.mp3\n",
      "complete: {index} /  117887.mp3\n",
      "complete: {index} /  118499.mp3\n",
      "complete: {index} /  118923.mp3\n",
      "complete: {index} /  119753.mp3\n",
      "complete: {index} /  120208.mp3\n",
      "complete: {index} /  120781.mp3\n",
      "complete: {index} /  121451.mp3\n",
      "complete: {index} /  122003.mp3\n",
      "complete: {index} /  122398.mp3\n",
      "complete: {index} /  122710.mp3\n",
      "complete: {index} /  123106.mp3\n"
     ]
    },
    {
     "name": "stderr",
     "output_type": "stream",
     "text": [
      "/Users/1108232/PycharmProjects/MADS-699-Capstone-fa23-team12/venv/lib/python3.9/site-packages/librosa/util/decorators.py:88: UserWarning: Trying to estimate tuning from empty frequency set.\n",
      "  return f(*args, **kwargs)\n"
     ]
    },
    {
     "name": "stdout",
     "output_type": "stream",
     "text": [
      "complete: {index} /  123509.mp3\n",
      "complete: {index} /  123863.mp3\n",
      "complete: {index} /  124400.mp3\n",
      "complete: {index} /  124871.mp3\n"
     ]
    },
    {
     "name": "stderr",
     "output_type": "stream",
     "text": [
      "/Users/1108232/PycharmProjects/MADS-699-Capstone-fa23-team12/venv/lib/python3.9/site-packages/librosa/util/decorators.py:88: UserWarning: Trying to estimate tuning from empty frequency set.\n",
      "  return f(*args, **kwargs)\n"
     ]
    },
    {
     "name": "stdout",
     "output_type": "stream",
     "text": [
      "complete: {index} /  125238.mp3\n",
      "complete: {index} /  125694.mp3\n",
      "complete: {index} /  126220.mp3\n",
      "complete: {index} /  126517.mp3\n",
      "complete: {index} /  126892.mp3\n"
     ]
    },
    {
     "name": "stderr",
     "output_type": "stream",
     "text": [
      "/Users/1108232/PycharmProjects/MADS-699-Capstone-fa23-team12/venv/lib/python3.9/site-packages/librosa/util/decorators.py:88: UserWarning: PySoundFile failed. Trying audioread instead.\n",
      "  return f(*args, **kwargs)\n",
      "[src/libmpg123/parse.c:do_readahead():1099] warning: Cannot read next header, a one-frame stream? Duh...\n"
     ]
    },
    {
     "name": "stdout",
     "output_type": "stream",
     "text": [
      "17142\n",
      "\n",
      "complete: {index} /  127093.mp3\n",
      "complete: {index} /  127335.mp3\n"
     ]
    },
    {
     "name": "stderr",
     "output_type": "stream",
     "text": [
      "[src/libmpg123/parse.c:do_readahead():1099] warning: Cannot read next header, a one-frame stream? Duh...\n",
      "/Users/1108232/PycharmProjects/MADS-699-Capstone-fa23-team12/venv/lib/python3.9/site-packages/librosa/util/decorators.py:88: UserWarning: PySoundFile failed. Trying audioread instead.\n",
      "  return f(*args, **kwargs)\n"
     ]
    },
    {
     "name": "stdout",
     "output_type": "stream",
     "text": [
      "17301\n",
      "\n",
      "complete: {index} /  127870.mp3\n",
      "complete: {index} /  128835.mp3\n",
      "complete: {index} /  129270.mp3\n",
      "complete: {index} /  129688.mp3\n",
      "complete: {index} /  129970.mp3\n",
      "complete: {index} /  130581.mp3\n",
      "complete: {index} /  130929.mp3\n",
      "complete: {index} /  131416.mp3\n",
      "complete: {index} /  131815.mp3\n",
      "complete: {index} /  132139.mp3\n",
      "complete: {index} /  132667.mp3\n",
      "complete: {index} /  133102.mp3\n"
     ]
    },
    {
     "name": "stderr",
     "output_type": "stream",
     "text": [
      "[src/libmpg123/parse.c:do_readahead():1099] warning: Cannot read next header, a one-frame stream? Duh...\n",
      "/Users/1108232/PycharmProjects/MADS-699-Capstone-fa23-team12/venv/lib/python3.9/site-packages/librosa/util/decorators.py:88: UserWarning: PySoundFile failed. Trying audioread instead.\n",
      "  return f(*args, **kwargs)\n"
     ]
    },
    {
     "name": "stdout",
     "output_type": "stream",
     "text": [
      "18509\n",
      "\n",
      "complete: {index} /  133624.mp3\n",
      "complete: {index} /  134083.mp3\n",
      "complete: {index} /  134934.mp3\n",
      "complete: {index} /  135811.mp3\n",
      "complete: {index} /  136882.mp3\n",
      "complete: {index} /  137461.mp3\n",
      "complete: {index} /  137907.mp3\n"
     ]
    },
    {
     "name": "stderr",
     "output_type": "stream",
     "text": [
      "/Users/1108232/PycharmProjects/MADS-699-Capstone-fa23-team12/venv/lib/python3.9/site-packages/librosa/util/decorators.py:88: UserWarning: Trying to estimate tuning from empty frequency set.\n",
      "  return f(*args, **kwargs)\n"
     ]
    },
    {
     "name": "stdout",
     "output_type": "stream",
     "text": [
      "complete: {index} /  138136.mp3\n",
      "complete: {index} /  138918.mp3\n",
      "complete: {index} /  139723.mp3\n",
      "complete: {index} /  140332.mp3\n",
      "complete: {index} /  140941.mp3\n",
      "complete: {index} /  141593.mp3\n",
      "complete: {index} /  142376.mp3\n",
      "complete: {index} /  142671.mp3\n",
      "complete: {index} /  143293.mp3\n"
     ]
    },
    {
     "name": "stderr",
     "output_type": "stream",
     "text": [
      "/Users/1108232/PycharmProjects/MADS-699-Capstone-fa23-team12/venv/lib/python3.9/site-packages/librosa/util/decorators.py:88: UserWarning: PySoundFile failed. Trying audioread instead.\n",
      "  return f(*args, **kwargs)\n",
      "[src/libmpg123/parse.c:do_readahead():1099] warning: Cannot read next header, a one-frame stream? Duh...\n"
     ]
    },
    {
     "name": "stdout",
     "output_type": "stream",
     "text": [
      "20141\n",
      "\n",
      "complete: {index} /  144472.mp3\n",
      "complete: {index} /  145038.mp3\n",
      "complete: {index} /  145689.mp3\n",
      "complete: {index} /  145913.mp3\n",
      "complete: {index} /  146942.mp3\n",
      "complete: {index} /  147377.mp3\n",
      "complete: {index} /  148082.mp3\n",
      "complete: {index} /  148530.mp3\n",
      "complete: {index} /  148987.mp3\n",
      "complete: {index} /  149686.mp3\n",
      "complete: {index} /  150395.mp3\n",
      "complete: {index} /  151973.mp3\n",
      "complete: {index} /  152721.mp3\n",
      "complete: {index} /  155065.mp3\n"
     ]
    }
   ],
   "source": [
    "\n",
    "print(\"total number: \", len(file_list))\n",
    "for index, filename in enumerate(file_list):\n",
    "    track_id = filename[:-4]\n",
    "    # print(f\"track_id: \", track_id)\n",
    "    # print(f\"filename: \", filename)\n",
    "    if index % 100 == 0:\n",
    "        print('complete: {index} / ', filename)\n",
    "    try:\n",
    "        y, sr = lb.load(f\"{AUDIO_FILE_HOME}{filename}\") \n",
    "        extract_zero_crossings(y, sr, track_id, 'zero_crossings_m.csv')\n",
    "        extract_tempo(y, sr, track_id, 'tempo_m.csv')\n",
    "        extract_spectral_centroid(y, sr, track_id, 'spectral_centroid_m.csv')\n",
    "        extract_spectral_rolloff(y, sr, track_id, 'spectral_rolloff_m.csv')\n",
    "        extract_chroma_stft(y, sr, track_id, 'chroma_stft_m.csv')\n",
    "        extract_mfccs(y, sr, track_id, 'mfccs_m.csv')  \n",
    "        extract_harmony_percussive(y, sr, track_id, 'hpss_m.csv') \n",
    "        extract_key_scale(filename, 'key_scale_m.csv')\n",
    "    except Exception as e:\n",
    "        print(index)\n",
    "        print(e)\n",
    "        "
   ]
  },
  {
   "cell_type": "code",
   "execution_count": 15,
   "metadata": {},
   "outputs": [],
   "source": [
    "## merge features into a single file\n",
    "\n",
    "file_names = [\"tempo_m\", \"hpss_m\", \"spectral_centroid_m\", \"spectral_rolloff_m\", \"zero_crossings_m\", \"chroma_stft_m\", \"mfccs_m\", 'key_scale_m']\n",
    "\n",
    "# Using a list comprehension to read all dataframes into a list\n",
    "dfs = [pd.read_csv(f\"{FEATURE_OUTPUT_HOME}/{file_name}.csv\") for file_name in file_names]\n",
    "\n",
    "# Refactoring the merging process to be more concise\n",
    "merged_df = dfs[0]\n",
    "for df in dfs[1:]:\n",
    "    merged_df = merged_df.merge(df, on='track_id', how='outer')\n",
    "    "
   ]
  },
  {
   "cell_type": "code",
   "execution_count": 16,
   "metadata": {},
   "outputs": [],
   "source": [
    "merged_df.to_csv(f\"{FEATURE_OUTPUT_HOME}/all_features_medium_with_var.csv\")"
   ]
  }
 ],
 "metadata": {
  "kernelspec": {
   "display_name": "venv",
   "language": "python",
   "name": "python3"
  },
  "language_info": {
   "codemirror_mode": {
    "name": "ipython",
    "version": 3
   },
   "file_extension": ".py",
   "mimetype": "text/x-python",
   "name": "python",
   "nbconvert_exporter": "python",
   "pygments_lexer": "ipython3",
   "version": "3.9.12"
  },
  "orig_nbformat": 4
 },
 "nbformat": 4,
 "nbformat_minor": 2
}
